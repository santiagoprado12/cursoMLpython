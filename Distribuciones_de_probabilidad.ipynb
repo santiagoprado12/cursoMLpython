{
  "nbformat": 4,
  "nbformat_minor": 0,
  "metadata": {
    "colab": {
      "name": "Distribuciones de probabilidad",
      "provenance": [],
      "authorship_tag": "ABX9TyPa8nSck9nhz1R50XyaO10z",
      "include_colab_link": true
    },
    "kernelspec": {
      "display_name": "Python 3",
      "name": "python3"
    }
  },
  "cells": [
    {
      "cell_type": "markdown",
      "metadata": {
        "id": "view-in-github",
        "colab_type": "text"
      },
      "source": [
        "<a href=\"https://colab.research.google.com/github/santiagoprado12/cursoMLpython/blob/main/Distribuciones_de_probabilidad.ipynb\" target=\"_parent\"><img src=\"https://colab.research.google.com/assets/colab-badge.svg\" alt=\"Open In Colab\"/></a>"
      ]
    },
    {
      "cell_type": "markdown",
      "metadata": {
        "id": "-pk8JBC85-Vb"
      },
      "source": [
        "# **FUNCIONES DE DISTRIBUCION DE PROBABILIDADES**"
      ]
    },
    {
      "cell_type": "markdown",
      "metadata": {
        "id": "ihxmSng96D0u"
      },
      "source": [
        "## Distribucion uniforme"
      ]
    },
    {
      "cell_type": "code",
      "metadata": {
        "id": "FjB1wHxh6Dlz"
      },
      "source": [
        "import numpy as np\r\n",
        "import matplotlib.pyplot as plt"
      ],
      "execution_count": null,
      "outputs": []
    },
    {
      "cell_type": "code",
      "metadata": {
        "id": "GhcCXNxQ54nX"
      },
      "source": [
        "a=1\r\n",
        "b=100\r\n",
        "n=1000000\r\n",
        "data=np.random.uniform(a,b,n)"
      ],
      "execution_count": null,
      "outputs": []
    },
    {
      "cell_type": "code",
      "metadata": {
        "colab": {
          "base_uri": "https://localhost:8080/",
          "height": 367
        },
        "id": "8rU-h3ws6e8Z",
        "outputId": "899f2bbc-096d-41dc-81b0-392085c22d2b"
      },
      "source": [
        "%matplotlib inline\r\n",
        "plt.hist(data)"
      ],
      "execution_count": null,
      "outputs": [
        {
          "output_type": "execute_result",
          "data": {
            "text/plain": [
              "(array([100125., 100151.,  99645., 100141., 100034., 100240., 100115.,\n",
              "         99777.,  99922.,  99850.]),\n",
              " array([ 1.00026671, 10.90023906, 20.8002114 , 30.70018375, 40.60015609,\n",
              "        50.50012843, 60.40010078, 70.30007312, 80.20004547, 90.10001781,\n",
              "        99.99999015]),\n",
              " <a list of 10 Patch objects>)"
            ]
          },
          "metadata": {
            "tags": []
          },
          "execution_count": 13
        },
        {
          "output_type": "display_data",
          "data": {
            "image/png": "[encoded data removed]",
            "text/plain": [
              "<Figure size 432x288 with 1 Axes>"
            ]
          },
          "metadata": {
            "tags": []
          }
        }
      ]
    },
    {
      "cell_type": "markdown",
      "metadata": {
        "id": "emU3w2fM_cws"
      },
      "source": [
        "## Distribucion Normal"
      ]
    },
    {
      "cell_type": "code",
      "metadata": {
        "id": "O09LJwiw_cat"
      },
      "source": [
        "data=np.random.randn(1000000)"
      ],
      "execution_count": null,
      "outputs": []
    },
    {
      "cell_type": "code",
      "metadata": {
        "colab": {
          "base_uri": "https://localhost:8080/",
          "height": 295
        },
        "id": "9E-MMBpj6uh2",
        "outputId": "fe10c700-41b1-4f8d-c0ab-57c8a93254d9"
      },
      "source": [
        "x=range(1,1000001)\r\n",
        "plt.plot(x, data)"
      ],
      "execution_count": null,
      "outputs": [
        {
          "output_type": "execute_result",
          "data": {
            "text/plain": [
              "[<matplotlib.lines.Line2D at 0x7f916bcfdef0>]"
            ]
          },
          "metadata": {
            "tags": []
          },
          "execution_count": 20
        },
        {
          "output_type": "display_data",
          "data": {
            "image/png": "[encoded data removed]",
            "text/plain": [
              "<Figure size 432x288 with 1 Axes>"
            ]
          },
          "metadata": {
            "tags": []
          }
        }
      ]
    },
    {
      "cell_type": "code",
      "metadata": {
        "colab": {
          "base_uri": "https://localhost:8080/",
          "height": 370
        },
        "id": "zmrJji9H_yo2",
        "outputId": "e642aec6-4468-4c57-9816-3e407ba10f78"
      },
      "source": [
        "plt.hist(data)"
      ],
      "execution_count": null,
      "outputs": [
        {
          "output_type": "execute_result",
          "data": {
            "text/plain": [
              "(array([6.00000e+00, 3.40000e+02, 9.67900e+03, 9.21270e+04, 3.11124e+05,\n",
              "        3.83386e+05, 1.73147e+05, 2.85240e+04, 1.62600e+03, 4.10000e+01]),\n",
              " array([-5.47764359, -4.42639925, -3.37515492, -2.32391058, -1.27266625,\n",
              "        -0.22142191,  0.82982242,  1.88106676,  2.93231109,  3.98355543,\n",
              "         5.03479976]),\n",
              " <a list of 10 Patch objects>)"
            ]
          },
          "metadata": {
            "tags": []
          },
          "execution_count": 21
        },
        {
          "output_type": "display_data",
          "data": {
            "image/png": "[encoded data removed]",
            "text/plain": [
              "<Figure size 432x288 with 1 Axes>"
            ]
          },
          "metadata": {
            "tags": []
          }
        }
      ]
    },
    {
      "cell_type": "code",
      "metadata": {
        "colab": {
          "base_uri": "https://localhost:8080/",
          "height": 295
        },
        "id": "P0wPI3Nx__mY",
        "outputId": "40b5a859-17f9-462a-f6ee-0aaa6ce7c4de"
      },
      "source": [
        "plt.plot(x,sorted(data))"
      ],
      "execution_count": null,
      "outputs": [
        {
          "output_type": "execute_result",
          "data": {
            "text/plain": [
              "[<matplotlib.lines.Line2D at 0x7f916a4b1588>]"
            ]
          },
          "metadata": {
            "tags": []
          },
          "execution_count": 22
        },
        {
          "output_type": "display_data",
          "data": {
            "image/png": "[encoded data removed]",
            "text/plain": [
              "<Figure size 432x288 with 1 Axes>"
            ]
          },
          "metadata": {
            "tags": []
          }
        }
      ]
    },
    {
      "cell_type": "code",
      "metadata": {
        "colab": {
          "base_uri": "https://localhost:8080/",
          "height": 367
        },
        "id": "AKTX4idRAedl",
        "outputId": "fabe7ee2-5825-49b9-d9ad-c2f7d926e787"
      },
      "source": [
        "mu=5.5\r\n",
        "sd=2.5\r\n",
        "data=mu+sd*np.random.randn(10000)\r\n",
        "plt.hist(data)"
      ],
      "execution_count": null,
      "outputs": [
        {
          "output_type": "execute_result",
          "data": {
            "text/plain": [
              "(array([  25.,  129.,  675., 1875., 2979., 2580., 1257.,  401.,   72.,\n",
              "           7.]),\n",
              " array([-3.79683272, -1.86463182,  0.06756909,  1.99977   ,  3.93197091,\n",
              "         5.86417181,  7.79637272,  9.72857363, 11.66077454, 13.59297545,\n",
              "        15.52517635]),\n",
              " <a list of 10 Patch objects>)"
            ]
          },
          "metadata": {
            "tags": []
          },
          "execution_count": 26
        },
        {
          "output_type": "display_data",
          "data": {
            "image/png": "[encoded data removed]",
            "text/plain": [
              "<Figure size 432x288 with 1 Axes>"
            ]
          },
          "metadata": {
            "tags": []
          }
        }
      ]
    },
    {
      "cell_type": "code",
      "metadata": {
        "colab": {
          "base_uri": "https://localhost:8080/"
        },
        "id": "G7l0JvFWA9mY",
        "outputId": "94433b97-c768-4cb7-edf4-87187542e8cd"
      },
      "source": [
        "data=np.random.randn(2,4)\r\n",
        "data"
      ],
      "execution_count": null,
      "outputs": [
        {
          "output_type": "execute_result",
          "data": {
            "text/plain": [
              "array([[-1.8243132 ,  1.33668823,  1.18274326,  0.97586498],\n",
              "       [-0.31494977,  0.74442858,  0.97241907,  0.32386994]])"
            ]
          },
          "metadata": {
            "tags": []
          },
          "execution_count": 27
        }
      ]
    },
    {
      "cell_type": "markdown",
      "metadata": {
        "id": "dpEqyzt1DQyU"
      },
      "source": [
        "## La Simulacion de Monte Carlo"
      ]
    },
    {
      "cell_type": "markdown",
      "metadata": {
        "id": "B7pA73ARFGXf"
      },
      "source": [
        "generar 2 numeros aleatorios entre 0 y 1 \r\n",
        "\r\n",
        "\r\n",
        "calcular x * x + y * y\r\n",
        "\r\n",
        "si es mayor a 1 estamos dentro del  \r\n",
        "circulo, sino estamos fuera\r\n",
        "\r\n",
        "Se realizan 1000 experimentos y el valor final seria el promedio de todos"
      ]
    },
    {
      "cell_type": "code",
      "metadata": {
        "colab": {
          "background_save": true
        },
        "id": "T7dIiVRTBpG7",
        "outputId": "ba9a199a-73c4-42cc-9391-1b565ea76263"
      },
      "source": [
        "pi_avg=0\r\n",
        "n=10000\r\n",
        "pi_value_list=[]\r\n",
        "for i in range(1000):\r\n",
        "    value=0\r\n",
        "    x=np.random.uniform(0,1,n).tolist()\r\n",
        "    y=np.random.uniform(0,1,n).tolist()\r\n",
        "    for j in range(n):\r\n",
        "        z=np.sqrt((x[j]**2)+(y[j]**2))\r\n",
        "        if z<=1:\r\n",
        "            value +=1\r\n",
        "    float_value=float(value)\r\n",
        "    pi_value=float_value*4/n\r\n",
        "    pi_value_list.append(pi_value)\r\n",
        "    pi_avg += pi_value\r\n",
        "pi=pi_avg/100\r\n",
        "print(pi)\r\n",
        "plt.plot(pi_value_list)\r\n",
        "  "
      ],
      "execution_count": null,
      "outputs": [
        {
          "output_type": "stream",
          "text": [
            "31.413835999999996\n"
          ],
          "name": "stdout"
        },
        {
          "output_type": "execute_result",
          "data": {
            "text/plain": [
              "[<matplotlib.lines.Line2D at 0x7f916b7fccc0>]"
            ]
          },
          "metadata": {
            "tags": []
          },
          "execution_count": 0
        },
        {
          "output_type": "display_data",
          "data": {
            "image/png": "[encoded data removed]",
            "text/plain": [
              "<Figure size 432x288 with 1 Axes>"
            ]
          },
          "metadata": {
            "tags": []
          }
        }
      ]
    },
    {
      "cell_type": "markdown",
      "metadata": {
        "id": "Yx0udMv0W49O"
      },
      "source": [
        "# Dummy Data Sets"
      ]
    },
    {
      "cell_type": "code",
      "metadata": {
        "id": "qLtfbgoSW4kR"
      },
      "source": [
        "import numpy as np\r\n",
        "import matplotlib.pyplot as plt\r\n",
        "import pandas as pd"
      ],
      "execution_count": 1,
      "outputs": []
    },
    {
      "cell_type": "code",
      "metadata": {
        "id": "P7aVrwj7XS3o"
      },
      "source": [
        "n=1000000\r\n",
        "data=pd.DataFrame(\r\n",
        "    {\r\n",
        "        'A':np.random.randn(n),\r\n",
        "        'B':1.5+2.5*np.random.randn(n),\r\n",
        "        'C':np.random.uniform(5,32,n)\r\n",
        "    }\r\n",
        ")"
      ],
      "execution_count": 7,
      "outputs": []
    },
    {
      "cell_type": "code",
      "metadata": {
        "id": "Z-qICHNHHLUM",
        "colab": {
          "base_uri": "https://localhost:8080/",
          "height": 297
        },
        "outputId": "2373de3b-967d-43ae-8dc9-46c1afcc1603"
      },
      "source": [
        "data.describe()"
      ],
      "execution_count": 8,
      "outputs": [
        {
          "output_type": "execute_result",
          "data": {
            "text/plain": [
              "                    A               B               C\n",
              "count  1000000.000000  1000000.000000  1000000.000000\n",
              "mean         0.000611        1.504396       18.491019\n",
              "std          1.000219        2.501182        7.791185\n",
              "min         -4.763440      -10.359656        5.000031\n",
              "25%         -0.674018       -0.181751       11.742560\n",
              "50%          0.000710        1.508214       18.482563\n",
              "75%          0.675777        3.191129       25.223264\n",
              "max          5.031991       13.641957       31.999997"
            ],
            "text/html": [
              "<div>\n",
              "<style scoped>\n",
              "    .dataframe tbody tr th:only-of-type {\n",
              "        vertical-align: middle;\n",
              "    }\n",
              "\n",
              "    .dataframe tbody tr th {\n",
              "        vertical-align: top;\n",
              "    }\n",
              "\n",
              "    .dataframe thead th {\n",
              "        text-align: right;\n",
              "    }\n",
              "</style>\n",
              "<table border=\"1\" class=\"dataframe\">\n",
              "  <thead>\n",
              "    <tr style=\"text-align: right;\">\n",
              "      <th></th>\n",
              "      <th>A</th>\n",
              "      <th>B</th>\n",
              "      <th>C</th>\n",
              "    </tr>\n",
              "  </thead>\n",
              "  <tbody>\n",
              "    <tr>\n",
              "      <th>count</th>\n",
              "      <td>1000000.000000</td>\n",
              "      <td>1000000.000000</td>\n",
              "      <td>1000000.000000</td>\n",
              "    </tr>\n",
              "    <tr>\n",
              "      <th>mean</th>\n",
              "      <td>0.000611</td>\n",
              "      <td>1.504396</td>\n",
              "      <td>18.491019</td>\n",
              "    </tr>\n",
              "    <tr>\n",
              "      <th>std</th>\n",
              "      <td>1.000219</td>\n",
              "      <td>2.501182</td>\n",
              "      <td>7.791185</td>\n",
              "    </tr>\n",
              "    <tr>\n",
              "      <th>min</th>\n",
              "      <td>-4.763440</td>\n",
              "      <td>-10.359656</td>\n",
              "      <td>5.000031</td>\n",
              "    </tr>\n",
              "    <tr>\n",
              "      <th>25%</th>\n",
              "      <td>-0.674018</td>\n",
              "      <td>-0.181751</td>\n",
              "      <td>11.742560</td>\n",
              "    </tr>\n",
              "    <tr>\n",
              "      <th>50%</th>\n",
              "      <td>0.000710</td>\n",
              "      <td>1.508214</td>\n",
              "      <td>18.482563</td>\n",
              "    </tr>\n",
              "    <tr>\n",
              "      <th>75%</th>\n",
              "      <td>0.675777</td>\n",
              "      <td>3.191129</td>\n",
              "      <td>25.223264</td>\n",
              "    </tr>\n",
              "    <tr>\n",
              "      <th>max</th>\n",
              "      <td>5.031991</td>\n",
              "      <td>13.641957</td>\n",
              "      <td>31.999997</td>\n",
              "    </tr>\n",
              "  </tbody>\n",
              "</table>\n",
              "</div>"
            ]
          },
          "metadata": {
            "tags": []
          },
          "execution_count": 8
        }
      ]
    },
    {
      "cell_type": "code",
      "metadata": {
        "colab": {
          "base_uri": "https://localhost:8080/",
          "height": 367
        },
        "id": "Lb3dzsfDX1dO",
        "outputId": "710584ae-45ed-4381-fd19-d77d25021e34"
      },
      "source": [
        "plt.hist(data[\"A\"])"
      ],
      "execution_count": 10,
      "outputs": [
        {
          "output_type": "execute_result",
          "data": {
            "text/plain": [
              "(array([7.00000e+01, 2.45100e+03, 3.15270e+04, 1.65084e+05, 3.53885e+05,\n",
              "        3.14278e+05, 1.14615e+05, 1.70030e+04, 1.05900e+03, 2.80000e+01]),\n",
              " array([-4.76344043, -3.78389726, -2.80435409, -1.82481092, -0.84526775,\n",
              "         0.13427543,  1.1138186 ,  2.09336177,  3.07290494,  4.05244811,\n",
              "         5.03199128]),\n",
              " <BarContainer object of 10 artists>)"
            ]
          },
          "metadata": {
            "tags": []
          },
          "execution_count": 10
        },
        {
          "output_type": "display_data",
          "data": {
            "text/plain": [
              "<Figure size 432x288 with 1 Axes>"
            ],
            "image/png": "[encoded data removed]"
          },
          "metadata": {
            "tags": [],
            "needs_background": "light"
          }
        }
      ]
    },
    {
      "cell_type": "code",
      "metadata": {
        "colab": {
          "base_uri": "https://localhost:8080/",
          "height": 368
        },
        "id": "zrWV2F-MYfnm",
        "outputId": "8a7a6567-46a0-402d-ee28-06bffbf10c1b"
      },
      "source": [
        "plt.hist(data[\"B\"])"
      ],
      "execution_count": 11,
      "outputs": [
        {
          "output_type": "execute_result",
          "data": {
            "text/plain": [
              "(array([7.30000e+01, 2.31500e+03, 2.88310e+04, 1.51287e+05, 3.38658e+05,\n",
              "        3.23920e+05, 1.30835e+05, 2.23710e+04, 1.66200e+03, 4.80000e+01]),\n",
              " array([-10.35965557,  -7.9594943 ,  -5.55933304,  -3.15917177,\n",
              "         -0.7590105 ,   1.64115077,   4.04131203,   6.4414733 ,\n",
              "          8.84163457,  11.24179584,  13.64195711]),\n",
              " <BarContainer object of 10 artists>)"
            ]
          },
          "metadata": {
            "tags": []
          },
          "execution_count": 11
        },
        {
          "output_type": "display_data",
          "data": {
            "text/plain": [
              "<Figure size 432x288 with 1 Axes>"
            ],
            "image/png": "[encoded data removed]"
          },
          "metadata": {
            "tags": [],
            "needs_background": "light"
          }
        }
      ]
    },
    {
      "cell_type": "code",
      "metadata": {
        "colab": {
          "base_uri": "https://localhost:8080/",
          "height": 367
        },
        "id": "HBdic8BeYjzd",
        "outputId": "a13f09fb-1997-4ad7-a754-378911aad489"
      },
      "source": [
        "plt.hist(data[\"C\"])"
      ],
      "execution_count": 12,
      "outputs": [
        {
          "output_type": "execute_result",
          "data": {
            "text/plain": [
              "(array([ 99924., 100209., 100282.,  99676., 100553.,  99745., 100373.,\n",
              "        100061.,  99405.,  99772.]),\n",
              " array([ 5.00003082,  7.7000274 , 10.40002398, 13.10002056, 15.80001714,\n",
              "        18.50001372, 21.2000103 , 23.90000688, 26.60000346, 29.30000004,\n",
              "        31.99999662]),\n",
              " <BarContainer object of 10 artists>)"
            ]
          },
          "metadata": {
            "tags": []
          },
          "execution_count": 12
        },
        {
          "output_type": "display_data",
          "data": {
            "text/plain": [
              "<Figure size 432x288 with 1 Axes>"
            ],
            "image/png": "[encoded data removed]"
          },
          "metadata": {
            "tags": [],
            "needs_background": "light"
          }
        }
      ]
    },
    {
      "cell_type": "code",
      "metadata": {
        "id": "1OErwhm_Yk9t"
      },
      "source": [
        "mainpath=\"/Users/santi/OneDrive/Documents/Curso machine learning con python/Repositorio/python-ml-course/datasets\"\r\n",
        "filename=\"/customer-churn-model/Customer Churn Model.txt\""
      ],
      "execution_count": 22,
      "outputs": []
    },
    {
      "cell_type": "code",
      "metadata": {
        "id": "uw99LLWNZKog"
      },
      "source": [
        "data=pd.read_csv(mainpath+filename)"
      ],
      "execution_count": 24,
      "outputs": []
    },
    {
      "cell_type": "code",
      "metadata": {
        "colab": {
          "base_uri": "https://localhost:8080/",
          "height": 355
        },
        "id": "PlQWFGvtaHID",
        "outputId": "fee0cd28-2a3a-4bf1-ecef-a97fbd09645b"
      },
      "source": [
        "data.head()"
      ],
      "execution_count": 25,
      "outputs": [
        {
          "output_type": "execute_result",
          "data": {
            "text/plain": [
              "  State  Account Length  Area Code     Phone Int'l Plan VMail Plan  \\\n",
              "0    KS             128        415  382-4657         no        yes   \n",
              "1    OH             107        415  371-7191         no        yes   \n",
              "2    NJ             137        415  358-1921         no         no   \n",
              "3    OH              84        408  375-9999        yes         no   \n",
              "4    OK              75        415  330-6626        yes         no   \n",
              "\n",
              "   VMail Message  Day Mins  Day Calls  Day Charge  ...  Eve Calls  Eve Charge  \\\n",
              "0             25     265.1        110       45.07  ...         99       16.78   \n",
              "1             26     161.6        123       27.47  ...        103       16.62   \n",
              "2              0     243.4        114       41.38  ...        110       10.30   \n",
              "3              0     299.4         71       50.90  ...         88        5.26   \n",
              "4              0     166.7        113       28.34  ...        122       12.61   \n",
              "\n",
              "   Night Mins  Night Calls  Night Charge  Intl Mins  Intl Calls  Intl Charge  \\\n",
              "0       244.7           91         11.01       10.0           3         2.70   \n",
              "1       254.4          103         11.45       13.7           3         3.70   \n",
              "2       162.6          104          7.32       12.2           5         3.29   \n",
              "3       196.9           89          8.86        6.6           7         1.78   \n",
              "4       186.9          121          8.41       10.1           3         2.73   \n",
              "\n",
              "   CustServ Calls  Churn?  \n",
              "0               1  False.  \n",
              "1               1  False.  \n",
              "2               0  False.  \n",
              "3               2  False.  \n",
              "4               3  False.  \n",
              "\n",
              "[5 rows x 21 columns]"
            ],
            "text/html": [
              "<div>\n",
              "<style scoped>\n",
              "    .dataframe tbody tr th:only-of-type {\n",
              "        vertical-align: middle;\n",
              "    }\n",
              "\n",
              "    .dataframe tbody tr th {\n",
              "        vertical-align: top;\n",
              "    }\n",
              "\n",
              "    .dataframe thead th {\n",
              "        text-align: right;\n",
              "    }\n",
              "</style>\n",
              "<table border=\"1\" class=\"dataframe\">\n",
              "  <thead>\n",
              "    <tr style=\"text-align: right;\">\n",
              "      <th></th>\n",
              "      <th>State</th>\n",
              "      <th>Account Length</th>\n",
              "      <th>Area Code</th>\n",
              "      <th>Phone</th>\n",
              "      <th>Int'l Plan</th>\n",
              "      <th>VMail Plan</th>\n",
              "      <th>VMail Message</th>\n",
              "      <th>Day Mins</th>\n",
              "      <th>Day Calls</th>\n",
              "      <th>Day Charge</th>\n",
              "      <th>...</th>\n",
              "      <th>Eve Calls</th>\n",
              "      <th>Eve Charge</th>\n",
              "      <th>Night Mins</th>\n",
              "      <th>Night Calls</th>\n",
              "      <th>Night Charge</th>\n",
              "      <th>Intl Mins</th>\n",
              "      <th>Intl Calls</th>\n",
              "      <th>Intl Charge</th>\n",
              "      <th>CustServ Calls</th>\n",
              "      <th>Churn?</th>\n",
              "    </tr>\n",
              "  </thead>\n",
              "  <tbody>\n",
              "    <tr>\n",
              "      <th>0</th>\n",
              "      <td>KS</td>\n",
              "      <td>128</td>\n",
              "      <td>415</td>\n",
              "      <td>382-4657</td>\n",
              "      <td>no</td>\n",
              "      <td>yes</td>\n",
              "      <td>25</td>\n",
              "      <td>265.1</td>\n",
              "      <td>110</td>\n",
              "      <td>45.07</td>\n",
              "      <td>...</td>\n",
              "      <td>99</td>\n",
              "      <td>16.78</td>\n",
              "      <td>244.7</td>\n",
              "      <td>91</td>\n",
              "      <td>11.01</td>\n",
              "      <td>10.0</td>\n",
              "      <td>3</td>\n",
              "      <td>2.70</td>\n",
              "      <td>1</td>\n",
              "      <td>False.</td>\n",
              "    </tr>\n",
              "    <tr>\n",
              "      <th>1</th>\n",
              "      <td>OH</td>\n",
              "      <td>107</td>\n",
              "      <td>415</td>\n",
              "      <td>371-7191</td>\n",
              "      <td>no</td>\n",
              "      <td>yes</td>\n",
              "      <td>26</td>\n",
              "      <td>161.6</td>\n",
              "      <td>123</td>\n",
              "      <td>27.47</td>\n",
              "      <td>...</td>\n",
              "      <td>103</td>\n",
              "      <td>16.62</td>\n",
              "      <td>254.4</td>\n",
              "      <td>103</td>\n",
              "      <td>11.45</td>\n",
              "      <td>13.7</td>\n",
              "      <td>3</td>\n",
              "      <td>3.70</td>\n",
              "      <td>1</td>\n",
              "      <td>False.</td>\n",
              "    </tr>\n",
              "    <tr>\n",
              "      <th>2</th>\n",
              "      <td>NJ</td>\n",
              "      <td>137</td>\n",
              "      <td>415</td>\n",
              "      <td>358-1921</td>\n",
              "      <td>no</td>\n",
              "      <td>no</td>\n",
              "      <td>0</td>\n",
              "      <td>243.4</td>\n",
              "      <td>114</td>\n",
              "      <td>41.38</td>\n",
              "      <td>...</td>\n",
              "      <td>110</td>\n",
              "      <td>10.30</td>\n",
              "      <td>162.6</td>\n",
              "      <td>104</td>\n",
              "      <td>7.32</td>\n",
              "      <td>12.2</td>\n",
              "      <td>5</td>\n",
              "      <td>3.29</td>\n",
              "      <td>0</td>\n",
              "      <td>False.</td>\n",
              "    </tr>\n",
              "    <tr>\n",
              "      <th>3</th>\n",
              "      <td>OH</td>\n",
              "      <td>84</td>\n",
              "      <td>408</td>\n",
              "      <td>375-9999</td>\n",
              "      <td>yes</td>\n",
              "      <td>no</td>\n",
              "      <td>0</td>\n",
              "      <td>299.4</td>\n",
              "      <td>71</td>\n",
              "      <td>50.90</td>\n",
              "      <td>...</td>\n",
              "      <td>88</td>\n",
              "      <td>5.26</td>\n",
              "      <td>196.9</td>\n",
              "      <td>89</td>\n",
              "      <td>8.86</td>\n",
              "      <td>6.6</td>\n",
              "      <td>7</td>\n",
              "      <td>1.78</td>\n",
              "      <td>2</td>\n",
              "      <td>False.</td>\n",
              "    </tr>\n",
              "    <tr>\n",
              "      <th>4</th>\n",
              "      <td>OK</td>\n",
              "      <td>75</td>\n",
              "      <td>415</td>\n",
              "      <td>330-6626</td>\n",
              "      <td>yes</td>\n",
              "      <td>no</td>\n",
              "      <td>0</td>\n",
              "      <td>166.7</td>\n",
              "      <td>113</td>\n",
              "      <td>28.34</td>\n",
              "      <td>...</td>\n",
              "      <td>122</td>\n",
              "      <td>12.61</td>\n",
              "      <td>186.9</td>\n",
              "      <td>121</td>\n",
              "      <td>8.41</td>\n",
              "      <td>10.1</td>\n",
              "      <td>3</td>\n",
              "      <td>2.73</td>\n",
              "      <td>3</td>\n",
              "      <td>False.</td>\n",
              "    </tr>\n",
              "  </tbody>\n",
              "</table>\n",
              "<p>5 rows × 21 columns</p>\n",
              "</div>"
            ]
          },
          "metadata": {
            "tags": []
          },
          "execution_count": 25
        }
      ]
    },
    {
      "cell_type": "code",
      "metadata": {
        "id": "eqP6onWoaIeT"
      },
      "source": [
        "column_names=data.columns.values.tolist()"
      ],
      "execution_count": 26,
      "outputs": []
    },
    {
      "cell_type": "code",
      "metadata": {
        "colab": {
          "base_uri": "https://localhost:8080/"
        },
        "id": "bGY7e5XlaNFC",
        "outputId": "4ffbdc7a-c80c-4144-8992-3d8a53e002ac"
      },
      "source": [
        "a=len(column_names)\r\n",
        "a"
      ],
      "execution_count": 28,
      "outputs": [
        {
          "output_type": "execute_result",
          "data": {
            "text/plain": [
              "21"
            ]
          },
          "metadata": {
            "tags": []
          },
          "execution_count": 28
        }
      ]
    },
    {
      "cell_type": "code",
      "metadata": {
        "id": "FPxmkTvRaRsq"
      },
      "source": [
        "new_data=pd.DataFrame(\r\n",
        "    {\r\n",
        "        'Column Name':column_names,\r\n",
        "     'A':np.random.randn(a),\r\n",
        "     'B':np.random.uniform(0,1,a)\r\n",
        "    }, index=range(42,42+a)\r\n",
        ")"
      ],
      "execution_count": 31,
      "outputs": []
    },
    {
      "cell_type": "code",
      "metadata": {
        "colab": {
          "base_uri": "https://localhost:8080/",
          "height": 700
        },
        "id": "Aj51aOQ9arhR",
        "outputId": "dc1d3344-037b-4d7a-fec8-46239ab8281d"
      },
      "source": [
        "new_data"
      ],
      "execution_count": 32,
      "outputs": [
        {
          "output_type": "execute_result",
          "data": {
            "text/plain": [
              "       Column Name         A         B\n",
              "42           State -0.928287  0.412047\n",
              "43  Account Length -0.150456  0.817005\n",
              "44       Area Code  0.614682  0.585942\n",
              "45           Phone  0.121317  0.488006\n",
              "46      Int'l Plan -0.921579  0.319136\n",
              "47      VMail Plan -0.257613  0.135588\n",
              "48   VMail Message -0.002676  0.204423\n",
              "49        Day Mins  0.740021  0.388622\n",
              "50       Day Calls -0.615691  0.456562\n",
              "51      Day Charge  0.394562  0.294233\n",
              "52        Eve Mins  1.902353  0.340118\n",
              "53       Eve Calls  0.161027  0.262989\n",
              "54      Eve Charge -0.794525  0.011229\n",
              "55      Night Mins -1.468212  0.569381\n",
              "56     Night Calls  1.642266  0.041940\n",
              "57    Night Charge -2.123133  0.562513\n",
              "58       Intl Mins  1.801902  0.941450\n",
              "59      Intl Calls -1.584492  0.334608\n",
              "60     Intl Charge -0.375499  0.031707\n",
              "61  CustServ Calls -0.335933  0.283225\n",
              "62          Churn?  0.081606  0.239279"
            ],
            "text/html": [
              "<div>\n",
              "<style scoped>\n",
              "    .dataframe tbody tr th:only-of-type {\n",
              "        vertical-align: middle;\n",
              "    }\n",
              "\n",
              "    .dataframe tbody tr th {\n",
              "        vertical-align: top;\n",
              "    }\n",
              "\n",
              "    .dataframe thead th {\n",
              "        text-align: right;\n",
              "    }\n",
              "</style>\n",
              "<table border=\"1\" class=\"dataframe\">\n",
              "  <thead>\n",
              "    <tr style=\"text-align: right;\">\n",
              "      <th></th>\n",
              "      <th>Column Name</th>\n",
              "      <th>A</th>\n",
              "      <th>B</th>\n",
              "    </tr>\n",
              "  </thead>\n",
              "  <tbody>\n",
              "    <tr>\n",
              "      <th>42</th>\n",
              "      <td>State</td>\n",
              "      <td>-0.928287</td>\n",
              "      <td>0.412047</td>\n",
              "    </tr>\n",
              "    <tr>\n",
              "      <th>43</th>\n",
              "      <td>Account Length</td>\n",
              "      <td>-0.150456</td>\n",
              "      <td>0.817005</td>\n",
              "    </tr>\n",
              "    <tr>\n",
              "      <th>44</th>\n",
              "      <td>Area Code</td>\n",
              "      <td>0.614682</td>\n",
              "      <td>0.585942</td>\n",
              "    </tr>\n",
              "    <tr>\n",
              "      <th>45</th>\n",
              "      <td>Phone</td>\n",
              "      <td>0.121317</td>\n",
              "      <td>0.488006</td>\n",
              "    </tr>\n",
              "    <tr>\n",
              "      <th>46</th>\n",
              "      <td>Int'l Plan</td>\n",
              "      <td>-0.921579</td>\n",
              "      <td>0.319136</td>\n",
              "    </tr>\n",
              "    <tr>\n",
              "      <th>47</th>\n",
              "      <td>VMail Plan</td>\n",
              "      <td>-0.257613</td>\n",
              "      <td>0.135588</td>\n",
              "    </tr>\n",
              "    <tr>\n",
              "      <th>48</th>\n",
              "      <td>VMail Message</td>\n",
              "      <td>-0.002676</td>\n",
              "      <td>0.204423</td>\n",
              "    </tr>\n",
              "    <tr>\n",
              "      <th>49</th>\n",
              "      <td>Day Mins</td>\n",
              "      <td>0.740021</td>\n",
              "      <td>0.388622</td>\n",
              "    </tr>\n",
              "    <tr>\n",
              "      <th>50</th>\n",
              "      <td>Day Calls</td>\n",
              "      <td>-0.615691</td>\n",
              "      <td>0.456562</td>\n",
              "    </tr>\n",
              "    <tr>\n",
              "      <th>51</th>\n",
              "      <td>Day Charge</td>\n",
              "      <td>0.394562</td>\n",
              "      <td>0.294233</td>\n",
              "    </tr>\n",
              "    <tr>\n",
              "      <th>52</th>\n",
              "      <td>Eve Mins</td>\n",
              "      <td>1.902353</td>\n",
              "      <td>0.340118</td>\n",
              "    </tr>\n",
              "    <tr>\n",
              "      <th>53</th>\n",
              "      <td>Eve Calls</td>\n",
              "      <td>0.161027</td>\n",
              "      <td>0.262989</td>\n",
              "    </tr>\n",
              "    <tr>\n",
              "      <th>54</th>\n",
              "      <td>Eve Charge</td>\n",
              "      <td>-0.794525</td>\n",
              "      <td>0.011229</td>\n",
              "    </tr>\n",
              "    <tr>\n",
              "      <th>55</th>\n",
              "      <td>Night Mins</td>\n",
              "      <td>-1.468212</td>\n",
              "      <td>0.569381</td>\n",
              "    </tr>\n",
              "    <tr>\n",
              "      <th>56</th>\n",
              "      <td>Night Calls</td>\n",
              "      <td>1.642266</td>\n",
              "      <td>0.041940</td>\n",
              "    </tr>\n",
              "    <tr>\n",
              "      <th>57</th>\n",
              "      <td>Night Charge</td>\n",
              "      <td>-2.123133</td>\n",
              "      <td>0.562513</td>\n",
              "    </tr>\n",
              "    <tr>\n",
              "      <th>58</th>\n",
              "      <td>Intl Mins</td>\n",
              "      <td>1.801902</td>\n",
              "      <td>0.941450</td>\n",
              "    </tr>\n",
              "    <tr>\n",
              "      <th>59</th>\n",
              "      <td>Intl Calls</td>\n",
              "      <td>-1.584492</td>\n",
              "      <td>0.334608</td>\n",
              "    </tr>\n",
              "    <tr>\n",
              "      <th>60</th>\n",
              "      <td>Intl Charge</td>\n",
              "      <td>-0.375499</td>\n",
              "      <td>0.031707</td>\n",
              "    </tr>\n",
              "    <tr>\n",
              "      <th>61</th>\n",
              "      <td>CustServ Calls</td>\n",
              "      <td>-0.335933</td>\n",
              "      <td>0.283225</td>\n",
              "    </tr>\n",
              "    <tr>\n",
              "      <th>62</th>\n",
              "      <td>Churn?</td>\n",
              "      <td>0.081606</td>\n",
              "      <td>0.239279</td>\n",
              "    </tr>\n",
              "  </tbody>\n",
              "</table>\n",
              "</div>"
            ]
          },
          "metadata": {
            "tags": []
          },
          "execution_count": 32
        }
      ]
    },
    {
      "cell_type": "code",
      "metadata": {
        "id": "v_u1cbPcau3J"
      },
      "source": [
        ""
      ],
      "execution_count": null,
      "outputs": []
    }
  ]
}