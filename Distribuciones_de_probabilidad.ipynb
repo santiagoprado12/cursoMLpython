{
  "nbformat": 4,
  "nbformat_minor": 0,
  "metadata": {
    "colab": {
      "name": "Distribuciones de probabilidad",
      "provenance": [],
      "authorship_tag": "ABX9TyM+TAlctnSwg3nhH9UiAtjd",
      "include_colab_link": true
    },
    "kernelspec": {
      "name": "python3",
      "display_name": "Python 3"
    }
  },
  "cells": [
    {
      "cell_type": "markdown",
      "metadata": {
        "id": "view-in-github",
        "colab_type": "text"
      },
      "source": [
        "<a href=\"https://colab.research.google.com/github/santiagoprado12/cursoMLpython/blob/main/Distribuciones_de_probabilidad.ipynb\" target=\"_parent\"><img src=\"https://colab.research.google.com/assets/colab-badge.svg\" alt=\"Open In Colab\"/></a>"
      ]
    },
    {
      "cell_type": "markdown",
      "metadata": {
        "id": "-pk8JBC85-Vb"
      },
      "source": [
        "# **FUNCIONES DE DISTRIBUCION DE PROBABILIDADES**"
      ]
    },
    {
      "cell_type": "markdown",
      "metadata": {
        "id": "ihxmSng96D0u"
      },
      "source": [
        "## Distribucion uniforme"
      ]
    },
    {
      "cell_type": "code",
      "metadata": {
        "id": "FjB1wHxh6Dlz"
      },
      "source": [
        "import numpy as np\r\n",
        "import matplotlib.pyplot as plt"
      ],
      "execution_count": 3,
      "outputs": []
    },
    {
      "cell_type": "code",
      "metadata": {
        "id": "GhcCXNxQ54nX"
      },
      "source": [
        "a=1\r\n",
        "b=100\r\n",
        "n=1000000\r\n",
        "data=np.random.uniform(a,b,n)"
      ],
      "execution_count": 4,
      "outputs": []
    },
    {
      "cell_type": "code",
      "metadata": {
        "colab": {
          "base_uri": "https://localhost:8080/",
          "height": 367
        },
        "id": "8rU-h3ws6e8Z",
        "outputId": "d0a24056-f585-4b57-8244-9e841c94a34f"
      },
      "source": [
        "%matplotlib inline\r\n",
        "plt.hist(data)"
      ],
      "execution_count": 5,
      "outputs": [
        {
          "output_type": "execute_result",
          "data": {
            "text/plain": [
              "(array([ 99898., 100008., 100201.,  99958.,  99983., 100244.,  99863.,\n",
              "         99773., 100299.,  99773.]),\n",
              " array([ 1.00010332, 10.90008699, 20.80007066, 30.70005433, 40.60003801,\n",
              "        50.50002168, 60.40000535, 70.29998902, 80.1999727 , 90.09995637,\n",
              "        99.99994004]),\n",
              " <BarContainer object of 10 artists>)"
            ]
          },
          "metadata": {
            "tags": []
          },
          "execution_count": 5
        },
        {
          "output_type": "display_data",
          "data": {
            "text/plain": [
              "<Figure size 432x288 with 1 Axes>"
            ],
            "image/png": "[encoded data removed]"
          },
          "metadata": {
            "tags": [],
            "needs_background": "light"
          }
        }
      ]
    },
    {
      "cell_type": "markdown",
      "metadata": {
        "id": "emU3w2fM_cws"
      },
      "source": [
        "## Distribucion Normal"
      ]
    },
    {
      "cell_type": "code",
      "metadata": {
        "id": "O09LJwiw_cat"
      },
      "source": [
        "data=np.random.randn(1000000)"
      ],
      "execution_count": 6,
      "outputs": []
    },
    {
      "cell_type": "code",
      "metadata": {
        "id": "9E-MMBpj6uh2",
        "colab": {
          "base_uri": "https://localhost:8080/",
          "height": 295
        },
        "outputId": "d89e664c-450d-4b9d-834c-cff90d224316"
      },
      "source": [
        "x=range(1,1000001)\r\n",
        "plt.plot(x, data)"
      ],
      "execution_count": 7,
      "outputs": [
        {
          "output_type": "execute_result",
          "data": {
            "text/plain": [
              "[<matplotlib.lines.Line2D at 0x21b48dd3a90>]"
            ]
          },
          "metadata": {
            "tags": []
          },
          "execution_count": 7
        },
        {
          "output_type": "display_data",
          "data": {
            "text/plain": [
              "<Figure size 432x288 with 1 Axes>"
            ],
            "image/png": "[encoded data removed]"
          },
          "metadata": {
            "tags": [],
            "needs_background": "light"
          }
        }
      ]
    },
    {
      "cell_type": "code",
      "metadata": {
        "colab": {
          "base_uri": "https://localhost:8080/",
          "height": 367
        },
        "id": "zmrJji9H_yo2",
        "outputId": "44bbcfe2-b431-4095-b290-5e15f041e200"
      },
      "source": [
        "plt.hist(data)"
      ],
      "execution_count": 8,
      "outputs": [
        {
          "output_type": "execute_result",
          "data": {
            "text/plain": [
              "(array([1.21000e+02, 3.07600e+03, 3.45580e+04, 1.65518e+05, 3.42299e+05,\n",
              "        3.09614e+05, 1.22317e+05, 2.09100e+04, 1.54300e+03, 4.40000e+01]),\n",
              " array([-4.61180479, -3.66687351, -2.72194222, -1.77701094, -0.83207966,\n",
              "         0.11285163,  1.05778291,  2.00271419,  2.94764548,  3.89257676,\n",
              "         4.83750805]),\n",
              " <BarContainer object of 10 artists>)"
            ]
          },
          "metadata": {
            "tags": []
          },
          "execution_count": 8
        },
        {
          "output_type": "display_data",
          "data": {
            "text/plain": [
              "<Figure size 432x288 with 1 Axes>"
            ],
            "image/png": "[encoded data removed]"
          },
          "metadata": {
            "tags": [],
            "needs_background": "light"
          }
        }
      ]
    },
    {
      "cell_type": "code",
      "metadata": {
        "colab": {
          "base_uri": "https://localhost:8080/",
          "height": 295
        },
        "id": "P0wPI3Nx__mY",
        "outputId": "ac9ff678-e08d-4b4b-a160-b54970b6d4dc"
      },
      "source": [
        "plt.plot(x,sorted(data))"
      ],
      "execution_count": 9,
      "outputs": [
        {
          "output_type": "execute_result",
          "data": {
            "text/plain": [
              "[<matplotlib.lines.Line2D at 0x21b51c93fd0>]"
            ]
          },
          "metadata": {
            "tags": []
          },
          "execution_count": 9
        },
        {
          "output_type": "display_data",
          "data": {
            "text/plain": [
              "<Figure size 432x288 with 1 Axes>"
            ],
            "image/png": "[encoded data removed]"
          },
          "metadata": {
            "tags": [],
            "needs_background": "light"
          }
        }
      ]
    },
    {
      "cell_type": "code",
      "metadata": {
        "colab": {
          "base_uri": "https://localhost:8080/",
          "height": 367
        },
        "id": "AKTX4idRAedl",
        "outputId": "fc9dabc7-fcb2-4151-ab36-0c15290d8f35"
      },
      "source": [
        "mu=5.5\r\n",
        "sd=2.5\r\n",
        "data=mu+sd*np.random.randn(10000)\r\n",
        "plt.hist(data)"
      ],
      "execution_count": 10,
      "outputs": [
        {
          "output_type": "execute_result",
          "data": {
            "text/plain": [
              "(array([  12.,  138.,  654., 1748., 2785., 2712., 1417.,  450.,   74.,\n",
              "          10.]),\n",
              " array([-3.82980349e+00, -1.90750155e+00,  1.48003916e-02,  1.93710233e+00,\n",
              "         3.85940427e+00,  5.78170622e+00,  7.70400816e+00,  9.62631010e+00,\n",
              "         1.15486120e+01,  1.34709140e+01,  1.53932159e+01]),\n",
              " <BarContainer object of 10 artists>)"
            ]
          },
          "metadata": {
            "tags": []
          },
          "execution_count": 10
        },
        {
          "output_type": "display_data",
          "data": {
            "text/plain": [
              "<Figure size 432x288 with 1 Axes>"
            ],
            "image/png": "[encoded data removed]"
          },
          "metadata": {
            "tags": [],
            "needs_background": "light"
          }
        }
      ]
    },
    {
      "cell_type": "code",
      "metadata": {
        "colab": {
          "base_uri": "https://localhost:8080/"
        },
        "id": "G7l0JvFWA9mY",
        "outputId": "ee812244-b188-4fcc-fc75-d77f13e40038"
      },
      "source": [
        "data=np.random.randn(2,4)\r\n",
        "data"
      ],
      "execution_count": 11,
      "outputs": [
        {
          "output_type": "execute_result",
          "data": {
            "text/plain": [
              "array([[ 0.44304271,  1.54370008, -0.66242461,  0.16500972],\n",
              "       [ 0.92448617,  0.38212433,  0.45376286, -0.07048162]])"
            ]
          },
          "metadata": {
            "tags": []
          },
          "execution_count": 11
        }
      ]
    },
    {
      "cell_type": "markdown",
      "metadata": {
        "id": "dpEqyzt1DQyU"
      },
      "source": [
        "## La Simulacion de Monte Carlo"
      ]
    },
    {
      "cell_type": "markdown",
      "metadata": {
        "id": "B7pA73ARFGXf"
      },
      "source": [
        "generar 2 numeros aleatorios entre 0 y 1 1000 veces \r\n",
        "\r\n",
        "\r\n",
        "calcular x * x + y * y\r\n",
        "\r\n",
        "si es mayor a 1 estamos dentro del  \r\n",
        "circulo, sino estamos fuera\r\n",
        "\r\n",
        "Se realizan 1000 experimentos y el valor final seria el promedio de todos"
      ]
    },
    {
      "cell_type": "code",
      "metadata": {
        "colab": {
          "base_uri": "https://localhost:8080/",
          "height": 299
        },
        "id": "T7dIiVRTBpG7",
        "outputId": "c089351a-f825-4814-cd04-3faeca30645a"
      },
      "source": [
        "pi_avg=0\r\n",
        "n=100000\r\n",
        "n_experimentos=1000\r\n",
        "pi_value_list=[]\r\n",
        "for i in range(n_experimentos):\r\n",
        "    value=0\r\n",
        "    x=np.random.uniform(0,1,n).tolist()\r\n",
        "    y=np.random.uniform(0,1,n).tolist()\r\n",
        "    for j in range(n):\r\n",
        "        z=np.sqrt((x[j]**2)+(y[j]**2))\r\n",
        "        if z<=1:\r\n",
        "            value +=1\r\n",
        "    float_value=float(value)\r\n",
        "    pi_value=float_value*4/n\r\n",
        "    pi_value_list.append(pi_value)\r\n",
        "    pi_avg += pi_value\r\n",
        "pi=pi_avg/n_experimentos\r\n",
        "print(pi)\r\n",
        "plt.plot(pi_value_list)\r\n",
        "  "
      ],
      "execution_count": 13,
      "outputs": [
        {
          "output_type": "stream",
          "text": [
            "3.141389319999998\n"
          ],
          "name": "stdout"
        },
        {
          "output_type": "execute_result",
          "data": {
            "text/plain": [
              "[<matplotlib.lines.Line2D at 0x21b507900d0>]"
            ]
          },
          "metadata": {
            "tags": []
          },
          "execution_count": 13
        },
        {
          "output_type": "display_data",
          "data": {
            "text/plain": [
              "<Figure size 432x288 with 1 Axes>"
            ],
            "image/png": "[encoded data removed]"
          },
          "metadata": {
            "tags": [],
            "needs_background": "light"
          }
        }
      ]
    },
    {
      "cell_type": "code",
      "metadata": {
        "id": "Z-qICHNHHLUM"
      },
      "source": [
        ""
      ],
      "execution_count": 12,
      "outputs": []
    }
  ]
}