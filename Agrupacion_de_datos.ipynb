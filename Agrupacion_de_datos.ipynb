{
  "nbformat": 4,
  "nbformat_minor": 0,
  "metadata": {
    "colab": {
      "name": "Agrupacion de datos.ipynb",
      "provenance": [],
      "authorship_tag": "ABX9TyOJUg+1woHiYFlDYUpgWlWj",
      "include_colab_link": true
    },
    "kernelspec": {
      "name": "python3",
      "display_name": "Python 3"
    }
  },
  "cells": [
    {
      "cell_type": "markdown",
      "metadata": {
        "id": "view-in-github",
        "colab_type": "text"
      },
      "source": [
        "<a href=\"https://colab.research.google.com/github/santiagoprado12/cursoMLpython/blob/main/Agrupacion_de_datos.ipynb\" target=\"_parent\"><img src=\"https://colab.research.google.com/assets/colab-badge.svg\" alt=\"Open In Colab\"/></a>"
      ]
    },
    {
      "cell_type": "markdown",
      "metadata": {
        "id": "O6_sT98rcNKS"
      },
      "source": [
        "# Agregacion de datos por categoria"
      ]
    },
    {
      "cell_type": "code",
      "metadata": {
        "id": "SToYayCjcAas"
      },
      "source": [
        "import numpy as np\r\n",
        "import pandas as pd"
      ],
      "execution_count": null,
      "outputs": []
    },
    {
      "cell_type": "code",
      "metadata": {
        "id": "HzHagpAld-5O"
      },
      "source": [
        "gender=[\"Male\",\"Female\"]\r\n",
        "income=[\"Poor\",\"Middle Class\",\"Rich\"]"
      ],
      "execution_count": null,
      "outputs": []
    },
    {
      "cell_type": "code",
      "metadata": {
        "id": "zkH8yS63eML0"
      },
      "source": [
        "n=500\r\n",
        "\r\n",
        "gender_data=[]\r\n",
        "income_data=[]\r\n",
        "\r\n",
        "for i in range(0,500):\r\n",
        "  gender_data.append(np.random.choice(gender))\r\n",
        "  income_data.append(np.random.choice(income))"
      ],
      "execution_count": null,
      "outputs": []
    },
    {
      "cell_type": "code",
      "metadata": {
        "colab": {
          "base_uri": "https://localhost:8080/"
        },
        "id": "vTmx9SM3emJ7",
        "outputId": "208cb088-eaa4-4c1b-e6c2-f5702b4642d9"
      },
      "source": [
        "gender_data[1:10]"
      ],
      "execution_count": null,
      "outputs": [
        {
          "output_type": "execute_result",
          "data": {
            "text/plain": [
              "['Male',\n",
              " 'Female',\n",
              " 'Female',\n",
              " 'Female',\n",
              " 'Male',\n",
              " 'Male',\n",
              " 'Female',\n",
              " 'Male',\n",
              " 'Female']"
            ]
          },
          "metadata": {
            "tags": []
          },
          "execution_count": 5
        }
      ]
    },
    {
      "cell_type": "code",
      "metadata": {
        "colab": {
          "base_uri": "https://localhost:8080/"
        },
        "id": "AoS5QiwiexJj",
        "outputId": "e12b79f4-03b8-407f-c74f-adaba3688836"
      },
      "source": [
        "income_data[1:10]"
      ],
      "execution_count": null,
      "outputs": [
        {
          "output_type": "execute_result",
          "data": {
            "text/plain": [
              "['Poor',\n",
              " 'Poor',\n",
              " 'Poor',\n",
              " 'Poor',\n",
              " 'Rich',\n",
              " 'Rich',\n",
              " 'Middle Class',\n",
              " 'Rich',\n",
              " 'Middle Class']"
            ]
          },
          "metadata": {
            "tags": []
          },
          "execution_count": 6
        }
      ]
    },
    {
      "cell_type": "code",
      "metadata": {
        "id": "xk1cDRCie0c6"
      },
      "source": [
        "#z=N(0,1)\r\n",
        "#N(m,s)->m+s*z\r\n",
        "height=160+30*np.random.randn(n)\r\n",
        "weight=65+25*np.random.randn(n)\r\n",
        "age =np.round(30+12*np.random.randn(n))\r\n",
        "income=18000+3500*np.random.rand(n)"
      ],
      "execution_count": null,
      "outputs": []
    },
    {
      "cell_type": "code",
      "metadata": {
        "id": "xXVL9NIsfdgA"
      },
      "source": [
        "data=pd.DataFrame(\r\n",
        "    {\r\n",
        "        \"Gender\":gender_data,\r\n",
        "     \"Economic Status\":income_data,\r\n",
        "     \"Height\":height,\r\n",
        "     \"Weight\":weight,\r\n",
        "     \"Age\":age,\r\n",
        "     \"Income\":income\r\n",
        "    }\r\n",
        ")"
      ],
      "execution_count": null,
      "outputs": []
    },
    {
      "cell_type": "code",
      "metadata": {
        "colab": {
          "base_uri": "https://localhost:8080/",
          "height": 204
        },
        "id": "GBs1w7mDf02h",
        "outputId": "f3521fef-d40d-4af6-8f35-3ea40fa02299"
      },
      "source": [
        "data.head()"
      ],
      "execution_count": null,
      "outputs": [
        {
          "output_type": "execute_result",
          "data": {
            "text/plain": [
              "   Gender Economic Status      Height      Weight   Age        Income\n",
              "0  Female            Poor  180.597455   51.007760  14.0  20974.227728\n",
              "1    Male            Poor  157.777125   58.828705  42.0  19663.450886\n",
              "2  Female            Poor  125.692536   82.151447  26.0  19227.440876\n",
              "3  Female            Poor  158.179447   87.182354  35.0  19233.533783\n",
              "4  Female            Poor  133.480432  102.821709  45.0  20325.753272"
            ],
            "text/html": [
              "<div>\n",
              "<style scoped>\n",
              "    .dataframe tbody tr th:only-of-type {\n",
              "        vertical-align: middle;\n",
              "    }\n",
              "\n",
              "    .dataframe tbody tr th {\n",
              "        vertical-align: top;\n",
              "    }\n",
              "\n",
              "    .dataframe thead th {\n",
              "        text-align: right;\n",
              "    }\n",
              "</style>\n",
              "<table border=\"1\" class=\"dataframe\">\n",
              "  <thead>\n",
              "    <tr style=\"text-align: right;\">\n",
              "      <th></th>\n",
              "      <th>Gender</th>\n",
              "      <th>Economic Status</th>\n",
              "      <th>Height</th>\n",
              "      <th>Weight</th>\n",
              "      <th>Age</th>\n",
              "      <th>Income</th>\n",
              "    </tr>\n",
              "  </thead>\n",
              "  <tbody>\n",
              "    <tr>\n",
              "      <th>0</th>\n",
              "      <td>Female</td>\n",
              "      <td>Poor</td>\n",
              "      <td>180.597455</td>\n",
              "      <td>51.007760</td>\n",
              "      <td>14.0</td>\n",
              "      <td>20974.227728</td>\n",
              "    </tr>\n",
              "    <tr>\n",
              "      <th>1</th>\n",
              "      <td>Male</td>\n",
              "      <td>Poor</td>\n",
              "      <td>157.777125</td>\n",
              "      <td>58.828705</td>\n",
              "      <td>42.0</td>\n",
              "      <td>19663.450886</td>\n",
              "    </tr>\n",
              "    <tr>\n",
              "      <th>2</th>\n",
              "      <td>Female</td>\n",
              "      <td>Poor</td>\n",
              "      <td>125.692536</td>\n",
              "      <td>82.151447</td>\n",
              "      <td>26.0</td>\n",
              "      <td>19227.440876</td>\n",
              "    </tr>\n",
              "    <tr>\n",
              "      <th>3</th>\n",
              "      <td>Female</td>\n",
              "      <td>Poor</td>\n",
              "      <td>158.179447</td>\n",
              "      <td>87.182354</td>\n",
              "      <td>35.0</td>\n",
              "      <td>19233.533783</td>\n",
              "    </tr>\n",
              "    <tr>\n",
              "      <th>4</th>\n",
              "      <td>Female</td>\n",
              "      <td>Poor</td>\n",
              "      <td>133.480432</td>\n",
              "      <td>102.821709</td>\n",
              "      <td>45.0</td>\n",
              "      <td>20325.753272</td>\n",
              "    </tr>\n",
              "  </tbody>\n",
              "</table>\n",
              "</div>"
            ]
          },
          "metadata": {
            "tags": []
          },
          "execution_count": 18
        }
      ]
    },
    {
      "cell_type": "code",
      "metadata": {
        "id": "hGwjsvY1f1zh"
      },
      "source": [
        "##Agrupacion de datos\r\n",
        "grouped_gender=data.groupby(\"Gender\")"
      ],
      "execution_count": null,
      "outputs": []
    },
    {
      "cell_type": "code",
      "metadata": {
        "colab": {
          "base_uri": "https://localhost:8080/"
        },
        "id": "UDYQQ9sMoct6",
        "outputId": "2a6ed9dc-2bb6-4271-f6b1-76099a4187f7"
      },
      "source": [
        "grouped_gender.groups"
      ],
      "execution_count": null,
      "outputs": [
        {
          "output_type": "execute_result",
          "data": {
            "text/plain": [
              "{'Female': [0, 2, 3, 4, 7, 9, 10, 12, 14, 15, 18, 20, 22, 25, 26, 28, 29, 30, 33, 35, 37, 41, 44, 45, 46, 47, 50, 52, 53, 54, 57, 59, 60, 61, 62, 63, 64, 65, 66, 67, 69, 71, 72, 73, 74, 75, 77, 78, 79, 83, 84, 89, 90, 93, 96, 97, 100, 102, 103, 105, 106, 108, 109, 111, 112, 114, 115, 118, 119, 120, 121, 124, 125, 127, 128, 129, 130, 132, 133, 134, 137, 141, 143, 144, 145, 147, 149, 150, 152, 157, 159, 160, 161, 164, 166, 167, 168, 169, 170, 171, ...], 'Male': [1, 5, 6, 8, 11, 13, 16, 17, 19, 21, 23, 24, 27, 31, 32, 34, 36, 38, 39, 40, 42, 43, 48, 49, 51, 55, 56, 58, 68, 70, 76, 80, 81, 82, 85, 86, 87, 88, 91, 92, 94, 95, 98, 99, 101, 104, 107, 110, 113, 116, 117, 122, 123, 126, 131, 135, 136, 138, 139, 140, 142, 146, 148, 151, 153, 154, 155, 156, 158, 162, 163, 165, 173, 175, 177, 178, 181, 182, 183, 184, 185, 187, 189, 196, 197, 198, 199, 201, 205, 206, 208, 209, 210, 211, 213, 218, 219, 220, 221, 222, ...]}"
            ]
          },
          "metadata": {
            "tags": []
          },
          "execution_count": 22
        }
      ]
    },
    {
      "cell_type": "code",
      "metadata": {
        "colab": {
          "base_uri": "https://localhost:8080/"
        },
        "id": "f1GJZIJAox3S",
        "outputId": "0cc9ae79-c21c-48b6-8897-805df282778d"
      },
      "source": [
        "for names,groups in grouped_gender:\r\n",
        "  print(names)\r\n",
        "  print(groups)"
      ],
      "execution_count": null,
      "outputs": [
        {
          "output_type": "stream",
          "text": [
            "Female\n",
            "     Gender Economic Status      Height      Weight   Age        Income\n",
            "0    Female            Poor  180.597455   51.007760  14.0  20974.227728\n",
            "2    Female            Poor  125.692536   82.151447  26.0  19227.440876\n",
            "3    Female            Poor  158.179447   87.182354  35.0  19233.533783\n",
            "4    Female            Poor  133.480432  102.821709  45.0  20325.753272\n",
            "7    Female    Middle Class  130.447587  103.349493  30.0  18599.278792\n",
            "..      ...             ...         ...         ...   ...           ...\n",
            "491  Female            Poor  203.192452   86.113453  23.0  18897.564608\n",
            "492  Female            Poor  116.526550   89.091527  22.0  18477.704256\n",
            "494  Female            Rich  195.958539   31.511149  38.0  20398.682012\n",
            "496  Female    Middle Class  180.588973   95.080851  15.0  20148.505545\n",
            "499  Female            Rich  168.924144   52.885174  45.0  18486.602470\n",
            "\n",
            "[270 rows x 6 columns]\n",
            "Male\n",
            "    Gender Economic Status      Height      Weight   Age        Income\n",
            "1     Male            Poor  157.777125   58.828705  42.0  19663.450886\n",
            "5     Male            Rich  178.273061   84.176749  36.0  21004.125187\n",
            "6     Male            Rich  223.252305   63.168789  31.0  19615.610976\n",
            "8     Male            Rich  147.882472   69.102505  44.0  19890.564042\n",
            "11    Male            Poor  198.746301   90.429829  29.0  19812.050858\n",
            "..     ...             ...         ...         ...   ...           ...\n",
            "490   Male    Middle Class  133.218176   72.467883  33.0  18904.000621\n",
            "493   Male    Middle Class  153.873186   67.611925  19.0  20147.196436\n",
            "495   Male            Rich  151.488806   62.933514  10.0  21350.847498\n",
            "497   Male    Middle Class  142.384788  100.921528  51.0  19281.094111\n",
            "498   Male    Middle Class  138.258980   42.232385  33.0  19168.886608\n",
            "\n",
            "[230 rows x 6 columns]\n"
          ],
          "name": "stdout"
        }
      ]
    },
    {
      "cell_type": "code",
      "metadata": {
        "colab": {
          "base_uri": "https://localhost:8080/",
          "height": 419
        },
        "id": "pPDoDf2PpSDJ",
        "outputId": "66f864fc-bfce-40ac-f4c3-7dc9e18f6e74"
      },
      "source": [
        "grouped_gender.get_group('Female')"
      ],
      "execution_count": null,
      "outputs": [
        {
          "output_type": "execute_result",
          "data": {
            "text/plain": [
              "    Economic Status      Height      Weight   Age        Income\n",
              "0              Poor  180.597455   51.007760  14.0  20974.227728\n",
              "2              Poor  125.692536   82.151447  26.0  19227.440876\n",
              "3              Poor  158.179447   87.182354  35.0  19233.533783\n",
              "4              Poor  133.480432  102.821709  45.0  20325.753272\n",
              "7      Middle Class  130.447587  103.349493  30.0  18599.278792\n",
              "..              ...         ...         ...   ...           ...\n",
              "491            Poor  203.192452   86.113453  23.0  18897.564608\n",
              "492            Poor  116.526550   89.091527  22.0  18477.704256\n",
              "494            Rich  195.958539   31.511149  38.0  20398.682012\n",
              "496    Middle Class  180.588973   95.080851  15.0  20148.505545\n",
              "499            Rich  168.924144   52.885174  45.0  18486.602470\n",
              "\n",
              "[270 rows x 5 columns]"
            ],
            "text/html": [
              "<div>\n",
              "<style scoped>\n",
              "    .dataframe tbody tr th:only-of-type {\n",
              "        vertical-align: middle;\n",
              "    }\n",
              "\n",
              "    .dataframe tbody tr th {\n",
              "        vertical-align: top;\n",
              "    }\n",
              "\n",
              "    .dataframe thead th {\n",
              "        text-align: right;\n",
              "    }\n",
              "</style>\n",
              "<table border=\"1\" class=\"dataframe\">\n",
              "  <thead>\n",
              "    <tr style=\"text-align: right;\">\n",
              "      <th></th>\n",
              "      <th>Economic Status</th>\n",
              "      <th>Height</th>\n",
              "      <th>Weight</th>\n",
              "      <th>Age</th>\n",
              "      <th>Income</th>\n",
              "    </tr>\n",
              "  </thead>\n",
              "  <tbody>\n",
              "    <tr>\n",
              "      <th>0</th>\n",
              "      <td>Poor</td>\n",
              "      <td>180.597455</td>\n",
              "      <td>51.007760</td>\n",
              "      <td>14.0</td>\n",
              "      <td>20974.227728</td>\n",
              "    </tr>\n",
              "    <tr>\n",
              "      <th>2</th>\n",
              "      <td>Poor</td>\n",
              "      <td>125.692536</td>\n",
              "      <td>82.151447</td>\n",
              "      <td>26.0</td>\n",
              "      <td>19227.440876</td>\n",
              "    </tr>\n",
              "    <tr>\n",
              "      <th>3</th>\n",
              "      <td>Poor</td>\n",
              "      <td>158.179447</td>\n",
              "      <td>87.182354</td>\n",
              "      <td>35.0</td>\n",
              "      <td>19233.533783</td>\n",
              "    </tr>\n",
              "    <tr>\n",
              "      <th>4</th>\n",
              "      <td>Poor</td>\n",
              "      <td>133.480432</td>\n",
              "      <td>102.821709</td>\n",
              "      <td>45.0</td>\n",
              "      <td>20325.753272</td>\n",
              "    </tr>\n",
              "    <tr>\n",
              "      <th>7</th>\n",
              "      <td>Middle Class</td>\n",
              "      <td>130.447587</td>\n",
              "      <td>103.349493</td>\n",
              "      <td>30.0</td>\n",
              "      <td>18599.278792</td>\n",
              "    </tr>\n",
              "    <tr>\n",
              "      <th>...</th>\n",
              "      <td>...</td>\n",
              "      <td>...</td>\n",
              "      <td>...</td>\n",
              "      <td>...</td>\n",
              "      <td>...</td>\n",
              "    </tr>\n",
              "    <tr>\n",
              "      <th>491</th>\n",
              "      <td>Poor</td>\n",
              "      <td>203.192452</td>\n",
              "      <td>86.113453</td>\n",
              "      <td>23.0</td>\n",
              "      <td>18897.564608</td>\n",
              "    </tr>\n",
              "    <tr>\n",
              "      <th>492</th>\n",
              "      <td>Poor</td>\n",
              "      <td>116.526550</td>\n",
              "      <td>89.091527</td>\n",
              "      <td>22.0</td>\n",
              "      <td>18477.704256</td>\n",
              "    </tr>\n",
              "    <tr>\n",
              "      <th>494</th>\n",
              "      <td>Rich</td>\n",
              "      <td>195.958539</td>\n",
              "      <td>31.511149</td>\n",
              "      <td>38.0</td>\n",
              "      <td>20398.682012</td>\n",
              "    </tr>\n",
              "    <tr>\n",
              "      <th>496</th>\n",
              "      <td>Middle Class</td>\n",
              "      <td>180.588973</td>\n",
              "      <td>95.080851</td>\n",
              "      <td>15.0</td>\n",
              "      <td>20148.505545</td>\n",
              "    </tr>\n",
              "    <tr>\n",
              "      <th>499</th>\n",
              "      <td>Rich</td>\n",
              "      <td>168.924144</td>\n",
              "      <td>52.885174</td>\n",
              "      <td>45.0</td>\n",
              "      <td>18486.602470</td>\n",
              "    </tr>\n",
              "  </tbody>\n",
              "</table>\n",
              "<p>270 rows × 5 columns</p>\n",
              "</div>"
            ]
          },
          "metadata": {
            "tags": []
          },
          "execution_count": 27
        }
      ]
    },
    {
      "cell_type": "code",
      "metadata": {
        "id": "OlITvvCZpekg"
      },
      "source": [
        "double_group=data.groupby([\"Gender\",\"Economic Status\"])"
      ],
      "execution_count": null,
      "outputs": []
    },
    {
      "cell_type": "code",
      "metadata": {
        "colab": {
          "base_uri": "https://localhost:8080/"
        },
        "id": "NC2ccf1nqC0K",
        "outputId": "d0ebb50a-258e-417e-cbae-6b6e19de2813"
      },
      "source": [
        "len(double_group)"
      ],
      "execution_count": null,
      "outputs": [
        {
          "output_type": "execute_result",
          "data": {
            "text/plain": [
              "6"
            ]
          },
          "metadata": {
            "tags": []
          },
          "execution_count": 29
        }
      ]
    },
    {
      "cell_type": "code",
      "metadata": {
        "colab": {
          "base_uri": "https://localhost:8080/"
        },
        "id": "xtFP55eAqFZH",
        "outputId": "1b9c7111-d0a9-445d-9298-c827727eca94"
      },
      "source": [
        "for names,groups in double_group:\r\n",
        "  print(names)\r\n",
        "  print(groups)"
      ],
      "execution_count": null,
      "outputs": [
        {
          "output_type": "stream",
          "text": [
            "('Female', 'Middle Class')\n",
            "     Gender Economic Status      Height      Weight   Age        Income\n",
            "7    Female    Middle Class  130.447587  103.349493  30.0  18599.278792\n",
            "9    Female    Middle Class  147.815024  123.915328  33.0  19068.636954\n",
            "18   Female    Middle Class  173.189607   89.869698  30.0  19701.881680\n",
            "20   Female    Middle Class  143.600818   96.536062  31.0  20670.806214\n",
            "22   Female    Middle Class  147.767025   63.727876  40.0  19320.567174\n",
            "..      ...             ...         ...         ...   ...           ...\n",
            "472  Female    Middle Class  121.692518   96.006569  58.0  19724.228883\n",
            "474  Female    Middle Class  200.322641   79.275930  34.0  20186.525552\n",
            "478  Female    Middle Class  173.859164   81.876915  40.0  18723.177365\n",
            "487  Female    Middle Class  131.284656   58.823208  28.0  18727.507978\n",
            "496  Female    Middle Class  180.588973   95.080851  15.0  20148.505545\n",
            "\n",
            "[87 rows x 6 columns]\n",
            "('Female', 'Poor')\n",
            "     Gender Economic Status      Height      Weight   Age        Income\n",
            "0    Female            Poor  180.597455   51.007760  14.0  20974.227728\n",
            "2    Female            Poor  125.692536   82.151447  26.0  19227.440876\n",
            "3    Female            Poor  158.179447   87.182354  35.0  19233.533783\n",
            "4    Female            Poor  133.480432  102.821709  45.0  20325.753272\n",
            "10   Female            Poor  138.281028   78.853349  28.0  20665.324470\n",
            "..      ...             ...         ...         ...   ...           ...\n",
            "475  Female            Poor  140.089216   67.389677  31.0  19708.112969\n",
            "479  Female            Poor  145.659459   67.311661  21.0  19875.027522\n",
            "488  Female            Poor  195.097475   56.113435  34.0  21235.049982\n",
            "491  Female            Poor  203.192452   86.113453  23.0  18897.564608\n",
            "492  Female            Poor  116.526550   89.091527  22.0  18477.704256\n",
            "\n",
            "[93 rows x 6 columns]\n",
            "('Female', 'Rich')\n",
            "     Gender Economic Status      Height      Weight   Age        Income\n",
            "26   Female            Rich  162.089067   50.901009  18.0  19100.231035\n",
            "30   Female            Rich  161.557260   46.026022  39.0  21372.238876\n",
            "41   Female            Rich  167.547651  129.980326  18.0  19279.436217\n",
            "46   Female            Rich  178.486309   56.923198  46.0  20115.601447\n",
            "50   Female            Rich  139.618104   21.620312  52.0  18726.079882\n",
            "..      ...             ...         ...         ...   ...           ...\n",
            "469  Female            Rich  114.477791   58.652333  42.0  18678.562214\n",
            "480  Female            Rich  187.448920   60.495097  30.0  19025.971479\n",
            "486  Female            Rich  155.171868   89.929868  21.0  20328.578134\n",
            "494  Female            Rich  195.958539   31.511149  38.0  20398.682012\n",
            "499  Female            Rich  168.924144   52.885174  45.0  18486.602470\n",
            "\n",
            "[90 rows x 6 columns]\n",
            "('Male', 'Middle Class')\n",
            "    Gender Economic Status      Height      Weight   Age        Income\n",
            "19    Male    Middle Class  182.545247   32.993037  31.0  21260.044608\n",
            "24    Male    Middle Class  116.448925   38.842518  48.0  20313.062901\n",
            "31    Male    Middle Class  126.519483   86.233483  26.0  21267.904686\n",
            "36    Male    Middle Class  150.815393   30.294648  44.0  19391.976475\n",
            "39    Male    Middle Class  148.137022   83.131816  21.0  18483.176716\n",
            "..     ...             ...         ...         ...   ...           ...\n",
            "489   Male    Middle Class  122.394601   56.091156  26.0  19020.771200\n",
            "490   Male    Middle Class  133.218176   72.467883  33.0  18904.000621\n",
            "493   Male    Middle Class  153.873186   67.611925  19.0  20147.196436\n",
            "497   Male    Middle Class  142.384788  100.921528  51.0  19281.094111\n",
            "498   Male    Middle Class  138.258980   42.232385  33.0  19168.886608\n",
            "\n",
            "[74 rows x 6 columns]\n",
            "('Male', 'Poor')\n",
            "    Gender Economic Status      Height      Weight   Age        Income\n",
            "1     Male            Poor  157.777125   58.828705  42.0  19663.450886\n",
            "11    Male            Poor  198.746301   90.429829  29.0  19812.050858\n",
            "13    Male            Poor  179.477882   52.912044  35.0  19528.312094\n",
            "17    Male            Poor  160.553342  117.125403  23.0  20708.002126\n",
            "23    Male            Poor  211.056740   80.944964  58.0  21176.756627\n",
            "..     ...             ...         ...         ...   ...           ...\n",
            "440   Male            Poor  204.603939   94.555748  33.0  21349.469534\n",
            "441   Male            Poor  122.824303   50.137985  60.0  20283.506344\n",
            "445   Male            Poor  176.592304   62.814533  31.0  18720.199785\n",
            "457   Male            Poor  183.640804   91.131979  23.0  18554.605268\n",
            "485   Male            Poor  124.470434   83.210453  17.0  18979.067983\n",
            "\n",
            "[88 rows x 6 columns]\n",
            "('Male', 'Rich')\n",
            "    Gender Economic Status      Height      Weight   Age        Income\n",
            "5     Male            Rich  178.273061   84.176749  36.0  21004.125187\n",
            "6     Male            Rich  223.252305   63.168789  31.0  19615.610976\n",
            "8     Male            Rich  147.882472   69.102505  44.0  19890.564042\n",
            "16    Male            Rich  152.083314   60.965058   9.0  20291.267044\n",
            "21    Male            Rich  181.090405  102.727939  22.0  19254.009029\n",
            "..     ...             ...         ...         ...   ...           ...\n",
            "463   Male            Rich  134.541664   51.625361  32.0  20193.724441\n",
            "470   Male            Rich  125.737426   81.972092  28.0  21385.124705\n",
            "477   Male            Rich  172.402394   44.932857  16.0  18442.243302\n",
            "483   Male            Rich  167.970649   41.637026  31.0  18756.107337\n",
            "495   Male            Rich  151.488806   62.933514  10.0  21350.847498\n",
            "\n",
            "[68 rows x 6 columns]\n"
          ],
          "name": "stdout"
        }
      ]
    },
    {
      "cell_type": "markdown",
      "metadata": {
        "id": "pMZDIP3pqw3S"
      },
      "source": [
        "**Operaciones sobre datos agrupados**"
      ]
    },
    {
      "cell_type": "code",
      "metadata": {
        "colab": {
          "base_uri": "https://localhost:8080/",
          "height": 266
        },
        "id": "aEOhdrNhqMuA",
        "outputId": "a27beb2a-839e-4500-bac7-0482b1fed0e1"
      },
      "source": [
        "double_group.sum()"
      ],
      "execution_count": null,
      "outputs": [
        {
          "output_type": "execute_result",
          "data": {
            "text/plain": [
              "                              Height       Weight     Age        Income\n",
              "Gender Economic Status                                                 \n",
              "Female Middle Class     14014.313244  6128.698303  2687.0  1.718469e+06\n",
              "       Poor             14817.377376  6460.584642  2840.0  1.836051e+06\n",
              "       Rich             14673.488479  5760.129220  2607.0  1.777637e+06\n",
              "Male   Middle Class     11526.766086  4586.550025  2173.0  1.472761e+06\n",
              "       Poor             14218.659130  5673.455961  2801.0  1.725819e+06\n",
              "       Rich             11145.885480  4270.935523  1997.0  1.344065e+06"
            ],
            "text/html": [
              "<div>\n",
              "<style scoped>\n",
              "    .dataframe tbody tr th:only-of-type {\n",
              "        vertical-align: middle;\n",
              "    }\n",
              "\n",
              "    .dataframe tbody tr th {\n",
              "        vertical-align: top;\n",
              "    }\n",
              "\n",
              "    .dataframe thead th {\n",
              "        text-align: right;\n",
              "    }\n",
              "</style>\n",
              "<table border=\"1\" class=\"dataframe\">\n",
              "  <thead>\n",
              "    <tr style=\"text-align: right;\">\n",
              "      <th></th>\n",
              "      <th></th>\n",
              "      <th>Height</th>\n",
              "      <th>Weight</th>\n",
              "      <th>Age</th>\n",
              "      <th>Income</th>\n",
              "    </tr>\n",
              "    <tr>\n",
              "      <th>Gender</th>\n",
              "      <th>Economic Status</th>\n",
              "      <th></th>\n",
              "      <th></th>\n",
              "      <th></th>\n",
              "      <th></th>\n",
              "    </tr>\n",
              "  </thead>\n",
              "  <tbody>\n",
              "    <tr>\n",
              "      <th rowspan=\"3\" valign=\"top\">Female</th>\n",
              "      <th>Middle Class</th>\n",
              "      <td>14014.313244</td>\n",
              "      <td>6128.698303</td>\n",
              "      <td>2687.0</td>\n",
              "      <td>1.718469e+06</td>\n",
              "    </tr>\n",
              "    <tr>\n",
              "      <th>Poor</th>\n",
              "      <td>14817.377376</td>\n",
              "      <td>6460.584642</td>\n",
              "      <td>2840.0</td>\n",
              "      <td>1.836051e+06</td>\n",
              "    </tr>\n",
              "    <tr>\n",
              "      <th>Rich</th>\n",
              "      <td>14673.488479</td>\n",
              "      <td>5760.129220</td>\n",
              "      <td>2607.0</td>\n",
              "      <td>1.777637e+06</td>\n",
              "    </tr>\n",
              "    <tr>\n",
              "      <th rowspan=\"3\" valign=\"top\">Male</th>\n",
              "      <th>Middle Class</th>\n",
              "      <td>11526.766086</td>\n",
              "      <td>4586.550025</td>\n",
              "      <td>2173.0</td>\n",
              "      <td>1.472761e+06</td>\n",
              "    </tr>\n",
              "    <tr>\n",
              "      <th>Poor</th>\n",
              "      <td>14218.659130</td>\n",
              "      <td>5673.455961</td>\n",
              "      <td>2801.0</td>\n",
              "      <td>1.725819e+06</td>\n",
              "    </tr>\n",
              "    <tr>\n",
              "      <th>Rich</th>\n",
              "      <td>11145.885480</td>\n",
              "      <td>4270.935523</td>\n",
              "      <td>1997.0</td>\n",
              "      <td>1.344065e+06</td>\n",
              "    </tr>\n",
              "  </tbody>\n",
              "</table>\n",
              "</div>"
            ]
          },
          "metadata": {
            "tags": []
          },
          "execution_count": 32
        }
      ]
    },
    {
      "cell_type": "code",
      "metadata": {
        "colab": {
          "base_uri": "https://localhost:8080/"
        },
        "id": "7_GKGHbTrBvn",
        "outputId": "1dbb07b8-8dae-4e4f-e3db-b0a51f04fefd"
      },
      "source": [
        "double_group.size()"
      ],
      "execution_count": null,
      "outputs": [
        {
          "output_type": "execute_result",
          "data": {
            "text/plain": [
              "Gender  Economic Status\n",
              "Female  Middle Class       87\n",
              "        Poor               93\n",
              "        Rich               90\n",
              "Male    Middle Class       74\n",
              "        Poor               88\n",
              "        Rich               68\n",
              "dtype: int64"
            ]
          },
          "metadata": {
            "tags": []
          },
          "execution_count": 33
        }
      ]
    },
    {
      "cell_type": "code",
      "metadata": {
        "colab": {
          "base_uri": "https://localhost:8080/",
          "height": 397
        },
        "id": "Leg2Sz_4rWNF",
        "outputId": "5ab8d97a-1d66-463b-f669-1f680a257fe0"
      },
      "source": [
        "double_group.describe()"
      ],
      "execution_count": null,
      "outputs": [
        {
          "output_type": "execute_result",
          "data": {
            "text/plain": [
              "                       Height                                                 \\\n",
              "                        count        mean        std         min         25%   \n",
              "Gender Economic Status                                                         \n",
              "Female Middle Class      87.0  161.084060  34.859356   76.329990  139.209212   \n",
              "       Poor              93.0  159.326638  31.585711   83.282503  134.265134   \n",
              "       Rich              90.0  163.038761  30.011053   67.303379  150.075213   \n",
              "Male   Middle Class      74.0  155.767109  28.709008   88.529720  133.203253   \n",
              "       Poor              88.0  161.575672  30.331719   71.293567  141.272767   \n",
              "       Rich              68.0  163.910081  30.090928  102.985264  144.437050   \n",
              "\n",
              "                                                           Weight             \\\n",
              "                               50%         75%         max  count       mean   \n",
              "Gender Economic Status                                                         \n",
              "Female Middle Class     158.079999  180.735915  271.369365   87.0  70.444808   \n",
              "       Poor             158.179447  181.028675  227.133639   93.0  69.468652   \n",
              "       Rich             166.761665  179.911192  245.929189   90.0  64.001436   \n",
              "Male   Middle Class     153.595754  177.758356  223.268014   74.0  61.980406   \n",
              "       Poor             161.234320  183.239842  216.575693   88.0  64.471090   \n",
              "       Rich             162.665877  179.664567  256.592858   68.0  62.807875   \n",
              "\n",
              "                        ...    Age       Income                             \\\n",
              "                        ...    75%   max  count          mean          std   \n",
              "Gender Economic Status  ...                                                  \n",
              "Female Middle Class     ...  41.00  58.0   87.0  19752.522348  1013.005503   \n",
              "       Poor             ...  38.00  60.0   93.0  19742.487466   962.461940   \n",
              "       Rich             ...  36.00  58.0   90.0  19751.523293   927.877882   \n",
              "Male   Middle Class     ...  39.00  53.0   74.0  19902.180363  1029.320827   \n",
              "       Poor             ...  41.00  68.0   88.0  19611.574959  1009.921255   \n",
              "       Rich             ...  37.25  61.0   68.0  19765.660551   959.330964   \n",
              "\n",
              "                                                                  \\\n",
              "                                 min           25%           50%   \n",
              "Gender Economic Status                                             \n",
              "Female Middle Class     18006.879331  18873.220568  19837.215060   \n",
              "       Poor             18031.297748  19045.528138  19723.609532   \n",
              "       Rich             18065.753033  19044.746434  19650.112965   \n",
              "Male   Middle Class     18010.243008  19038.047759  20135.579612   \n",
              "       Poor             18015.632002  18758.691160  19384.628470   \n",
              "       Rich             18023.034195  18954.843345  19904.000076   \n",
              "\n",
              "                                                    \n",
              "                                 75%           max  \n",
              "Gender Economic Status                              \n",
              "Female Middle Class     20556.291059  21464.384377  \n",
              "       Poor             20579.089423  21401.425659  \n",
              "       Rich             20500.870685  21422.707797  \n",
              "Male   Middle Class     20718.117921  21492.307207  \n",
              "       Poor             20462.080609  21467.581576  \n",
              "       Rich             20501.747779  21478.513570  \n",
              "\n",
              "[6 rows x 32 columns]"
            ],
            "text/html": [
              "<div>\n",
              "<style scoped>\n",
              "    .dataframe tbody tr th:only-of-type {\n",
              "        vertical-align: middle;\n",
              "    }\n",
              "\n",
              "    .dataframe tbody tr th {\n",
              "        vertical-align: top;\n",
              "    }\n",
              "\n",
              "    .dataframe thead tr th {\n",
              "        text-align: left;\n",
              "    }\n",
              "\n",
              "    .dataframe thead tr:last-of-type th {\n",
              "        text-align: right;\n",
              "    }\n",
              "</style>\n",
              "<table border=\"1\" class=\"dataframe\">\n",
              "  <thead>\n",
              "    <tr>\n",
              "      <th></th>\n",
              "      <th></th>\n",
              "      <th colspan=\"8\" halign=\"left\">Height</th>\n",
              "      <th colspan=\"2\" halign=\"left\">Weight</th>\n",
              "      <th>...</th>\n",
              "      <th colspan=\"2\" halign=\"left\">Age</th>\n",
              "      <th colspan=\"8\" halign=\"left\">Income</th>\n",
              "    </tr>\n",
              "    <tr>\n",
              "      <th></th>\n",
              "      <th></th>\n",
              "      <th>count</th>\n",
              "      <th>mean</th>\n",
              "      <th>std</th>\n",
              "      <th>min</th>\n",
              "      <th>25%</th>\n",
              "      <th>50%</th>\n",
              "      <th>75%</th>\n",
              "      <th>max</th>\n",
              "      <th>count</th>\n",
              "      <th>mean</th>\n",
              "      <th>...</th>\n",
              "      <th>75%</th>\n",
              "      <th>max</th>\n",
              "      <th>count</th>\n",
              "      <th>mean</th>\n",
              "      <th>std</th>\n",
              "      <th>min</th>\n",
              "      <th>25%</th>\n",
              "      <th>50%</th>\n",
              "      <th>75%</th>\n",
              "      <th>max</th>\n",
              "    </tr>\n",
              "    <tr>\n",
              "      <th>Gender</th>\n",
              "      <th>Economic Status</th>\n",
              "      <th></th>\n",
              "      <th></th>\n",
              "      <th></th>\n",
              "      <th></th>\n",
              "      <th></th>\n",
              "      <th></th>\n",
              "      <th></th>\n",
              "      <th></th>\n",
              "      <th></th>\n",
              "      <th></th>\n",
              "      <th></th>\n",
              "      <th></th>\n",
              "      <th></th>\n",
              "      <th></th>\n",
              "      <th></th>\n",
              "      <th></th>\n",
              "      <th></th>\n",
              "      <th></th>\n",
              "      <th></th>\n",
              "      <th></th>\n",
              "      <th></th>\n",
              "    </tr>\n",
              "  </thead>\n",
              "  <tbody>\n",
              "    <tr>\n",
              "      <th rowspan=\"3\" valign=\"top\">Female</th>\n",
              "      <th>Middle Class</th>\n",
              "      <td>87.0</td>\n",
              "      <td>161.084060</td>\n",
              "      <td>34.859356</td>\n",
              "      <td>76.329990</td>\n",
              "      <td>139.209212</td>\n",
              "      <td>158.079999</td>\n",
              "      <td>180.735915</td>\n",
              "      <td>271.369365</td>\n",
              "      <td>87.0</td>\n",
              "      <td>70.444808</td>\n",
              "      <td>...</td>\n",
              "      <td>41.00</td>\n",
              "      <td>58.0</td>\n",
              "      <td>87.0</td>\n",
              "      <td>19752.522348</td>\n",
              "      <td>1013.005503</td>\n",
              "      <td>18006.879331</td>\n",
              "      <td>18873.220568</td>\n",
              "      <td>19837.215060</td>\n",
              "      <td>20556.291059</td>\n",
              "      <td>21464.384377</td>\n",
              "    </tr>\n",
              "    <tr>\n",
              "      <th>Poor</th>\n",
              "      <td>93.0</td>\n",
              "      <td>159.326638</td>\n",
              "      <td>31.585711</td>\n",
              "      <td>83.282503</td>\n",
              "      <td>134.265134</td>\n",
              "      <td>158.179447</td>\n",
              "      <td>181.028675</td>\n",
              "      <td>227.133639</td>\n",
              "      <td>93.0</td>\n",
              "      <td>69.468652</td>\n",
              "      <td>...</td>\n",
              "      <td>38.00</td>\n",
              "      <td>60.0</td>\n",
              "      <td>93.0</td>\n",
              "      <td>19742.487466</td>\n",
              "      <td>962.461940</td>\n",
              "      <td>18031.297748</td>\n",
              "      <td>19045.528138</td>\n",
              "      <td>19723.609532</td>\n",
              "      <td>20579.089423</td>\n",
              "      <td>21401.425659</td>\n",
              "    </tr>\n",
              "    <tr>\n",
              "      <th>Rich</th>\n",
              "      <td>90.0</td>\n",
              "      <td>163.038761</td>\n",
              "      <td>30.011053</td>\n",
              "      <td>67.303379</td>\n",
              "      <td>150.075213</td>\n",
              "      <td>166.761665</td>\n",
              "      <td>179.911192</td>\n",
              "      <td>245.929189</td>\n",
              "      <td>90.0</td>\n",
              "      <td>64.001436</td>\n",
              "      <td>...</td>\n",
              "      <td>36.00</td>\n",
              "      <td>58.0</td>\n",
              "      <td>90.0</td>\n",
              "      <td>19751.523293</td>\n",
              "      <td>927.877882</td>\n",
              "      <td>18065.753033</td>\n",
              "      <td>19044.746434</td>\n",
              "      <td>19650.112965</td>\n",
              "      <td>20500.870685</td>\n",
              "      <td>21422.707797</td>\n",
              "    </tr>\n",
              "    <tr>\n",
              "      <th rowspan=\"3\" valign=\"top\">Male</th>\n",
              "      <th>Middle Class</th>\n",
              "      <td>74.0</td>\n",
              "      <td>155.767109</td>\n",
              "      <td>28.709008</td>\n",
              "      <td>88.529720</td>\n",
              "      <td>133.203253</td>\n",
              "      <td>153.595754</td>\n",
              "      <td>177.758356</td>\n",
              "      <td>223.268014</td>\n",
              "      <td>74.0</td>\n",
              "      <td>61.980406</td>\n",
              "      <td>...</td>\n",
              "      <td>39.00</td>\n",
              "      <td>53.0</td>\n",
              "      <td>74.0</td>\n",
              "      <td>19902.180363</td>\n",
              "      <td>1029.320827</td>\n",
              "      <td>18010.243008</td>\n",
              "      <td>19038.047759</td>\n",
              "      <td>20135.579612</td>\n",
              "      <td>20718.117921</td>\n",
              "      <td>21492.307207</td>\n",
              "    </tr>\n",
              "    <tr>\n",
              "      <th>Poor</th>\n",
              "      <td>88.0</td>\n",
              "      <td>161.575672</td>\n",
              "      <td>30.331719</td>\n",
              "      <td>71.293567</td>\n",
              "      <td>141.272767</td>\n",
              "      <td>161.234320</td>\n",
              "      <td>183.239842</td>\n",
              "      <td>216.575693</td>\n",
              "      <td>88.0</td>\n",
              "      <td>64.471090</td>\n",
              "      <td>...</td>\n",
              "      <td>41.00</td>\n",
              "      <td>68.0</td>\n",
              "      <td>88.0</td>\n",
              "      <td>19611.574959</td>\n",
              "      <td>1009.921255</td>\n",
              "      <td>18015.632002</td>\n",
              "      <td>18758.691160</td>\n",
              "      <td>19384.628470</td>\n",
              "      <td>20462.080609</td>\n",
              "      <td>21467.581576</td>\n",
              "    </tr>\n",
              "    <tr>\n",
              "      <th>Rich</th>\n",
              "      <td>68.0</td>\n",
              "      <td>163.910081</td>\n",
              "      <td>30.090928</td>\n",
              "      <td>102.985264</td>\n",
              "      <td>144.437050</td>\n",
              "      <td>162.665877</td>\n",
              "      <td>179.664567</td>\n",
              "      <td>256.592858</td>\n",
              "      <td>68.0</td>\n",
              "      <td>62.807875</td>\n",
              "      <td>...</td>\n",
              "      <td>37.25</td>\n",
              "      <td>61.0</td>\n",
              "      <td>68.0</td>\n",
              "      <td>19765.660551</td>\n",
              "      <td>959.330964</td>\n",
              "      <td>18023.034195</td>\n",
              "      <td>18954.843345</td>\n",
              "      <td>19904.000076</td>\n",
              "      <td>20501.747779</td>\n",
              "      <td>21478.513570</td>\n",
              "    </tr>\n",
              "  </tbody>\n",
              "</table>\n",
              "<p>6 rows × 32 columns</p>\n",
              "</div>"
            ]
          },
          "metadata": {
            "tags": []
          },
          "execution_count": 34
        }
      ]
    },
    {
      "cell_type": "code",
      "metadata": {
        "id": "xNKjJol9uh2u"
      },
      "source": [
        "grouped_income=double_group[\"Income\"]"
      ],
      "execution_count": null,
      "outputs": []
    },
    {
      "cell_type": "code",
      "metadata": {
        "colab": {
          "base_uri": "https://localhost:8080/",
          "height": 337
        },
        "id": "-n-l5poVrYC9",
        "outputId": "a757c3fa-ea28-43b9-e54c-2ed6f55c968d"
      },
      "source": [
        "grouped_income.describe()"
      ],
      "execution_count": null,
      "outputs": [
        {
          "output_type": "execute_result",
          "data": {
            "text/plain": [
              "                        count          mean          std           min  \\\n",
              "Gender Economic Status                                                   \n",
              "Female Middle Class      87.0  19752.522348  1013.005503  18006.879331   \n",
              "       Poor              93.0  19742.487466   962.461940  18031.297748   \n",
              "       Rich              90.0  19751.523293   927.877882  18065.753033   \n",
              "Male   Middle Class      74.0  19902.180363  1029.320827  18010.243008   \n",
              "       Poor              88.0  19611.574959  1009.921255  18015.632002   \n",
              "       Rich              68.0  19765.660551   959.330964  18023.034195   \n",
              "\n",
              "                                 25%           50%           75%           max  \n",
              "Gender Economic Status                                                          \n",
              "Female Middle Class     18873.220568  19837.215060  20556.291059  21464.384377  \n",
              "       Poor             19045.528138  19723.609532  20579.089423  21401.425659  \n",
              "       Rich             19044.746434  19650.112965  20500.870685  21422.707797  \n",
              "Male   Middle Class     19038.047759  20135.579612  20718.117921  21492.307207  \n",
              "       Poor             18758.691160  19384.628470  20462.080609  21467.581576  \n",
              "       Rich             18954.843345  19904.000076  20501.747779  21478.513570  "
            ],
            "text/html": [
              "<div>\n",
              "<style scoped>\n",
              "    .dataframe tbody tr th:only-of-type {\n",
              "        vertical-align: middle;\n",
              "    }\n",
              "\n",
              "    .dataframe tbody tr th {\n",
              "        vertical-align: top;\n",
              "    }\n",
              "\n",
              "    .dataframe thead th {\n",
              "        text-align: right;\n",
              "    }\n",
              "</style>\n",
              "<table border=\"1\" class=\"dataframe\">\n",
              "  <thead>\n",
              "    <tr style=\"text-align: right;\">\n",
              "      <th></th>\n",
              "      <th></th>\n",
              "      <th>count</th>\n",
              "      <th>mean</th>\n",
              "      <th>std</th>\n",
              "      <th>min</th>\n",
              "      <th>25%</th>\n",
              "      <th>50%</th>\n",
              "      <th>75%</th>\n",
              "      <th>max</th>\n",
              "    </tr>\n",
              "    <tr>\n",
              "      <th>Gender</th>\n",
              "      <th>Economic Status</th>\n",
              "      <th></th>\n",
              "      <th></th>\n",
              "      <th></th>\n",
              "      <th></th>\n",
              "      <th></th>\n",
              "      <th></th>\n",
              "      <th></th>\n",
              "      <th></th>\n",
              "    </tr>\n",
              "  </thead>\n",
              "  <tbody>\n",
              "    <tr>\n",
              "      <th rowspan=\"3\" valign=\"top\">Female</th>\n",
              "      <th>Middle Class</th>\n",
              "      <td>87.0</td>\n",
              "      <td>19752.522348</td>\n",
              "      <td>1013.005503</td>\n",
              "      <td>18006.879331</td>\n",
              "      <td>18873.220568</td>\n",
              "      <td>19837.215060</td>\n",
              "      <td>20556.291059</td>\n",
              "      <td>21464.384377</td>\n",
              "    </tr>\n",
              "    <tr>\n",
              "      <th>Poor</th>\n",
              "      <td>93.0</td>\n",
              "      <td>19742.487466</td>\n",
              "      <td>962.461940</td>\n",
              "      <td>18031.297748</td>\n",
              "      <td>19045.528138</td>\n",
              "      <td>19723.609532</td>\n",
              "      <td>20579.089423</td>\n",
              "      <td>21401.425659</td>\n",
              "    </tr>\n",
              "    <tr>\n",
              "      <th>Rich</th>\n",
              "      <td>90.0</td>\n",
              "      <td>19751.523293</td>\n",
              "      <td>927.877882</td>\n",
              "      <td>18065.753033</td>\n",
              "      <td>19044.746434</td>\n",
              "      <td>19650.112965</td>\n",
              "      <td>20500.870685</td>\n",
              "      <td>21422.707797</td>\n",
              "    </tr>\n",
              "    <tr>\n",
              "      <th rowspan=\"3\" valign=\"top\">Male</th>\n",
              "      <th>Middle Class</th>\n",
              "      <td>74.0</td>\n",
              "      <td>19902.180363</td>\n",
              "      <td>1029.320827</td>\n",
              "      <td>18010.243008</td>\n",
              "      <td>19038.047759</td>\n",
              "      <td>20135.579612</td>\n",
              "      <td>20718.117921</td>\n",
              "      <td>21492.307207</td>\n",
              "    </tr>\n",
              "    <tr>\n",
              "      <th>Poor</th>\n",
              "      <td>88.0</td>\n",
              "      <td>19611.574959</td>\n",
              "      <td>1009.921255</td>\n",
              "      <td>18015.632002</td>\n",
              "      <td>18758.691160</td>\n",
              "      <td>19384.628470</td>\n",
              "      <td>20462.080609</td>\n",
              "      <td>21467.581576</td>\n",
              "    </tr>\n",
              "    <tr>\n",
              "      <th>Rich</th>\n",
              "      <td>68.0</td>\n",
              "      <td>19765.660551</td>\n",
              "      <td>959.330964</td>\n",
              "      <td>18023.034195</td>\n",
              "      <td>18954.843345</td>\n",
              "      <td>19904.000076</td>\n",
              "      <td>20501.747779</td>\n",
              "      <td>21478.513570</td>\n",
              "    </tr>\n",
              "  </tbody>\n",
              "</table>\n",
              "</div>"
            ]
          },
          "metadata": {
            "tags": []
          },
          "execution_count": 37
        }
      ]
    },
    {
      "cell_type": "code",
      "metadata": {
        "colab": {
          "base_uri": "https://localhost:8080/",
          "height": 266
        },
        "id": "OeyoqoJ8ugRL",
        "outputId": "f3675d3d-ead1-4dc6-89da-184676a61629"
      },
      "source": [
        "double_group.aggregate(\r\n",
        "    {\r\n",
        "        \"Income\":np.sum,\r\n",
        "     \"Age\":np.mean,\r\n",
        "     \"Height\":np.std\r\n",
        "    }\r\n",
        ")"
      ],
      "execution_count": null,
      "outputs": [
        {
          "output_type": "execute_result",
          "data": {
            "text/plain": [
              "                              Income        Age     Height\n",
              "Gender Economic Status                                    \n",
              "Female Middle Class     1.718469e+06  30.885057  34.859356\n",
              "       Poor             1.836051e+06  30.537634  31.585711\n",
              "       Rich             1.777637e+06  28.966667  30.011053\n",
              "Male   Middle Class     1.472761e+06  29.364865  28.709008\n",
              "       Poor             1.725819e+06  31.829545  30.331719\n",
              "       Rich             1.344065e+06  29.367647  30.090928"
            ],
            "text/html": [
              "<div>\n",
              "<style scoped>\n",
              "    .dataframe tbody tr th:only-of-type {\n",
              "        vertical-align: middle;\n",
              "    }\n",
              "\n",
              "    .dataframe tbody tr th {\n",
              "        vertical-align: top;\n",
              "    }\n",
              "\n",
              "    .dataframe thead th {\n",
              "        text-align: right;\n",
              "    }\n",
              "</style>\n",
              "<table border=\"1\" class=\"dataframe\">\n",
              "  <thead>\n",
              "    <tr style=\"text-align: right;\">\n",
              "      <th></th>\n",
              "      <th></th>\n",
              "      <th>Income</th>\n",
              "      <th>Age</th>\n",
              "      <th>Height</th>\n",
              "    </tr>\n",
              "    <tr>\n",
              "      <th>Gender</th>\n",
              "      <th>Economic Status</th>\n",
              "      <th></th>\n",
              "      <th></th>\n",
              "      <th></th>\n",
              "    </tr>\n",
              "  </thead>\n",
              "  <tbody>\n",
              "    <tr>\n",
              "      <th rowspan=\"3\" valign=\"top\">Female</th>\n",
              "      <th>Middle Class</th>\n",
              "      <td>1.718469e+06</td>\n",
              "      <td>30.885057</td>\n",
              "      <td>34.859356</td>\n",
              "    </tr>\n",
              "    <tr>\n",
              "      <th>Poor</th>\n",
              "      <td>1.836051e+06</td>\n",
              "      <td>30.537634</td>\n",
              "      <td>31.585711</td>\n",
              "    </tr>\n",
              "    <tr>\n",
              "      <th>Rich</th>\n",
              "      <td>1.777637e+06</td>\n",
              "      <td>28.966667</td>\n",
              "      <td>30.011053</td>\n",
              "    </tr>\n",
              "    <tr>\n",
              "      <th rowspan=\"3\" valign=\"top\">Male</th>\n",
              "      <th>Middle Class</th>\n",
              "      <td>1.472761e+06</td>\n",
              "      <td>29.364865</td>\n",
              "      <td>28.709008</td>\n",
              "    </tr>\n",
              "    <tr>\n",
              "      <th>Poor</th>\n",
              "      <td>1.725819e+06</td>\n",
              "      <td>31.829545</td>\n",
              "      <td>30.331719</td>\n",
              "    </tr>\n",
              "    <tr>\n",
              "      <th>Rich</th>\n",
              "      <td>1.344065e+06</td>\n",
              "      <td>29.367647</td>\n",
              "      <td>30.090928</td>\n",
              "    </tr>\n",
              "  </tbody>\n",
              "</table>\n",
              "</div>"
            ]
          },
          "metadata": {
            "tags": []
          },
          "execution_count": 38
        }
      ]
    },
    {
      "cell_type": "code",
      "metadata": {
        "colab": {
          "base_uri": "https://localhost:8080/",
          "height": 266
        },
        "id": "pxFFNjf5vIH3",
        "outputId": "c3c4a719-4c31-4236-c7e8-e588569a4cbc"
      },
      "source": [
        "double_group.aggregate(\r\n",
        "    {\r\n",
        "        \"Age\":np.mean,\r\n",
        "     \"Height\":lambda h:np.mean(h)/np.std(h)\r\n",
        "    }\r\n",
        ")"
      ],
      "execution_count": null,
      "outputs": [
        {
          "output_type": "execute_result",
          "data": {
            "text/plain": [
              "                              Age    Height\n",
              "Gender Economic Status                     \n",
              "Female Middle Class     30.885057  4.647759\n",
              "       Poor             30.537634  5.071604\n",
              "       Rich             28.966667  5.463059\n",
              "Male   Middle Class     29.364865  5.462758\n",
              "       Poor             31.829545  5.357481\n",
              "       Rich             29.367647  5.487659"
            ],
            "text/html": [
              "<div>\n",
              "<style scoped>\n",
              "    .dataframe tbody tr th:only-of-type {\n",
              "        vertical-align: middle;\n",
              "    }\n",
              "\n",
              "    .dataframe tbody tr th {\n",
              "        vertical-align: top;\n",
              "    }\n",
              "\n",
              "    .dataframe thead th {\n",
              "        text-align: right;\n",
              "    }\n",
              "</style>\n",
              "<table border=\"1\" class=\"dataframe\">\n",
              "  <thead>\n",
              "    <tr style=\"text-align: right;\">\n",
              "      <th></th>\n",
              "      <th></th>\n",
              "      <th>Age</th>\n",
              "      <th>Height</th>\n",
              "    </tr>\n",
              "    <tr>\n",
              "      <th>Gender</th>\n",
              "      <th>Economic Status</th>\n",
              "      <th></th>\n",
              "      <th></th>\n",
              "    </tr>\n",
              "  </thead>\n",
              "  <tbody>\n",
              "    <tr>\n",
              "      <th rowspan=\"3\" valign=\"top\">Female</th>\n",
              "      <th>Middle Class</th>\n",
              "      <td>30.885057</td>\n",
              "      <td>4.647759</td>\n",
              "    </tr>\n",
              "    <tr>\n",
              "      <th>Poor</th>\n",
              "      <td>30.537634</td>\n",
              "      <td>5.071604</td>\n",
              "    </tr>\n",
              "    <tr>\n",
              "      <th>Rich</th>\n",
              "      <td>28.966667</td>\n",
              "      <td>5.463059</td>\n",
              "    </tr>\n",
              "    <tr>\n",
              "      <th rowspan=\"3\" valign=\"top\">Male</th>\n",
              "      <th>Middle Class</th>\n",
              "      <td>29.364865</td>\n",
              "      <td>5.462758</td>\n",
              "    </tr>\n",
              "    <tr>\n",
              "      <th>Poor</th>\n",
              "      <td>31.829545</td>\n",
              "      <td>5.357481</td>\n",
              "    </tr>\n",
              "    <tr>\n",
              "      <th>Rich</th>\n",
              "      <td>29.367647</td>\n",
              "      <td>5.487659</td>\n",
              "    </tr>\n",
              "  </tbody>\n",
              "</table>\n",
              "</div>"
            ]
          },
          "metadata": {
            "tags": []
          },
          "execution_count": 39
        }
      ]
    },
    {
      "cell_type": "code",
      "metadata": {
        "colab": {
          "base_uri": "https://localhost:8080/",
          "height": 368
        },
        "id": "Xl42bEvTvmXv",
        "outputId": "9cdbde00-b47d-454b-b454-e6c6d147f20d"
      },
      "source": [
        "double_group.aggregate([np.sum,np.mean,np.std])"
      ],
      "execution_count": null,
      "outputs": [
        {
          "output_type": "execute_result",
          "data": {
            "text/plain": [
              "                              Height                              Weight  \\\n",
              "                                 sum        mean        std          sum   \n",
              "Gender Economic Status                                                     \n",
              "Female Middle Class     14014.313244  161.084060  34.859356  6128.698303   \n",
              "       Poor             14817.377376  159.326638  31.585711  6460.584642   \n",
              "       Rich             14673.488479  163.038761  30.011053  5760.129220   \n",
              "Male   Middle Class     11526.766086  155.767109  28.709008  4586.550025   \n",
              "       Poor             14218.659130  161.575672  30.331719  5673.455961   \n",
              "       Rich             11145.885480  163.910081  30.090928  4270.935523   \n",
              "\n",
              "                                                 Age                        \\\n",
              "                             mean        std     sum       mean        std   \n",
              "Gender Economic Status                                                       \n",
              "Female Middle Class     70.444808  27.011748  2687.0  30.885057  14.128501   \n",
              "       Poor             69.468652  23.132785  2840.0  30.537634  10.947065   \n",
              "       Rich             64.001436  27.485195  2607.0  28.966667  11.959153   \n",
              "Male   Middle Class     61.980406  26.261018  2173.0  29.364865  12.464277   \n",
              "       Poor             64.471090  27.391661  2801.0  31.829545  12.874479   \n",
              "       Rich             62.807875  24.826358  1997.0  29.367647  12.550679   \n",
              "\n",
              "                              Income                             \n",
              "                                 sum          mean          std  \n",
              "Gender Economic Status                                           \n",
              "Female Middle Class     1.718469e+06  19752.522348  1013.005503  \n",
              "       Poor             1.836051e+06  19742.487466   962.461940  \n",
              "       Rich             1.777637e+06  19751.523293   927.877882  \n",
              "Male   Middle Class     1.472761e+06  19902.180363  1029.320827  \n",
              "       Poor             1.725819e+06  19611.574959  1009.921255  \n",
              "       Rich             1.344065e+06  19765.660551   959.330964  "
            ],
            "text/html": [
              "<div>\n",
              "<style scoped>\n",
              "    .dataframe tbody tr th:only-of-type {\n",
              "        vertical-align: middle;\n",
              "    }\n",
              "\n",
              "    .dataframe tbody tr th {\n",
              "        vertical-align: top;\n",
              "    }\n",
              "\n",
              "    .dataframe thead tr th {\n",
              "        text-align: left;\n",
              "    }\n",
              "\n",
              "    .dataframe thead tr:last-of-type th {\n",
              "        text-align: right;\n",
              "    }\n",
              "</style>\n",
              "<table border=\"1\" class=\"dataframe\">\n",
              "  <thead>\n",
              "    <tr>\n",
              "      <th></th>\n",
              "      <th></th>\n",
              "      <th colspan=\"3\" halign=\"left\">Height</th>\n",
              "      <th colspan=\"3\" halign=\"left\">Weight</th>\n",
              "      <th colspan=\"3\" halign=\"left\">Age</th>\n",
              "      <th colspan=\"3\" halign=\"left\">Income</th>\n",
              "    </tr>\n",
              "    <tr>\n",
              "      <th></th>\n",
              "      <th></th>\n",
              "      <th>sum</th>\n",
              "      <th>mean</th>\n",
              "      <th>std</th>\n",
              "      <th>sum</th>\n",
              "      <th>mean</th>\n",
              "      <th>std</th>\n",
              "      <th>sum</th>\n",
              "      <th>mean</th>\n",
              "      <th>std</th>\n",
              "      <th>sum</th>\n",
              "      <th>mean</th>\n",
              "      <th>std</th>\n",
              "    </tr>\n",
              "    <tr>\n",
              "      <th>Gender</th>\n",
              "      <th>Economic Status</th>\n",
              "      <th></th>\n",
              "      <th></th>\n",
              "      <th></th>\n",
              "      <th></th>\n",
              "      <th></th>\n",
              "      <th></th>\n",
              "      <th></th>\n",
              "      <th></th>\n",
              "      <th></th>\n",
              "      <th></th>\n",
              "      <th></th>\n",
              "      <th></th>\n",
              "    </tr>\n",
              "  </thead>\n",
              "  <tbody>\n",
              "    <tr>\n",
              "      <th rowspan=\"3\" valign=\"top\">Female</th>\n",
              "      <th>Middle Class</th>\n",
              "      <td>14014.313244</td>\n",
              "      <td>161.084060</td>\n",
              "      <td>34.859356</td>\n",
              "      <td>6128.698303</td>\n",
              "      <td>70.444808</td>\n",
              "      <td>27.011748</td>\n",
              "      <td>2687.0</td>\n",
              "      <td>30.885057</td>\n",
              "      <td>14.128501</td>\n",
              "      <td>1.718469e+06</td>\n",
              "      <td>19752.522348</td>\n",
              "      <td>1013.005503</td>\n",
              "    </tr>\n",
              "    <tr>\n",
              "      <th>Poor</th>\n",
              "      <td>14817.377376</td>\n",
              "      <td>159.326638</td>\n",
              "      <td>31.585711</td>\n",
              "      <td>6460.584642</td>\n",
              "      <td>69.468652</td>\n",
              "      <td>23.132785</td>\n",
              "      <td>2840.0</td>\n",
              "      <td>30.537634</td>\n",
              "      <td>10.947065</td>\n",
              "      <td>1.836051e+06</td>\n",
              "      <td>19742.487466</td>\n",
              "      <td>962.461940</td>\n",
              "    </tr>\n",
              "    <tr>\n",
              "      <th>Rich</th>\n",
              "      <td>14673.488479</td>\n",
              "      <td>163.038761</td>\n",
              "      <td>30.011053</td>\n",
              "      <td>5760.129220</td>\n",
              "      <td>64.001436</td>\n",
              "      <td>27.485195</td>\n",
              "      <td>2607.0</td>\n",
              "      <td>28.966667</td>\n",
              "      <td>11.959153</td>\n",
              "      <td>1.777637e+06</td>\n",
              "      <td>19751.523293</td>\n",
              "      <td>927.877882</td>\n",
              "    </tr>\n",
              "    <tr>\n",
              "      <th rowspan=\"3\" valign=\"top\">Male</th>\n",
              "      <th>Middle Class</th>\n",
              "      <td>11526.766086</td>\n",
              "      <td>155.767109</td>\n",
              "      <td>28.709008</td>\n",
              "      <td>4586.550025</td>\n",
              "      <td>61.980406</td>\n",
              "      <td>26.261018</td>\n",
              "      <td>2173.0</td>\n",
              "      <td>29.364865</td>\n",
              "      <td>12.464277</td>\n",
              "      <td>1.472761e+06</td>\n",
              "      <td>19902.180363</td>\n",
              "      <td>1029.320827</td>\n",
              "    </tr>\n",
              "    <tr>\n",
              "      <th>Poor</th>\n",
              "      <td>14218.659130</td>\n",
              "      <td>161.575672</td>\n",
              "      <td>30.331719</td>\n",
              "      <td>5673.455961</td>\n",
              "      <td>64.471090</td>\n",
              "      <td>27.391661</td>\n",
              "      <td>2801.0</td>\n",
              "      <td>31.829545</td>\n",
              "      <td>12.874479</td>\n",
              "      <td>1.725819e+06</td>\n",
              "      <td>19611.574959</td>\n",
              "      <td>1009.921255</td>\n",
              "    </tr>\n",
              "    <tr>\n",
              "      <th>Rich</th>\n",
              "      <td>11145.885480</td>\n",
              "      <td>163.910081</td>\n",
              "      <td>30.090928</td>\n",
              "      <td>4270.935523</td>\n",
              "      <td>62.807875</td>\n",
              "      <td>24.826358</td>\n",
              "      <td>1997.0</td>\n",
              "      <td>29.367647</td>\n",
              "      <td>12.550679</td>\n",
              "      <td>1.344065e+06</td>\n",
              "      <td>19765.660551</td>\n",
              "      <td>959.330964</td>\n",
              "    </tr>\n",
              "  </tbody>\n",
              "</table>\n",
              "</div>"
            ]
          },
          "metadata": {
            "tags": []
          },
          "execution_count": 40
        }
      ]
    },
    {
      "cell_type": "code",
      "metadata": {
        "colab": {
          "base_uri": "https://localhost:8080/",
          "height": 297
        },
        "id": "8UqHroaGv4_1",
        "outputId": "4d4b755d-8996-4814-d075-b4585eb748f3"
      },
      "source": [
        "double_group.aggregate([lambda x: np.mean(x)/np.std(x)])"
      ],
      "execution_count": null,
      "outputs": [
        {
          "output_type": "execute_result",
          "data": {
            "text/plain": [
              "                          Height    Weight       Age     Income\n",
              "                        <lambda>  <lambda>  <lambda>   <lambda>\n",
              "Gender Economic Status                                         \n",
              "Female Middle Class     4.647759  2.623051  2.198684  19.611967\n",
              "       Poor             5.071604  3.019316  2.804692  20.623666\n",
              "       Rich             5.463059  2.341624  2.435703  21.406025\n",
              "Male   Middle Class     5.462758  2.376278  2.372004  19.467237\n",
              "       Poor             5.357481  2.367164  2.486466  19.530199\n",
              "       Rich             5.487659  2.548697  2.357322  20.756777"
            ],
            "text/html": [
              "<div>\n",
              "<style scoped>\n",
              "    .dataframe tbody tr th:only-of-type {\n",
              "        vertical-align: middle;\n",
              "    }\n",
              "\n",
              "    .dataframe tbody tr th {\n",
              "        vertical-align: top;\n",
              "    }\n",
              "\n",
              "    .dataframe thead tr th {\n",
              "        text-align: left;\n",
              "    }\n",
              "\n",
              "    .dataframe thead tr:last-of-type th {\n",
              "        text-align: right;\n",
              "    }\n",
              "</style>\n",
              "<table border=\"1\" class=\"dataframe\">\n",
              "  <thead>\n",
              "    <tr>\n",
              "      <th></th>\n",
              "      <th></th>\n",
              "      <th>Height</th>\n",
              "      <th>Weight</th>\n",
              "      <th>Age</th>\n",
              "      <th>Income</th>\n",
              "    </tr>\n",
              "    <tr>\n",
              "      <th></th>\n",
              "      <th></th>\n",
              "      <th>&lt;lambda&gt;</th>\n",
              "      <th>&lt;lambda&gt;</th>\n",
              "      <th>&lt;lambda&gt;</th>\n",
              "      <th>&lt;lambda&gt;</th>\n",
              "    </tr>\n",
              "    <tr>\n",
              "      <th>Gender</th>\n",
              "      <th>Economic Status</th>\n",
              "      <th></th>\n",
              "      <th></th>\n",
              "      <th></th>\n",
              "      <th></th>\n",
              "    </tr>\n",
              "  </thead>\n",
              "  <tbody>\n",
              "    <tr>\n",
              "      <th rowspan=\"3\" valign=\"top\">Female</th>\n",
              "      <th>Middle Class</th>\n",
              "      <td>4.647759</td>\n",
              "      <td>2.623051</td>\n",
              "      <td>2.198684</td>\n",
              "      <td>19.611967</td>\n",
              "    </tr>\n",
              "    <tr>\n",
              "      <th>Poor</th>\n",
              "      <td>5.071604</td>\n",
              "      <td>3.019316</td>\n",
              "      <td>2.804692</td>\n",
              "      <td>20.623666</td>\n",
              "    </tr>\n",
              "    <tr>\n",
              "      <th>Rich</th>\n",
              "      <td>5.463059</td>\n",
              "      <td>2.341624</td>\n",
              "      <td>2.435703</td>\n",
              "      <td>21.406025</td>\n",
              "    </tr>\n",
              "    <tr>\n",
              "      <th rowspan=\"3\" valign=\"top\">Male</th>\n",
              "      <th>Middle Class</th>\n",
              "      <td>5.462758</td>\n",
              "      <td>2.376278</td>\n",
              "      <td>2.372004</td>\n",
              "      <td>19.467237</td>\n",
              "    </tr>\n",
              "    <tr>\n",
              "      <th>Poor</th>\n",
              "      <td>5.357481</td>\n",
              "      <td>2.367164</td>\n",
              "      <td>2.486466</td>\n",
              "      <td>19.530199</td>\n",
              "    </tr>\n",
              "    <tr>\n",
              "      <th>Rich</th>\n",
              "      <td>5.487659</td>\n",
              "      <td>2.548697</td>\n",
              "      <td>2.357322</td>\n",
              "      <td>20.756777</td>\n",
              "    </tr>\n",
              "  </tbody>\n",
              "</table>\n",
              "</div>"
            ]
          },
          "metadata": {
            "tags": []
          },
          "execution_count": 41
        }
      ]
    },
    {
      "cell_type": "markdown",
      "metadata": {
        "id": "s1sFUyyGwQoj"
      },
      "source": [
        "**Filtrado de datos**"
      ]
    },
    {
      "cell_type": "code",
      "metadata": {
        "colab": {
          "base_uri": "https://localhost:8080/"
        },
        "id": "-E7I5lvzwFDt",
        "outputId": "06a897b2-9016-464f-e4cb-27cb1de8e774"
      },
      "source": [
        "double_group[\"Age\"].filter(lambda x:x.sum()>2400)"
      ],
      "execution_count": null,
      "outputs": [
        {
          "output_type": "execute_result",
          "data": {
            "text/plain": [
              "0      14.0\n",
              "1      42.0\n",
              "2      26.0\n",
              "3      35.0\n",
              "4      45.0\n",
              "       ... \n",
              "491    23.0\n",
              "492    22.0\n",
              "494    38.0\n",
              "496    15.0\n",
              "499    45.0\n",
              "Name: Age, Length: 358, dtype: float64"
            ]
          },
          "metadata": {
            "tags": []
          },
          "execution_count": 42
        }
      ]
    },
    {
      "cell_type": "markdown",
      "metadata": {
        "id": "c3PcFjNP4gGN"
      },
      "source": [
        "**TRansformacion de variables**"
      ]
    },
    {
      "cell_type": "code",
      "metadata": {
        "id": "lEhUZ_0z5IWj"
      },
      "source": [
        "import matplotlib.pyplot as plt"
      ],
      "execution_count": null,
      "outputs": []
    },
    {
      "cell_type": "code",
      "metadata": {
        "id": "tt997MoE4ONC"
      },
      "source": [
        "zscore= lambda x:(x-x.mean())/x.std()"
      ],
      "execution_count": null,
      "outputs": []
    },
    {
      "cell_type": "code",
      "metadata": {
        "id": "Qf4jjfB14oDH"
      },
      "source": [
        "z_group=double_group.transform(zscore)"
      ],
      "execution_count": null,
      "outputs": []
    },
    {
      "cell_type": "code",
      "metadata": {
        "colab": {
          "base_uri": "https://localhost:8080/",
          "height": 350
        },
        "id": "bOlzhZ9O4rmO",
        "outputId": "0c85f8e4-a491-41d4-f53e-d0ebfe7ce521"
      },
      "source": [
        "plt.hist(z_group[\"Age\"])"
      ],
      "execution_count": null,
      "outputs": [
        {
          "output_type": "execute_result",
          "data": {
            "text/plain": [
              "(array([  6.,  16.,  44.,  87., 113.,  89.,  75.,  46.,  18.,   6.]),\n",
              " array([-2.75224225, -2.1960711 , -1.63989994, -1.08372879, -0.52755763,\n",
              "         0.02861352,  0.58478467,  1.14095583,  1.69712698,  2.25329813,\n",
              "         2.80946929]),\n",
              " <BarContainer object of 10 artists>)"
            ]
          },
          "metadata": {
            "tags": []
          },
          "execution_count": 52
        },
        {
          "output_type": "display_data",
          "data": {
            "text/plain": [
              "<Figure size 432x288 with 1 Axes>"
            ],
            "image/png": "[encoded data removed]"
          },
          "metadata": {
            "tags": [],
            "needs_background": "light"
          }
        }
      ]
    },
    {
      "cell_type": "code",
      "metadata": {
        "id": "C5_MoZfe5bUF"
      },
      "source": [
        "fill_na_mean=lambda x: x.fillna(x.mean())"
      ],
      "execution_count": null,
      "outputs": []
    },
    {
      "cell_type": "code",
      "metadata": {
        "colab": {
          "base_uri": "https://localhost:8080/",
          "height": 419
        },
        "id": "V5zf3fPH5sFE",
        "outputId": "67ca7c0a-cc72-444d-dd86-239df970e129"
      },
      "source": [
        "double_group.transform(fill_na_mean)"
      ],
      "execution_count": null,
      "outputs": [
        {
          "output_type": "execute_result",
          "data": {
            "text/plain": [
              "         Height      Weight   Age        Income\n",
              "0    180.597455   51.007760  14.0  20974.227728\n",
              "1    157.777125   58.828705  42.0  19663.450886\n",
              "2    125.692536   82.151447  26.0  19227.440876\n",
              "3    158.179447   87.182354  35.0  19233.533783\n",
              "4    133.480432  102.821709  45.0  20325.753272\n",
              "..          ...         ...   ...           ...\n",
              "495  151.488806   62.933514  10.0  21350.847498\n",
              "496  180.588973   95.080851  15.0  20148.505545\n",
              "497  142.384788  100.921528  51.0  19281.094111\n",
              "498  138.258980   42.232385  33.0  19168.886608\n",
              "499  168.924144   52.885174  45.0  18486.602470\n",
              "\n",
              "[500 rows x 4 columns]"
            ],
            "text/html": [
              "<div>\n",
              "<style scoped>\n",
              "    .dataframe tbody tr th:only-of-type {\n",
              "        vertical-align: middle;\n",
              "    }\n",
              "\n",
              "    .dataframe tbody tr th {\n",
              "        vertical-align: top;\n",
              "    }\n",
              "\n",
              "    .dataframe thead th {\n",
              "        text-align: right;\n",
              "    }\n",
              "</style>\n",
              "<table border=\"1\" class=\"dataframe\">\n",
              "  <thead>\n",
              "    <tr style=\"text-align: right;\">\n",
              "      <th></th>\n",
              "      <th>Height</th>\n",
              "      <th>Weight</th>\n",
              "      <th>Age</th>\n",
              "      <th>Income</th>\n",
              "    </tr>\n",
              "  </thead>\n",
              "  <tbody>\n",
              "    <tr>\n",
              "      <th>0</th>\n",
              "      <td>180.597455</td>\n",
              "      <td>51.007760</td>\n",
              "      <td>14.0</td>\n",
              "      <td>20974.227728</td>\n",
              "    </tr>\n",
              "    <tr>\n",
              "      <th>1</th>\n",
              "      <td>157.777125</td>\n",
              "      <td>58.828705</td>\n",
              "      <td>42.0</td>\n",
              "      <td>19663.450886</td>\n",
              "    </tr>\n",
              "    <tr>\n",
              "      <th>2</th>\n",
              "      <td>125.692536</td>\n",
              "      <td>82.151447</td>\n",
              "      <td>26.0</td>\n",
              "      <td>19227.440876</td>\n",
              "    </tr>\n",
              "    <tr>\n",
              "      <th>3</th>\n",
              "      <td>158.179447</td>\n",
              "      <td>87.182354</td>\n",
              "      <td>35.0</td>\n",
              "      <td>19233.533783</td>\n",
              "    </tr>\n",
              "    <tr>\n",
              "      <th>4</th>\n",
              "      <td>133.480432</td>\n",
              "      <td>102.821709</td>\n",
              "      <td>45.0</td>\n",
              "      <td>20325.753272</td>\n",
              "    </tr>\n",
              "    <tr>\n",
              "      <th>...</th>\n",
              "      <td>...</td>\n",
              "      <td>...</td>\n",
              "      <td>...</td>\n",
              "      <td>...</td>\n",
              "    </tr>\n",
              "    <tr>\n",
              "      <th>495</th>\n",
              "      <td>151.488806</td>\n",
              "      <td>62.933514</td>\n",
              "      <td>10.0</td>\n",
              "      <td>21350.847498</td>\n",
              "    </tr>\n",
              "    <tr>\n",
              "      <th>496</th>\n",
              "      <td>180.588973</td>\n",
              "      <td>95.080851</td>\n",
              "      <td>15.0</td>\n",
              "      <td>20148.505545</td>\n",
              "    </tr>\n",
              "    <tr>\n",
              "      <th>497</th>\n",
              "      <td>142.384788</td>\n",
              "      <td>100.921528</td>\n",
              "      <td>51.0</td>\n",
              "      <td>19281.094111</td>\n",
              "    </tr>\n",
              "    <tr>\n",
              "      <th>498</th>\n",
              "      <td>138.258980</td>\n",
              "      <td>42.232385</td>\n",
              "      <td>33.0</td>\n",
              "      <td>19168.886608</td>\n",
              "    </tr>\n",
              "    <tr>\n",
              "      <th>499</th>\n",
              "      <td>168.924144</td>\n",
              "      <td>52.885174</td>\n",
              "      <td>45.0</td>\n",
              "      <td>18486.602470</td>\n",
              "    </tr>\n",
              "  </tbody>\n",
              "</table>\n",
              "<p>500 rows × 4 columns</p>\n",
              "</div>"
            ]
          },
          "metadata": {
            "tags": []
          },
          "execution_count": 54
        }
      ]
    },
    {
      "cell_type": "markdown",
      "metadata": {
        "id": "9m4QoKfk54bn"
      },
      "source": [
        "**Operaciones diversas muy utiles**"
      ]
    },
    {
      "cell_type": "code",
      "metadata": {
        "colab": {
          "base_uri": "https://localhost:8080/",
          "height": 235
        },
        "id": "SEBULNRq5wpM",
        "outputId": "59322d57-214b-4200-9372-b10ba94a80b3"
      },
      "source": [
        "double_group.head(1)"
      ],
      "execution_count": null,
      "outputs": [
        {
          "output_type": "execute_result",
          "data": {
            "text/plain": [
              "    Gender Economic Status      Height      Weight   Age        Income\n",
              "0   Female            Poor  180.597455   51.007760  14.0  20974.227728\n",
              "1     Male            Poor  157.777125   58.828705  42.0  19663.450886\n",
              "5     Male            Rich  178.273061   84.176749  36.0  21004.125187\n",
              "7   Female    Middle Class  130.447587  103.349493  30.0  18599.278792\n",
              "19    Male    Middle Class  182.545247   32.993037  31.0  21260.044608\n",
              "26  Female            Rich  162.089067   50.901009  18.0  19100.231035"
            ],
            "text/html": [
              "<div>\n",
              "<style scoped>\n",
              "    .dataframe tbody tr th:only-of-type {\n",
              "        vertical-align: middle;\n",
              "    }\n",
              "\n",
              "    .dataframe tbody tr th {\n",
              "        vertical-align: top;\n",
              "    }\n",
              "\n",
              "    .dataframe thead th {\n",
              "        text-align: right;\n",
              "    }\n",
              "</style>\n",
              "<table border=\"1\" class=\"dataframe\">\n",
              "  <thead>\n",
              "    <tr style=\"text-align: right;\">\n",
              "      <th></th>\n",
              "      <th>Gender</th>\n",
              "      <th>Economic Status</th>\n",
              "      <th>Height</th>\n",
              "      <th>Weight</th>\n",
              "      <th>Age</th>\n",
              "      <th>Income</th>\n",
              "    </tr>\n",
              "  </thead>\n",
              "  <tbody>\n",
              "    <tr>\n",
              "      <th>0</th>\n",
              "      <td>Female</td>\n",
              "      <td>Poor</td>\n",
              "      <td>180.597455</td>\n",
              "      <td>51.007760</td>\n",
              "      <td>14.0</td>\n",
              "      <td>20974.227728</td>\n",
              "    </tr>\n",
              "    <tr>\n",
              "      <th>1</th>\n",
              "      <td>Male</td>\n",
              "      <td>Poor</td>\n",
              "      <td>157.777125</td>\n",
              "      <td>58.828705</td>\n",
              "      <td>42.0</td>\n",
              "      <td>19663.450886</td>\n",
              "    </tr>\n",
              "    <tr>\n",
              "      <th>5</th>\n",
              "      <td>Male</td>\n",
              "      <td>Rich</td>\n",
              "      <td>178.273061</td>\n",
              "      <td>84.176749</td>\n",
              "      <td>36.0</td>\n",
              "      <td>21004.125187</td>\n",
              "    </tr>\n",
              "    <tr>\n",
              "      <th>7</th>\n",
              "      <td>Female</td>\n",
              "      <td>Middle Class</td>\n",
              "      <td>130.447587</td>\n",
              "      <td>103.349493</td>\n",
              "      <td>30.0</td>\n",
              "      <td>18599.278792</td>\n",
              "    </tr>\n",
              "    <tr>\n",
              "      <th>19</th>\n",
              "      <td>Male</td>\n",
              "      <td>Middle Class</td>\n",
              "      <td>182.545247</td>\n",
              "      <td>32.993037</td>\n",
              "      <td>31.0</td>\n",
              "      <td>21260.044608</td>\n",
              "    </tr>\n",
              "    <tr>\n",
              "      <th>26</th>\n",
              "      <td>Female</td>\n",
              "      <td>Rich</td>\n",
              "      <td>162.089067</td>\n",
              "      <td>50.901009</td>\n",
              "      <td>18.0</td>\n",
              "      <td>19100.231035</td>\n",
              "    </tr>\n",
              "  </tbody>\n",
              "</table>\n",
              "</div>"
            ]
          },
          "metadata": {
            "tags": []
          },
          "execution_count": 55
        }
      ]
    },
    {
      "cell_type": "code",
      "metadata": {
        "colab": {
          "base_uri": "https://localhost:8080/",
          "height": 235
        },
        "id": "FDloMGZj6CPU",
        "outputId": "429aa974-670f-44a2-a4f5-8962dccc8e8e"
      },
      "source": [
        "double_group.tail(1)"
      ],
      "execution_count": null,
      "outputs": [
        {
          "output_type": "execute_result",
          "data": {
            "text/plain": [
              "     Gender Economic Status      Height     Weight   Age        Income\n",
              "485    Male            Poor  124.470434  83.210453  17.0  18979.067983\n",
              "492  Female            Poor  116.526550  89.091527  22.0  18477.704256\n",
              "495    Male            Rich  151.488806  62.933514  10.0  21350.847498\n",
              "496  Female    Middle Class  180.588973  95.080851  15.0  20148.505545\n",
              "498    Male    Middle Class  138.258980  42.232385  33.0  19168.886608\n",
              "499  Female            Rich  168.924144  52.885174  45.0  18486.602470"
            ],
            "text/html": [
              "<div>\n",
              "<style scoped>\n",
              "    .dataframe tbody tr th:only-of-type {\n",
              "        vertical-align: middle;\n",
              "    }\n",
              "\n",
              "    .dataframe tbody tr th {\n",
              "        vertical-align: top;\n",
              "    }\n",
              "\n",
              "    .dataframe thead th {\n",
              "        text-align: right;\n",
              "    }\n",
              "</style>\n",
              "<table border=\"1\" class=\"dataframe\">\n",
              "  <thead>\n",
              "    <tr style=\"text-align: right;\">\n",
              "      <th></th>\n",
              "      <th>Gender</th>\n",
              "      <th>Economic Status</th>\n",
              "      <th>Height</th>\n",
              "      <th>Weight</th>\n",
              "      <th>Age</th>\n",
              "      <th>Income</th>\n",
              "    </tr>\n",
              "  </thead>\n",
              "  <tbody>\n",
              "    <tr>\n",
              "      <th>485</th>\n",
              "      <td>Male</td>\n",
              "      <td>Poor</td>\n",
              "      <td>124.470434</td>\n",
              "      <td>83.210453</td>\n",
              "      <td>17.0</td>\n",
              "      <td>18979.067983</td>\n",
              "    </tr>\n",
              "    <tr>\n",
              "      <th>492</th>\n",
              "      <td>Female</td>\n",
              "      <td>Poor</td>\n",
              "      <td>116.526550</td>\n",
              "      <td>89.091527</td>\n",
              "      <td>22.0</td>\n",
              "      <td>18477.704256</td>\n",
              "    </tr>\n",
              "    <tr>\n",
              "      <th>495</th>\n",
              "      <td>Male</td>\n",
              "      <td>Rich</td>\n",
              "      <td>151.488806</td>\n",
              "      <td>62.933514</td>\n",
              "      <td>10.0</td>\n",
              "      <td>21350.847498</td>\n",
              "    </tr>\n",
              "    <tr>\n",
              "      <th>496</th>\n",
              "      <td>Female</td>\n",
              "      <td>Middle Class</td>\n",
              "      <td>180.588973</td>\n",
              "      <td>95.080851</td>\n",
              "      <td>15.0</td>\n",
              "      <td>20148.505545</td>\n",
              "    </tr>\n",
              "    <tr>\n",
              "      <th>498</th>\n",
              "      <td>Male</td>\n",
              "      <td>Middle Class</td>\n",
              "      <td>138.258980</td>\n",
              "      <td>42.232385</td>\n",
              "      <td>33.0</td>\n",
              "      <td>19168.886608</td>\n",
              "    </tr>\n",
              "    <tr>\n",
              "      <th>499</th>\n",
              "      <td>Female</td>\n",
              "      <td>Rich</td>\n",
              "      <td>168.924144</td>\n",
              "      <td>52.885174</td>\n",
              "      <td>45.0</td>\n",
              "      <td>18486.602470</td>\n",
              "    </tr>\n",
              "  </tbody>\n",
              "</table>\n",
              "</div>"
            ]
          },
          "metadata": {
            "tags": []
          },
          "execution_count": 56
        }
      ]
    },
    {
      "cell_type": "code",
      "metadata": {
        "colab": {
          "base_uri": "https://localhost:8080/",
          "height": 266
        },
        "id": "CqAj-Lz36Gmt",
        "outputId": "a06db5f0-d0eb-425e-c09f-460173aba5aa"
      },
      "source": [
        "double_group.nth(32)"
      ],
      "execution_count": null,
      "outputs": [
        {
          "output_type": "execute_result",
          "data": {
            "text/plain": [
              "                            Height     Weight   Age        Income\n",
              "Gender Economic Status                                           \n",
              "Female Middle Class     159.633764  65.370215  23.0  20579.386201\n",
              "       Poor             187.259732  63.670557  39.0  18318.421371\n",
              "       Rich             104.990156  71.232711  33.0  21005.120602\n",
              "Male   Middle Class     192.450729  80.230236  29.0  20920.555534\n",
              "       Poor             199.229593  43.947790  35.0  18201.217061\n",
              "       Rich             158.326385  57.285124  26.0  20716.687424"
            ],
            "text/html": [
              "<div>\n",
              "<style scoped>\n",
              "    .dataframe tbody tr th:only-of-type {\n",
              "        vertical-align: middle;\n",
              "    }\n",
              "\n",
              "    .dataframe tbody tr th {\n",
              "        vertical-align: top;\n",
              "    }\n",
              "\n",
              "    .dataframe thead th {\n",
              "        text-align: right;\n",
              "    }\n",
              "</style>\n",
              "<table border=\"1\" class=\"dataframe\">\n",
              "  <thead>\n",
              "    <tr style=\"text-align: right;\">\n",
              "      <th></th>\n",
              "      <th></th>\n",
              "      <th>Height</th>\n",
              "      <th>Weight</th>\n",
              "      <th>Age</th>\n",
              "      <th>Income</th>\n",
              "    </tr>\n",
              "    <tr>\n",
              "      <th>Gender</th>\n",
              "      <th>Economic Status</th>\n",
              "      <th></th>\n",
              "      <th></th>\n",
              "      <th></th>\n",
              "      <th></th>\n",
              "    </tr>\n",
              "  </thead>\n",
              "  <tbody>\n",
              "    <tr>\n",
              "      <th rowspan=\"3\" valign=\"top\">Female</th>\n",
              "      <th>Middle Class</th>\n",
              "      <td>159.633764</td>\n",
              "      <td>65.370215</td>\n",
              "      <td>23.0</td>\n",
              "      <td>20579.386201</td>\n",
              "    </tr>\n",
              "    <tr>\n",
              "      <th>Poor</th>\n",
              "      <td>187.259732</td>\n",
              "      <td>63.670557</td>\n",
              "      <td>39.0</td>\n",
              "      <td>18318.421371</td>\n",
              "    </tr>\n",
              "    <tr>\n",
              "      <th>Rich</th>\n",
              "      <td>104.990156</td>\n",
              "      <td>71.232711</td>\n",
              "      <td>33.0</td>\n",
              "      <td>21005.120602</td>\n",
              "    </tr>\n",
              "    <tr>\n",
              "      <th rowspan=\"3\" valign=\"top\">Male</th>\n",
              "      <th>Middle Class</th>\n",
              "      <td>192.450729</td>\n",
              "      <td>80.230236</td>\n",
              "      <td>29.0</td>\n",
              "      <td>20920.555534</td>\n",
              "    </tr>\n",
              "    <tr>\n",
              "      <th>Poor</th>\n",
              "      <td>199.229593</td>\n",
              "      <td>43.947790</td>\n",
              "      <td>35.0</td>\n",
              "      <td>18201.217061</td>\n",
              "    </tr>\n",
              "    <tr>\n",
              "      <th>Rich</th>\n",
              "      <td>158.326385</td>\n",
              "      <td>57.285124</td>\n",
              "      <td>26.0</td>\n",
              "      <td>20716.687424</td>\n",
              "    </tr>\n",
              "  </tbody>\n",
              "</table>\n",
              "</div>"
            ]
          },
          "metadata": {
            "tags": []
          },
          "execution_count": 57
        }
      ]
    },
    {
      "cell_type": "code",
      "metadata": {
        "id": "JgydNsLU6Rsc"
      },
      "source": [
        "data_sorted=data.sort_values([\"Age\",\"Income\"])"
      ],
      "execution_count": null,
      "outputs": []
    },
    {
      "cell_type": "code",
      "metadata": {
        "colab": {
          "base_uri": "https://localhost:8080/",
          "height": 204
        },
        "id": "NkzqH2_w6yNT",
        "outputId": "8559405a-a9e1-4956-ebf8-9ad310f776a5"
      },
      "source": [
        "data_sorted.head()"
      ],
      "execution_count": null,
      "outputs": [
        {
          "output_type": "execute_result",
          "data": {
            "text/plain": [
              "     Gender Economic Status      Height     Weight  Age        Income\n",
              "317  Female    Middle Class  164.778754  75.962797 -8.0  19238.538921\n",
              "45   Female    Middle Class  105.980231  73.024363  0.0  18156.313658\n",
              "113    Male    Middle Class  189.405875  94.880050 -0.0  19199.736041\n",
              "161  Female            Rich  198.425882  88.228546  1.0  19624.127760\n",
              "401  Female            Rich  183.244665  75.980421  1.0  21184.275022"
            ],
            "text/html": [
              "<div>\n",
              "<style scoped>\n",
              "    .dataframe tbody tr th:only-of-type {\n",
              "        vertical-align: middle;\n",
              "    }\n",
              "\n",
              "    .dataframe tbody tr th {\n",
              "        vertical-align: top;\n",
              "    }\n",
              "\n",
              "    .dataframe thead th {\n",
              "        text-align: right;\n",
              "    }\n",
              "</style>\n",
              "<table border=\"1\" class=\"dataframe\">\n",
              "  <thead>\n",
              "    <tr style=\"text-align: right;\">\n",
              "      <th></th>\n",
              "      <th>Gender</th>\n",
              "      <th>Economic Status</th>\n",
              "      <th>Height</th>\n",
              "      <th>Weight</th>\n",
              "      <th>Age</th>\n",
              "      <th>Income</th>\n",
              "    </tr>\n",
              "  </thead>\n",
              "  <tbody>\n",
              "    <tr>\n",
              "      <th>317</th>\n",
              "      <td>Female</td>\n",
              "      <td>Middle Class</td>\n",
              "      <td>164.778754</td>\n",
              "      <td>75.962797</td>\n",
              "      <td>-8.0</td>\n",
              "      <td>19238.538921</td>\n",
              "    </tr>\n",
              "    <tr>\n",
              "      <th>45</th>\n",
              "      <td>Female</td>\n",
              "      <td>Middle Class</td>\n",
              "      <td>105.980231</td>\n",
              "      <td>73.024363</td>\n",
              "      <td>0.0</td>\n",
              "      <td>18156.313658</td>\n",
              "    </tr>\n",
              "    <tr>\n",
              "      <th>113</th>\n",
              "      <td>Male</td>\n",
              "      <td>Middle Class</td>\n",
              "      <td>189.405875</td>\n",
              "      <td>94.880050</td>\n",
              "      <td>-0.0</td>\n",
              "      <td>19199.736041</td>\n",
              "    </tr>\n",
              "    <tr>\n",
              "      <th>161</th>\n",
              "      <td>Female</td>\n",
              "      <td>Rich</td>\n",
              "      <td>198.425882</td>\n",
              "      <td>88.228546</td>\n",
              "      <td>1.0</td>\n",
              "      <td>19624.127760</td>\n",
              "    </tr>\n",
              "    <tr>\n",
              "      <th>401</th>\n",
              "      <td>Female</td>\n",
              "      <td>Rich</td>\n",
              "      <td>183.244665</td>\n",
              "      <td>75.980421</td>\n",
              "      <td>1.0</td>\n",
              "      <td>21184.275022</td>\n",
              "    </tr>\n",
              "  </tbody>\n",
              "</table>\n",
              "</div>"
            ]
          },
          "metadata": {
            "tags": []
          },
          "execution_count": 60
        }
      ]
    },
    {
      "cell_type": "code",
      "metadata": {
        "id": "6q0C-4wH620n"
      },
      "source": [
        "age_grouped=data_sorted.groupby(\"Gender\")"
      ],
      "execution_count": null,
      "outputs": []
    },
    {
      "cell_type": "code",
      "metadata": {
        "colab": {
          "base_uri": "https://localhost:8080/",
          "height": 111
        },
        "id": "5O9ubXYK7Ddb",
        "outputId": "acd585ad-b828-4a23-84df-0218a38f105c"
      },
      "source": [
        "age_grouped.head(1)"
      ],
      "execution_count": null,
      "outputs": [
        {
          "output_type": "execute_result",
          "data": {
            "text/plain": [
              "     Gender Economic Status      Height     Weight  Age        Income\n",
              "317  Female    Middle Class  164.778754  75.962797 -8.0  19238.538921\n",
              "113    Male    Middle Class  189.405875  94.880050 -0.0  19199.736041"
            ],
            "text/html": [
              "<div>\n",
              "<style scoped>\n",
              "    .dataframe tbody tr th:only-of-type {\n",
              "        vertical-align: middle;\n",
              "    }\n",
              "\n",
              "    .dataframe tbody tr th {\n",
              "        vertical-align: top;\n",
              "    }\n",
              "\n",
              "    .dataframe thead th {\n",
              "        text-align: right;\n",
              "    }\n",
              "</style>\n",
              "<table border=\"1\" class=\"dataframe\">\n",
              "  <thead>\n",
              "    <tr style=\"text-align: right;\">\n",
              "      <th></th>\n",
              "      <th>Gender</th>\n",
              "      <th>Economic Status</th>\n",
              "      <th>Height</th>\n",
              "      <th>Weight</th>\n",
              "      <th>Age</th>\n",
              "      <th>Income</th>\n",
              "    </tr>\n",
              "  </thead>\n",
              "  <tbody>\n",
              "    <tr>\n",
              "      <th>317</th>\n",
              "      <td>Female</td>\n",
              "      <td>Middle Class</td>\n",
              "      <td>164.778754</td>\n",
              "      <td>75.962797</td>\n",
              "      <td>-8.0</td>\n",
              "      <td>19238.538921</td>\n",
              "    </tr>\n",
              "    <tr>\n",
              "      <th>113</th>\n",
              "      <td>Male</td>\n",
              "      <td>Middle Class</td>\n",
              "      <td>189.405875</td>\n",
              "      <td>94.880050</td>\n",
              "      <td>-0.0</td>\n",
              "      <td>19199.736041</td>\n",
              "    </tr>\n",
              "  </tbody>\n",
              "</table>\n",
              "</div>"
            ]
          },
          "metadata": {
            "tags": []
          },
          "execution_count": 65
        }
      ]
    },
    {
      "cell_type": "code",
      "metadata": {
        "colab": {
          "base_uri": "https://localhost:8080/",
          "height": 111
        },
        "id": "NN2iS_FJ7Fur",
        "outputId": "47fe5bed-48e7-4021-f658-f1d3657f9048"
      },
      "source": [
        "age_grouped.tail(1)"
      ],
      "execution_count": null,
      "outputs": [
        {
          "output_type": "execute_result",
          "data": {
            "text/plain": [
              "     Gender Economic Status      Height     Weight   Age        Income\n",
              "253  Female            Poor  205.164629  74.194348  60.0  19480.091101\n",
              "42     Male            Poor  208.631482  93.141665  68.0  18586.422190"
            ],
            "text/html": [
              "<div>\n",
              "<style scoped>\n",
              "    .dataframe tbody tr th:only-of-type {\n",
              "        vertical-align: middle;\n",
              "    }\n",
              "\n",
              "    .dataframe tbody tr th {\n",
              "        vertical-align: top;\n",
              "    }\n",
              "\n",
              "    .dataframe thead th {\n",
              "        text-align: right;\n",
              "    }\n",
              "</style>\n",
              "<table border=\"1\" class=\"dataframe\">\n",
              "  <thead>\n",
              "    <tr style=\"text-align: right;\">\n",
              "      <th></th>\n",
              "      <th>Gender</th>\n",
              "      <th>Economic Status</th>\n",
              "      <th>Height</th>\n",
              "      <th>Weight</th>\n",
              "      <th>Age</th>\n",
              "      <th>Income</th>\n",
              "    </tr>\n",
              "  </thead>\n",
              "  <tbody>\n",
              "    <tr>\n",
              "      <th>253</th>\n",
              "      <td>Female</td>\n",
              "      <td>Poor</td>\n",
              "      <td>205.164629</td>\n",
              "      <td>74.194348</td>\n",
              "      <td>60.0</td>\n",
              "      <td>19480.091101</td>\n",
              "    </tr>\n",
              "    <tr>\n",
              "      <th>42</th>\n",
              "      <td>Male</td>\n",
              "      <td>Poor</td>\n",
              "      <td>208.631482</td>\n",
              "      <td>93.141665</td>\n",
              "      <td>68.0</td>\n",
              "      <td>18586.422190</td>\n",
              "    </tr>\n",
              "  </tbody>\n",
              "</table>\n",
              "</div>"
            ]
          },
          "metadata": {
            "tags": []
          },
          "execution_count": 64
        }
      ]
    },
    {
      "cell_type": "markdown",
      "metadata": {
        "id": "ZYj1SCAO00Io"
      },
      "source": [
        "# Conjunto de entrenamiento y testing"
      ]
    },
    {
      "cell_type": "code",
      "metadata": {
        "id": "T-paQrwi7P5q"
      },
      "source": [
        "import pandas as pd\r\n",
        "import numpy as np\r\n",
        "import matplotlib.pyplot as plt"
      ],
      "execution_count": 11,
      "outputs": []
    },
    {
      "cell_type": "code",
      "metadata": {
        "id": "grPZyFpp1TYJ"
      },
      "source": [
        "mainpath=\"/Users/santi/OneDrive/Documents/Curso machine learning con python/Repositorio/python-ml-course/datasets\"\r\n",
        "filename=\"customer-churn-model/Customer Churn Model.txt\"\r\n",
        "fullpath=mainpath+\"/\"+filename"
      ],
      "execution_count": 6,
      "outputs": []
    },
    {
      "cell_type": "code",
      "metadata": {
        "id": "bUi21rjL05ma"
      },
      "source": [
        "data=pd.read_csv(fullpath)"
      ],
      "execution_count": 7,
      "outputs": []
    },
    {
      "cell_type": "code",
      "metadata": {
        "colab": {
          "base_uri": "https://localhost:8080/"
        },
        "id": "3CzjSMr11ecn",
        "outputId": "0027e846-8d29-4f74-8814-65b4e6106824"
      },
      "source": [
        "len(data)"
      ],
      "execution_count": 8,
      "outputs": [
        {
          "output_type": "execute_result",
          "data": {
            "text/plain": [
              "3333"
            ]
          },
          "metadata": {
            "tags": []
          },
          "execution_count": 8
        }
      ]
    },
    {
      "cell_type": "markdown",
      "metadata": {
        "id": "IGxSpsok1yR9"
      },
      "source": [
        "## Dividir usando la distribucion normal"
      ]
    },
    {
      "cell_type": "code",
      "metadata": {
        "id": "gwR_2HsR1vWg"
      },
      "source": [
        "a=np.random.randn(len(data))"
      ],
      "execution_count": 10,
      "outputs": []
    },
    {
      "cell_type": "code",
      "metadata": {
        "colab": {
          "base_uri": "https://localhost:8080/",
          "height": 367
        },
        "id": "1HWpr0_G19On",
        "outputId": "e38aea3c-c63f-4dd1-9ce9-e6440a3095a7"
      },
      "source": [
        "plt.hist(a)"
      ],
      "execution_count": 12,
      "outputs": [
        {
          "output_type": "execute_result",
          "data": {
            "text/plain": [
              "(array([1.000e+00, 1.000e+01, 1.010e+02, 4.510e+02, 9.900e+02, 1.032e+03,\n",
              "        5.670e+02, 1.610e+02, 1.900e+01, 1.000e+00]),\n",
              " array([-4.40012136, -3.54333085, -2.68654034, -1.82974983, -0.97295932,\n",
              "        -0.11616881,  0.7406217 ,  1.59741221,  2.45420271,  3.31099322,\n",
              "         4.16778373]),\n",
              " <BarContainer object of 10 artists>)"
            ]
          },
          "metadata": {
            "tags": []
          },
          "execution_count": 12
        },
        {
          "output_type": "display_data",
          "data": {
            "text/plain": [
              "<Figure size 432x288 with 1 Axes>"
            ],
            "image/png": "[encoded data removed]"
          },
          "metadata": {
            "tags": [],
            "needs_background": "light"
          }
        }
      ]
    },
    {
      "cell_type": "code",
      "metadata": {
        "id": "y2Xrnu0R2LDH"
      },
      "source": [
        "check=(a<0.8)"
      ],
      "execution_count": 13,
      "outputs": []
    },
    {
      "cell_type": "code",
      "metadata": {
        "colab": {
          "base_uri": "https://localhost:8080/"
        },
        "id": "3pTRG9K12SDX",
        "outputId": "6790844f-6a1a-47d1-f5e6-3132571abca3"
      },
      "source": [
        "check"
      ],
      "execution_count": 14,
      "outputs": [
        {
          "output_type": "execute_result",
          "data": {
            "text/plain": [
              "array([ True, False, False, ..., False,  True,  True])"
            ]
          },
          "metadata": {
            "tags": []
          },
          "execution_count": 14
        }
      ]
    },
    {
      "cell_type": "code",
      "metadata": {
        "id": "4qO8-ej52S0H"
      },
      "source": [
        "training =data[check]\r\n",
        "testing=data[~check]"
      ],
      "execution_count": 16,
      "outputs": []
    },
    {
      "cell_type": "code",
      "metadata": {
        "colab": {
          "base_uri": "https://localhost:8080/"
        },
        "id": "yiPC9URe2VWf",
        "outputId": "c6113a1e-aea4-47d2-a35d-e5d397287e50"
      },
      "source": [
        "len(training)"
      ],
      "execution_count": 17,
      "outputs": [
        {
          "output_type": "execute_result",
          "data": {
            "text/plain": [
              "2645"
            ]
          },
          "metadata": {
            "tags": []
          },
          "execution_count": 17
        }
      ]
    },
    {
      "cell_type": "code",
      "metadata": {
        "colab": {
          "base_uri": "https://localhost:8080/"
        },
        "id": "wHUPPIBM2vOe",
        "outputId": "a98ceb2e-a1d1-4fb2-9681-58aa630b5c7f"
      },
      "source": [
        "len(testing)"
      ],
      "execution_count": 18,
      "outputs": [
        {
          "output_type": "execute_result",
          "data": {
            "text/plain": [
              "688"
            ]
          },
          "metadata": {
            "tags": []
          },
          "execution_count": 18
        }
      ]
    },
    {
      "cell_type": "markdown",
      "metadata": {
        "id": "2VLMba9E2-e5"
      },
      "source": [
        "## Con la libreria sklearn"
      ]
    },
    {
      "cell_type": "code",
      "metadata": {
        "id": "G2G--8mA2waO"
      },
      "source": [
        "from sklearn.model_selection import train_test_split"
      ],
      "execution_count": 21,
      "outputs": []
    },
    {
      "cell_type": "code",
      "metadata": {
        "id": "QIR0gu3F3NN3"
      },
      "source": [
        "train, test=train_test_split(data,test_size=0.2)"
      ],
      "execution_count": 22,
      "outputs": []
    },
    {
      "cell_type": "code",
      "metadata": {
        "colab": {
          "base_uri": "https://localhost:8080/"
        },
        "id": "0Y55N1xD3n8M",
        "outputId": "378ec10c-568d-4aa0-8f7a-3644dd8445c0"
      },
      "source": [
        "len(train)"
      ],
      "execution_count": 23,
      "outputs": [
        {
          "output_type": "execute_result",
          "data": {
            "text/plain": [
              "2666"
            ]
          },
          "metadata": {
            "tags": []
          },
          "execution_count": 23
        }
      ]
    },
    {
      "cell_type": "code",
      "metadata": {
        "colab": {
          "base_uri": "https://localhost:8080/"
        },
        "id": "75vhLm9A3p1V",
        "outputId": "4126ac91-7723-46ea-8985-84a393f72d63"
      },
      "source": [
        "len(test)"
      ],
      "execution_count": 24,
      "outputs": [
        {
          "output_type": "execute_result",
          "data": {
            "text/plain": [
              "667"
            ]
          },
          "metadata": {
            "tags": []
          },
          "execution_count": 24
        }
      ]
    },
    {
      "cell_type": "markdown",
      "metadata": {
        "id": "64yN_F0F35S9"
      },
      "source": [
        "## Usando la funcion shuffle"
      ]
    },
    {
      "cell_type": "code",
      "metadata": {
        "id": "iMy9q-yo3rUM"
      },
      "source": [
        "import numpy as np"
      ],
      "execution_count": 25,
      "outputs": []
    },
    {
      "cell_type": "code",
      "metadata": {
        "colab": {
          "base_uri": "https://localhost:8080/",
          "height": 355
        },
        "id": "R7zAPGW14Ab8",
        "outputId": "21ad467c-8432-45bb-8c98-265be5bbbff3"
      },
      "source": [
        "data.head()"
      ],
      "execution_count": 26,
      "outputs": [
        {
          "output_type": "execute_result",
          "data": {
            "text/plain": [
              "  State  Account Length  Area Code     Phone Int'l Plan VMail Plan  \\\n",
              "0    KS             128        415  382-4657         no        yes   \n",
              "1    OH             107        415  371-7191         no        yes   \n",
              "2    NJ             137        415  358-1921         no         no   \n",
              "3    OH              84        408  375-9999        yes         no   \n",
              "4    OK              75        415  330-6626        yes         no   \n",
              "\n",
              "   VMail Message  Day Mins  Day Calls  Day Charge  ...  Eve Calls  Eve Charge  \\\n",
              "0             25     265.1        110       45.07  ...         99       16.78   \n",
              "1             26     161.6        123       27.47  ...        103       16.62   \n",
              "2              0     243.4        114       41.38  ...        110       10.30   \n",
              "3              0     299.4         71       50.90  ...         88        5.26   \n",
              "4              0     166.7        113       28.34  ...        122       12.61   \n",
              "\n",
              "   Night Mins  Night Calls  Night Charge  Intl Mins  Intl Calls  Intl Charge  \\\n",
              "0       244.7           91         11.01       10.0           3         2.70   \n",
              "1       254.4          103         11.45       13.7           3         3.70   \n",
              "2       162.6          104          7.32       12.2           5         3.29   \n",
              "3       196.9           89          8.86        6.6           7         1.78   \n",
              "4       186.9          121          8.41       10.1           3         2.73   \n",
              "\n",
              "   CustServ Calls  Churn?  \n",
              "0               1  False.  \n",
              "1               1  False.  \n",
              "2               0  False.  \n",
              "3               2  False.  \n",
              "4               3  False.  \n",
              "\n",
              "[5 rows x 21 columns]"
            ],
            "text/html": [
              "<div>\n",
              "<style scoped>\n",
              "    .dataframe tbody tr th:only-of-type {\n",
              "        vertical-align: middle;\n",
              "    }\n",
              "\n",
              "    .dataframe tbody tr th {\n",
              "        vertical-align: top;\n",
              "    }\n",
              "\n",
              "    .dataframe thead th {\n",
              "        text-align: right;\n",
              "    }\n",
              "</style>\n",
              "<table border=\"1\" class=\"dataframe\">\n",
              "  <thead>\n",
              "    <tr style=\"text-align: right;\">\n",
              "      <th></th>\n",
              "      <th>State</th>\n",
              "      <th>Account Length</th>\n",
              "      <th>Area Code</th>\n",
              "      <th>Phone</th>\n",
              "      <th>Int'l Plan</th>\n",
              "      <th>VMail Plan</th>\n",
              "      <th>VMail Message</th>\n",
              "      <th>Day Mins</th>\n",
              "      <th>Day Calls</th>\n",
              "      <th>Day Charge</th>\n",
              "      <th>...</th>\n",
              "      <th>Eve Calls</th>\n",
              "      <th>Eve Charge</th>\n",
              "      <th>Night Mins</th>\n",
              "      <th>Night Calls</th>\n",
              "      <th>Night Charge</th>\n",
              "      <th>Intl Mins</th>\n",
              "      <th>Intl Calls</th>\n",
              "      <th>Intl Charge</th>\n",
              "      <th>CustServ Calls</th>\n",
              "      <th>Churn?</th>\n",
              "    </tr>\n",
              "  </thead>\n",
              "  <tbody>\n",
              "    <tr>\n",
              "      <th>0</th>\n",
              "      <td>KS</td>\n",
              "      <td>128</td>\n",
              "      <td>415</td>\n",
              "      <td>382-4657</td>\n",
              "      <td>no</td>\n",
              "      <td>yes</td>\n",
              "      <td>25</td>\n",
              "      <td>265.1</td>\n",
              "      <td>110</td>\n",
              "      <td>45.07</td>\n",
              "      <td>...</td>\n",
              "      <td>99</td>\n",
              "      <td>16.78</td>\n",
              "      <td>244.7</td>\n",
              "      <td>91</td>\n",
              "      <td>11.01</td>\n",
              "      <td>10.0</td>\n",
              "      <td>3</td>\n",
              "      <td>2.70</td>\n",
              "      <td>1</td>\n",
              "      <td>False.</td>\n",
              "    </tr>\n",
              "    <tr>\n",
              "      <th>1</th>\n",
              "      <td>OH</td>\n",
              "      <td>107</td>\n",
              "      <td>415</td>\n",
              "      <td>371-7191</td>\n",
              "      <td>no</td>\n",
              "      <td>yes</td>\n",
              "      <td>26</td>\n",
              "      <td>161.6</td>\n",
              "      <td>123</td>\n",
              "      <td>27.47</td>\n",
              "      <td>...</td>\n",
              "      <td>103</td>\n",
              "      <td>16.62</td>\n",
              "      <td>254.4</td>\n",
              "      <td>103</td>\n",
              "      <td>11.45</td>\n",
              "      <td>13.7</td>\n",
              "      <td>3</td>\n",
              "      <td>3.70</td>\n",
              "      <td>1</td>\n",
              "      <td>False.</td>\n",
              "    </tr>\n",
              "    <tr>\n",
              "      <th>2</th>\n",
              "      <td>NJ</td>\n",
              "      <td>137</td>\n",
              "      <td>415</td>\n",
              "      <td>358-1921</td>\n",
              "      <td>no</td>\n",
              "      <td>no</td>\n",
              "      <td>0</td>\n",
              "      <td>243.4</td>\n",
              "      <td>114</td>\n",
              "      <td>41.38</td>\n",
              "      <td>...</td>\n",
              "      <td>110</td>\n",
              "      <td>10.30</td>\n",
              "      <td>162.6</td>\n",
              "      <td>104</td>\n",
              "      <td>7.32</td>\n",
              "      <td>12.2</td>\n",
              "      <td>5</td>\n",
              "      <td>3.29</td>\n",
              "      <td>0</td>\n",
              "      <td>False.</td>\n",
              "    </tr>\n",
              "    <tr>\n",
              "      <th>3</th>\n",
              "      <td>OH</td>\n",
              "      <td>84</td>\n",
              "      <td>408</td>\n",
              "      <td>375-9999</td>\n",
              "      <td>yes</td>\n",
              "      <td>no</td>\n",
              "      <td>0</td>\n",
              "      <td>299.4</td>\n",
              "      <td>71</td>\n",
              "      <td>50.90</td>\n",
              "      <td>...</td>\n",
              "      <td>88</td>\n",
              "      <td>5.26</td>\n",
              "      <td>196.9</td>\n",
              "      <td>89</td>\n",
              "      <td>8.86</td>\n",
              "      <td>6.6</td>\n",
              "      <td>7</td>\n",
              "      <td>1.78</td>\n",
              "      <td>2</td>\n",
              "      <td>False.</td>\n",
              "    </tr>\n",
              "    <tr>\n",
              "      <th>4</th>\n",
              "      <td>OK</td>\n",
              "      <td>75</td>\n",
              "      <td>415</td>\n",
              "      <td>330-6626</td>\n",
              "      <td>yes</td>\n",
              "      <td>no</td>\n",
              "      <td>0</td>\n",
              "      <td>166.7</td>\n",
              "      <td>113</td>\n",
              "      <td>28.34</td>\n",
              "      <td>...</td>\n",
              "      <td>122</td>\n",
              "      <td>12.61</td>\n",
              "      <td>186.9</td>\n",
              "      <td>121</td>\n",
              "      <td>8.41</td>\n",
              "      <td>10.1</td>\n",
              "      <td>3</td>\n",
              "      <td>2.73</td>\n",
              "      <td>3</td>\n",
              "      <td>False.</td>\n",
              "    </tr>\n",
              "  </tbody>\n",
              "</table>\n",
              "<p>5 rows × 21 columns</p>\n",
              "</div>"
            ]
          },
          "metadata": {
            "tags": []
          },
          "execution_count": 26
        }
      ]
    },
    {
      "cell_type": "code",
      "metadata": {
        "id": "_cue9Yu14oge"
      },
      "source": [
        "import sklearn"
      ],
      "execution_count": 28,
      "outputs": []
    },
    {
      "cell_type": "code",
      "metadata": {
        "id": "p_xanlsh4rdz"
      },
      "source": [
        "data=sklearn.utils.shuffle(data)"
      ],
      "execution_count": 30,
      "outputs": []
    },
    {
      "cell_type": "code",
      "metadata": {
        "id": "RiMMp_Pi41Yb"
      },
      "source": [
        "train_data=data[:int(0.75*len(data))]\r\n",
        "test_data=data[int(0.75*len(data))+1:]"
      ],
      "execution_count": 32,
      "outputs": []
    },
    {
      "cell_type": "code",
      "metadata": {
        "colab": {
          "base_uri": "https://localhost:8080/"
        },
        "id": "f2xrhGDE5Gni",
        "outputId": "3056c78f-139f-431f-f0d2-4da2591deb0b"
      },
      "source": [
        "len(train_data)"
      ],
      "execution_count": 33,
      "outputs": [
        {
          "output_type": "execute_result",
          "data": {
            "text/plain": [
              "2499"
            ]
          },
          "metadata": {
            "tags": []
          },
          "execution_count": 33
        }
      ]
    },
    {
      "cell_type": "code",
      "metadata": {
        "colab": {
          "base_uri": "https://localhost:8080/"
        },
        "id": "MDXxSDs65RaJ",
        "outputId": "5d26b17c-b4da-44f7-c214-6a3c6476d46b"
      },
      "source": [
        "len(test_data)"
      ],
      "execution_count": 34,
      "outputs": [
        {
          "output_type": "execute_result",
          "data": {
            "text/plain": [
              "833"
            ]
          },
          "metadata": {
            "tags": []
          },
          "execution_count": 34
        }
      ]
    },
    {
      "cell_type": "code",
      "metadata": {
        "id": "dvEMc91y5Tch"
      },
      "source": [
        ""
      ],
      "execution_count": null,
      "outputs": []
    }
  ]
}