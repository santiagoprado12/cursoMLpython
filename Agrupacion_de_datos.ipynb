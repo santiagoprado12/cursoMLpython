{
  "nbformat": 4,
  "nbformat_minor": 0,
  "metadata": {
    "colab": {
      "name": "Agrupacion de datos.ipynb",
      "provenance": [],
      "authorship_tag": "ABX9TyM9fOJMJcF/wbvECbwuR66V",
      "include_colab_link": true
    },
    "kernelspec": {
      "name": "python3",
      "display_name": "Python 3"
    }
  },
  "cells": [
    {
      "cell_type": "markdown",
      "metadata": {
        "id": "view-in-github",
        "colab_type": "text"
      },
      "source": [
        "<a href=\"https://colab.research.google.com/github/santiagoprado12/cursoMLpython/blob/main/Agrupacion_de_datos.ipynb\" target=\"_parent\"><img src=\"https://colab.research.google.com/assets/colab-badge.svg\" alt=\"Open In Colab\"/></a>"
      ]
    },
    {
      "cell_type": "markdown",
      "metadata": {
        "id": "O6_sT98rcNKS"
      },
      "source": [
        "# Agregacion de datos por categoria"
      ]
    },
    {
      "cell_type": "code",
      "metadata": {
        "id": "SToYayCjcAas"
      },
      "source": [
        "import numpy as np\r\n",
        "import pandas as pd"
      ],
      "execution_count": 1,
      "outputs": []
    },
    {
      "cell_type": "code",
      "metadata": {
        "id": "HzHagpAld-5O"
      },
      "source": [
        "gender=[\"Male\",\"Female\"]\r\n",
        "income=[\"Poor\",\"Middle Class\",\"Rich\"]"
      ],
      "execution_count": 2,
      "outputs": []
    },
    {
      "cell_type": "code",
      "metadata": {
        "id": "zkH8yS63eML0"
      },
      "source": [
        "n=500\r\n",
        "\r\n",
        "gender_data=[]\r\n",
        "income_data=[]\r\n",
        "\r\n",
        "for i in range(0,500):\r\n",
        "  gender_data.append(np.random.choice(gender))\r\n",
        "  income_data.append(np.random.choice(income))"
      ],
      "execution_count": 4,
      "outputs": []
    },
    {
      "cell_type": "code",
      "metadata": {
        "colab": {
          "base_uri": "https://localhost:8080/"
        },
        "id": "vTmx9SM3emJ7",
        "outputId": "208cb088-eaa4-4c1b-e6c2-f5702b4642d9"
      },
      "source": [
        "gender_data[1:10]"
      ],
      "execution_count": 5,
      "outputs": [
        {
          "output_type": "execute_result",
          "data": {
            "text/plain": [
              "['Male',\n",
              " 'Female',\n",
              " 'Female',\n",
              " 'Female',\n",
              " 'Male',\n",
              " 'Male',\n",
              " 'Female',\n",
              " 'Male',\n",
              " 'Female']"
            ]
          },
          "metadata": {
            "tags": []
          },
          "execution_count": 5
        }
      ]
    },
    {
      "cell_type": "code",
      "metadata": {
        "colab": {
          "base_uri": "https://localhost:8080/"
        },
        "id": "AoS5QiwiexJj",
        "outputId": "e12b79f4-03b8-407f-c74f-adaba3688836"
      },
      "source": [
        "income_data[1:10]"
      ],
      "execution_count": 6,
      "outputs": [
        {
          "output_type": "execute_result",
          "data": {
            "text/plain": [
              "['Poor',\n",
              " 'Poor',\n",
              " 'Poor',\n",
              " 'Poor',\n",
              " 'Rich',\n",
              " 'Rich',\n",
              " 'Middle Class',\n",
              " 'Rich',\n",
              " 'Middle Class']"
            ]
          },
          "metadata": {
            "tags": []
          },
          "execution_count": 6
        }
      ]
    },
    {
      "cell_type": "code",
      "metadata": {
        "id": "xk1cDRCie0c6"
      },
      "source": [
        "#z=N(0,1)\r\n",
        "#N(m,s)->m+s*z\r\n",
        "height=160+30*np.random.randn(n)\r\n",
        "weight=65+25*np.random.randn(n)\r\n",
        "age =np.round(30+12*np.random.randn(n))\r\n",
        "income=18000+3500*np.random.rand(n)"
      ],
      "execution_count": 16,
      "outputs": []
    },
    {
      "cell_type": "code",
      "metadata": {
        "id": "xXVL9NIsfdgA"
      },
      "source": [
        "data=pd.DataFrame(\r\n",
        "    {\r\n",
        "        \"Gender\":gender_data,\r\n",
        "     \"Economic Status\":income_data,\r\n",
        "     \"Height\":height,\r\n",
        "     \"Weight\":weight,\r\n",
        "     \"Age\":age,\r\n",
        "     \"Income\":income\r\n",
        "    }\r\n",
        ")"
      ],
      "execution_count": 17,
      "outputs": []
    },
    {
      "cell_type": "code",
      "metadata": {
        "colab": {
          "base_uri": "https://localhost:8080/",
          "height": 204
        },
        "id": "GBs1w7mDf02h",
        "outputId": "f3521fef-d40d-4af6-8f35-3ea40fa02299"
      },
      "source": [
        "data.head()"
      ],
      "execution_count": 18,
      "outputs": [
        {
          "output_type": "execute_result",
          "data": {
            "text/plain": [
              "   Gender Economic Status      Height      Weight   Age        Income\n",
              "0  Female            Poor  180.597455   51.007760  14.0  20974.227728\n",
              "1    Male            Poor  157.777125   58.828705  42.0  19663.450886\n",
              "2  Female            Poor  125.692536   82.151447  26.0  19227.440876\n",
              "3  Female            Poor  158.179447   87.182354  35.0  19233.533783\n",
              "4  Female            Poor  133.480432  102.821709  45.0  20325.753272"
            ],
            "text/html": [
              "<div>\n",
              "<style scoped>\n",
              "    .dataframe tbody tr th:only-of-type {\n",
              "        vertical-align: middle;\n",
              "    }\n",
              "\n",
              "    .dataframe tbody tr th {\n",
              "        vertical-align: top;\n",
              "    }\n",
              "\n",
              "    .dataframe thead th {\n",
              "        text-align: right;\n",
              "    }\n",
              "</style>\n",
              "<table border=\"1\" class=\"dataframe\">\n",
              "  <thead>\n",
              "    <tr style=\"text-align: right;\">\n",
              "      <th></th>\n",
              "      <th>Gender</th>\n",
              "      <th>Economic Status</th>\n",
              "      <th>Height</th>\n",
              "      <th>Weight</th>\n",
              "      <th>Age</th>\n",
              "      <th>Income</th>\n",
              "    </tr>\n",
              "  </thead>\n",
              "  <tbody>\n",
              "    <tr>\n",
              "      <th>0</th>\n",
              "      <td>Female</td>\n",
              "      <td>Poor</td>\n",
              "      <td>180.597455</td>\n",
              "      <td>51.007760</td>\n",
              "      <td>14.0</td>\n",
              "      <td>20974.227728</td>\n",
              "    </tr>\n",
              "    <tr>\n",
              "      <th>1</th>\n",
              "      <td>Male</td>\n",
              "      <td>Poor</td>\n",
              "      <td>157.777125</td>\n",
              "      <td>58.828705</td>\n",
              "      <td>42.0</td>\n",
              "      <td>19663.450886</td>\n",
              "    </tr>\n",
              "    <tr>\n",
              "      <th>2</th>\n",
              "      <td>Female</td>\n",
              "      <td>Poor</td>\n",
              "      <td>125.692536</td>\n",
              "      <td>82.151447</td>\n",
              "      <td>26.0</td>\n",
              "      <td>19227.440876</td>\n",
              "    </tr>\n",
              "    <tr>\n",
              "      <th>3</th>\n",
              "      <td>Female</td>\n",
              "      <td>Poor</td>\n",
              "      <td>158.179447</td>\n",
              "      <td>87.182354</td>\n",
              "      <td>35.0</td>\n",
              "      <td>19233.533783</td>\n",
              "    </tr>\n",
              "    <tr>\n",
              "      <th>4</th>\n",
              "      <td>Female</td>\n",
              "      <td>Poor</td>\n",
              "      <td>133.480432</td>\n",
              "      <td>102.821709</td>\n",
              "      <td>45.0</td>\n",
              "      <td>20325.753272</td>\n",
              "    </tr>\n",
              "  </tbody>\n",
              "</table>\n",
              "</div>"
            ]
          },
          "metadata": {
            "tags": []
          },
          "execution_count": 18
        }
      ]
    },
    {
      "cell_type": "code",
      "metadata": {
        "id": "hGwjsvY1f1zh"
      },
      "source": [
        "##Agrupacion de datos\r\n",
        "grouped_gender=data.groupby(\"Gender\")"
      ],
      "execution_count": 21,
      "outputs": []
    },
    {
      "cell_type": "code",
      "metadata": {
        "colab": {
          "base_uri": "https://localhost:8080/"
        },
        "id": "UDYQQ9sMoct6",
        "outputId": "2a6ed9dc-2bb6-4271-f6b1-76099a4187f7"
      },
      "source": [
        "grouped_gender.groups"
      ],
      "execution_count": 22,
      "outputs": [
        {
          "output_type": "execute_result",
          "data": {
            "text/plain": [
              "{'Female': [0, 2, 3, 4, 7, 9, 10, 12, 14, 15, 18, 20, 22, 25, 26, 28, 29, 30, 33, 35, 37, 41, 44, 45, 46, 47, 50, 52, 53, 54, 57, 59, 60, 61, 62, 63, 64, 65, 66, 67, 69, 71, 72, 73, 74, 75, 77, 78, 79, 83, 84, 89, 90, 93, 96, 97, 100, 102, 103, 105, 106, 108, 109, 111, 112, 114, 115, 118, 119, 120, 121, 124, 125, 127, 128, 129, 130, 132, 133, 134, 137, 141, 143, 144, 145, 147, 149, 150, 152, 157, 159, 160, 161, 164, 166, 167, 168, 169, 170, 171, ...], 'Male': [1, 5, 6, 8, 11, 13, 16, 17, 19, 21, 23, 24, 27, 31, 32, 34, 36, 38, 39, 40, 42, 43, 48, 49, 51, 55, 56, 58, 68, 70, 76, 80, 81, 82, 85, 86, 87, 88, 91, 92, 94, 95, 98, 99, 101, 104, 107, 110, 113, 116, 117, 122, 123, 126, 131, 135, 136, 138, 139, 140, 142, 146, 148, 151, 153, 154, 155, 156, 158, 162, 163, 165, 173, 175, 177, 178, 181, 182, 183, 184, 185, 187, 189, 196, 197, 198, 199, 201, 205, 206, 208, 209, 210, 211, 213, 218, 219, 220, 221, 222, ...]}"
            ]
          },
          "metadata": {
            "tags": []
          },
          "execution_count": 22
        }
      ]
    },
    {
      "cell_type": "code",
      "metadata": {
        "colab": {
          "base_uri": "https://localhost:8080/"
        },
        "id": "f1GJZIJAox3S",
        "outputId": "0cc9ae79-c21c-48b6-8897-805df282778d"
      },
      "source": [
        "for names,groups in grouped_gender:\r\n",
        "  print(names)\r\n",
        "  print(groups)"
      ],
      "execution_count": 23,
      "outputs": [
        {
          "output_type": "stream",
          "text": [
            "Female\n",
            "     Gender Economic Status      Height      Weight   Age        Income\n",
            "0    Female            Poor  180.597455   51.007760  14.0  20974.227728\n",
            "2    Female            Poor  125.692536   82.151447  26.0  19227.440876\n",
            "3    Female            Poor  158.179447   87.182354  35.0  19233.533783\n",
            "4    Female            Poor  133.480432  102.821709  45.0  20325.753272\n",
            "7    Female    Middle Class  130.447587  103.349493  30.0  18599.278792\n",
            "..      ...             ...         ...         ...   ...           ...\n",
            "491  Female            Poor  203.192452   86.113453  23.0  18897.564608\n",
            "492  Female            Poor  116.526550   89.091527  22.0  18477.704256\n",
            "494  Female            Rich  195.958539   31.511149  38.0  20398.682012\n",
            "496  Female    Middle Class  180.588973   95.080851  15.0  20148.505545\n",
            "499  Female            Rich  168.924144   52.885174  45.0  18486.602470\n",
            "\n",
            "[270 rows x 6 columns]\n",
            "Male\n",
            "    Gender Economic Status      Height      Weight   Age        Income\n",
            "1     Male            Poor  157.777125   58.828705  42.0  19663.450886\n",
            "5     Male            Rich  178.273061   84.176749  36.0  21004.125187\n",
            "6     Male            Rich  223.252305   63.168789  31.0  19615.610976\n",
            "8     Male            Rich  147.882472   69.102505  44.0  19890.564042\n",
            "11    Male            Poor  198.746301   90.429829  29.0  19812.050858\n",
            "..     ...             ...         ...         ...   ...           ...\n",
            "490   Male    Middle Class  133.218176   72.467883  33.0  18904.000621\n",
            "493   Male    Middle Class  153.873186   67.611925  19.0  20147.196436\n",
            "495   Male            Rich  151.488806   62.933514  10.0  21350.847498\n",
            "497   Male    Middle Class  142.384788  100.921528  51.0  19281.094111\n",
            "498   Male    Middle Class  138.258980   42.232385  33.0  19168.886608\n",
            "\n",
            "[230 rows x 6 columns]\n"
          ],
          "name": "stdout"
        }
      ]
    },
    {
      "cell_type": "code",
      "metadata": {
        "colab": {
          "base_uri": "https://localhost:8080/",
          "height": 419
        },
        "id": "pPDoDf2PpSDJ",
        "outputId": "66f864fc-bfce-40ac-f4c3-7dc9e18f6e74"
      },
      "source": [
        "grouped_gender.get_group('Female')"
      ],
      "execution_count": 27,
      "outputs": [
        {
          "output_type": "execute_result",
          "data": {
            "text/plain": [
              "    Economic Status      Height      Weight   Age        Income\n",
              "0              Poor  180.597455   51.007760  14.0  20974.227728\n",
              "2              Poor  125.692536   82.151447  26.0  19227.440876\n",
              "3              Poor  158.179447   87.182354  35.0  19233.533783\n",
              "4              Poor  133.480432  102.821709  45.0  20325.753272\n",
              "7      Middle Class  130.447587  103.349493  30.0  18599.278792\n",
              "..              ...         ...         ...   ...           ...\n",
              "491            Poor  203.192452   86.113453  23.0  18897.564608\n",
              "492            Poor  116.526550   89.091527  22.0  18477.704256\n",
              "494            Rich  195.958539   31.511149  38.0  20398.682012\n",
              "496    Middle Class  180.588973   95.080851  15.0  20148.505545\n",
              "499            Rich  168.924144   52.885174  45.0  18486.602470\n",
              "\n",
              "[270 rows x 5 columns]"
            ],
            "text/html": [
              "<div>\n",
              "<style scoped>\n",
              "    .dataframe tbody tr th:only-of-type {\n",
              "        vertical-align: middle;\n",
              "    }\n",
              "\n",
              "    .dataframe tbody tr th {\n",
              "        vertical-align: top;\n",
              "    }\n",
              "\n",
              "    .dataframe thead th {\n",
              "        text-align: right;\n",
              "    }\n",
              "</style>\n",
              "<table border=\"1\" class=\"dataframe\">\n",
              "  <thead>\n",
              "    <tr style=\"text-align: right;\">\n",
              "      <th></th>\n",
              "      <th>Economic Status</th>\n",
              "      <th>Height</th>\n",
              "      <th>Weight</th>\n",
              "      <th>Age</th>\n",
              "      <th>Income</th>\n",
              "    </tr>\n",
              "  </thead>\n",
              "  <tbody>\n",
              "    <tr>\n",
              "      <th>0</th>\n",
              "      <td>Poor</td>\n",
              "      <td>180.597455</td>\n",
              "      <td>51.007760</td>\n",
              "      <td>14.0</td>\n",
              "      <td>20974.227728</td>\n",
              "    </tr>\n",
              "    <tr>\n",
              "      <th>2</th>\n",
              "      <td>Poor</td>\n",
              "      <td>125.692536</td>\n",
              "      <td>82.151447</td>\n",
              "      <td>26.0</td>\n",
              "      <td>19227.440876</td>\n",
              "    </tr>\n",
              "    <tr>\n",
              "      <th>3</th>\n",
              "      <td>Poor</td>\n",
              "      <td>158.179447</td>\n",
              "      <td>87.182354</td>\n",
              "      <td>35.0</td>\n",
              "      <td>19233.533783</td>\n",
              "    </tr>\n",
              "    <tr>\n",
              "      <th>4</th>\n",
              "      <td>Poor</td>\n",
              "      <td>133.480432</td>\n",
              "      <td>102.821709</td>\n",
              "      <td>45.0</td>\n",
              "      <td>20325.753272</td>\n",
              "    </tr>\n",
              "    <tr>\n",
              "      <th>7</th>\n",
              "      <td>Middle Class</td>\n",
              "      <td>130.447587</td>\n",
              "      <td>103.349493</td>\n",
              "      <td>30.0</td>\n",
              "      <td>18599.278792</td>\n",
              "    </tr>\n",
              "    <tr>\n",
              "      <th>...</th>\n",
              "      <td>...</td>\n",
              "      <td>...</td>\n",
              "      <td>...</td>\n",
              "      <td>...</td>\n",
              "      <td>...</td>\n",
              "    </tr>\n",
              "    <tr>\n",
              "      <th>491</th>\n",
              "      <td>Poor</td>\n",
              "      <td>203.192452</td>\n",
              "      <td>86.113453</td>\n",
              "      <td>23.0</td>\n",
              "      <td>18897.564608</td>\n",
              "    </tr>\n",
              "    <tr>\n",
              "      <th>492</th>\n",
              "      <td>Poor</td>\n",
              "      <td>116.526550</td>\n",
              "      <td>89.091527</td>\n",
              "      <td>22.0</td>\n",
              "      <td>18477.704256</td>\n",
              "    </tr>\n",
              "    <tr>\n",
              "      <th>494</th>\n",
              "      <td>Rich</td>\n",
              "      <td>195.958539</td>\n",
              "      <td>31.511149</td>\n",
              "      <td>38.0</td>\n",
              "      <td>20398.682012</td>\n",
              "    </tr>\n",
              "    <tr>\n",
              "      <th>496</th>\n",
              "      <td>Middle Class</td>\n",
              "      <td>180.588973</td>\n",
              "      <td>95.080851</td>\n",
              "      <td>15.0</td>\n",
              "      <td>20148.505545</td>\n",
              "    </tr>\n",
              "    <tr>\n",
              "      <th>499</th>\n",
              "      <td>Rich</td>\n",
              "      <td>168.924144</td>\n",
              "      <td>52.885174</td>\n",
              "      <td>45.0</td>\n",
              "      <td>18486.602470</td>\n",
              "    </tr>\n",
              "  </tbody>\n",
              "</table>\n",
              "<p>270 rows × 5 columns</p>\n",
              "</div>"
            ]
          },
          "metadata": {
            "tags": []
          },
          "execution_count": 27
        }
      ]
    },
    {
      "cell_type": "code",
      "metadata": {
        "id": "OlITvvCZpekg"
      },
      "source": [
        "double_group=data.groupby([\"Gender\",\"Economic Status\"])"
      ],
      "execution_count": 28,
      "outputs": []
    },
    {
      "cell_type": "code",
      "metadata": {
        "colab": {
          "base_uri": "https://localhost:8080/"
        },
        "id": "NC2ccf1nqC0K",
        "outputId": "d0ebb50a-258e-417e-cbae-6b6e19de2813"
      },
      "source": [
        "len(double_group)"
      ],
      "execution_count": 29,
      "outputs": [
        {
          "output_type": "execute_result",
          "data": {
            "text/plain": [
              "6"
            ]
          },
          "metadata": {
            "tags": []
          },
          "execution_count": 29
        }
      ]
    },
    {
      "cell_type": "code",
      "metadata": {
        "colab": {
          "base_uri": "https://localhost:8080/"
        },
        "id": "xtFP55eAqFZH",
        "outputId": "1b9c7111-d0a9-445d-9298-c827727eca94"
      },
      "source": [
        "for names,groups in double_group:\r\n",
        "  print(names)\r\n",
        "  print(groups)"
      ],
      "execution_count": 31,
      "outputs": [
        {
          "output_type": "stream",
          "text": [
            "('Female', 'Middle Class')\n",
            "     Gender Economic Status      Height      Weight   Age        Income\n",
            "7    Female    Middle Class  130.447587  103.349493  30.0  18599.278792\n",
            "9    Female    Middle Class  147.815024  123.915328  33.0  19068.636954\n",
            "18   Female    Middle Class  173.189607   89.869698  30.0  19701.881680\n",
            "20   Female    Middle Class  143.600818   96.536062  31.0  20670.806214\n",
            "22   Female    Middle Class  147.767025   63.727876  40.0  19320.567174\n",
            "..      ...             ...         ...         ...   ...           ...\n",
            "472  Female    Middle Class  121.692518   96.006569  58.0  19724.228883\n",
            "474  Female    Middle Class  200.322641   79.275930  34.0  20186.525552\n",
            "478  Female    Middle Class  173.859164   81.876915  40.0  18723.177365\n",
            "487  Female    Middle Class  131.284656   58.823208  28.0  18727.507978\n",
            "496  Female    Middle Class  180.588973   95.080851  15.0  20148.505545\n",
            "\n",
            "[87 rows x 6 columns]\n",
            "('Female', 'Poor')\n",
            "     Gender Economic Status      Height      Weight   Age        Income\n",
            "0    Female            Poor  180.597455   51.007760  14.0  20974.227728\n",
            "2    Female            Poor  125.692536   82.151447  26.0  19227.440876\n",
            "3    Female            Poor  158.179447   87.182354  35.0  19233.533783\n",
            "4    Female            Poor  133.480432  102.821709  45.0  20325.753272\n",
            "10   Female            Poor  138.281028   78.853349  28.0  20665.324470\n",
            "..      ...             ...         ...         ...   ...           ...\n",
            "475  Female            Poor  140.089216   67.389677  31.0  19708.112969\n",
            "479  Female            Poor  145.659459   67.311661  21.0  19875.027522\n",
            "488  Female            Poor  195.097475   56.113435  34.0  21235.049982\n",
            "491  Female            Poor  203.192452   86.113453  23.0  18897.564608\n",
            "492  Female            Poor  116.526550   89.091527  22.0  18477.704256\n",
            "\n",
            "[93 rows x 6 columns]\n",
            "('Female', 'Rich')\n",
            "     Gender Economic Status      Height      Weight   Age        Income\n",
            "26   Female            Rich  162.089067   50.901009  18.0  19100.231035\n",
            "30   Female            Rich  161.557260   46.026022  39.0  21372.238876\n",
            "41   Female            Rich  167.547651  129.980326  18.0  19279.436217\n",
            "46   Female            Rich  178.486309   56.923198  46.0  20115.601447\n",
            "50   Female            Rich  139.618104   21.620312  52.0  18726.079882\n",
            "..      ...             ...         ...         ...   ...           ...\n",
            "469  Female            Rich  114.477791   58.652333  42.0  18678.562214\n",
            "480  Female            Rich  187.448920   60.495097  30.0  19025.971479\n",
            "486  Female            Rich  155.171868   89.929868  21.0  20328.578134\n",
            "494  Female            Rich  195.958539   31.511149  38.0  20398.682012\n",
            "499  Female            Rich  168.924144   52.885174  45.0  18486.602470\n",
            "\n",
            "[90 rows x 6 columns]\n",
            "('Male', 'Middle Class')\n",
            "    Gender Economic Status      Height      Weight   Age        Income\n",
            "19    Male    Middle Class  182.545247   32.993037  31.0  21260.044608\n",
            "24    Male    Middle Class  116.448925   38.842518  48.0  20313.062901\n",
            "31    Male    Middle Class  126.519483   86.233483  26.0  21267.904686\n",
            "36    Male    Middle Class  150.815393   30.294648  44.0  19391.976475\n",
            "39    Male    Middle Class  148.137022   83.131816  21.0  18483.176716\n",
            "..     ...             ...         ...         ...   ...           ...\n",
            "489   Male    Middle Class  122.394601   56.091156  26.0  19020.771200\n",
            "490   Male    Middle Class  133.218176   72.467883  33.0  18904.000621\n",
            "493   Male    Middle Class  153.873186   67.611925  19.0  20147.196436\n",
            "497   Male    Middle Class  142.384788  100.921528  51.0  19281.094111\n",
            "498   Male    Middle Class  138.258980   42.232385  33.0  19168.886608\n",
            "\n",
            "[74 rows x 6 columns]\n",
            "('Male', 'Poor')\n",
            "    Gender Economic Status      Height      Weight   Age        Income\n",
            "1     Male            Poor  157.777125   58.828705  42.0  19663.450886\n",
            "11    Male            Poor  198.746301   90.429829  29.0  19812.050858\n",
            "13    Male            Poor  179.477882   52.912044  35.0  19528.312094\n",
            "17    Male            Poor  160.553342  117.125403  23.0  20708.002126\n",
            "23    Male            Poor  211.056740   80.944964  58.0  21176.756627\n",
            "..     ...             ...         ...         ...   ...           ...\n",
            "440   Male            Poor  204.603939   94.555748  33.0  21349.469534\n",
            "441   Male            Poor  122.824303   50.137985  60.0  20283.506344\n",
            "445   Male            Poor  176.592304   62.814533  31.0  18720.199785\n",
            "457   Male            Poor  183.640804   91.131979  23.0  18554.605268\n",
            "485   Male            Poor  124.470434   83.210453  17.0  18979.067983\n",
            "\n",
            "[88 rows x 6 columns]\n",
            "('Male', 'Rich')\n",
            "    Gender Economic Status      Height      Weight   Age        Income\n",
            "5     Male            Rich  178.273061   84.176749  36.0  21004.125187\n",
            "6     Male            Rich  223.252305   63.168789  31.0  19615.610976\n",
            "8     Male            Rich  147.882472   69.102505  44.0  19890.564042\n",
            "16    Male            Rich  152.083314   60.965058   9.0  20291.267044\n",
            "21    Male            Rich  181.090405  102.727939  22.0  19254.009029\n",
            "..     ...             ...         ...         ...   ...           ...\n",
            "463   Male            Rich  134.541664   51.625361  32.0  20193.724441\n",
            "470   Male            Rich  125.737426   81.972092  28.0  21385.124705\n",
            "477   Male            Rich  172.402394   44.932857  16.0  18442.243302\n",
            "483   Male            Rich  167.970649   41.637026  31.0  18756.107337\n",
            "495   Male            Rich  151.488806   62.933514  10.0  21350.847498\n",
            "\n",
            "[68 rows x 6 columns]\n"
          ],
          "name": "stdout"
        }
      ]
    },
    {
      "cell_type": "code",
      "metadata": {
        "id": "aEOhdrNhqMuA"
      },
      "source": [
        ""
      ],
      "execution_count": null,
      "outputs": []
    }
  ]
}