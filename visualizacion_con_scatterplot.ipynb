{
  "nbformat": 4,
  "nbformat_minor": 0,
  "metadata": {
    "colab": {
      "name": "visualizacion con scatterplot",
      "provenance": [],
      "collapsed_sections": [],
      "authorship_tag": "ABX9TyOsUPS7Vkj0D68ASMYXz2/k",
      "include_colab_link": true
    },
    "kernelspec": {
      "name": "python3",
      "display_name": "Python 3"
    }
  },
  "cells": [
    {
      "cell_type": "markdown",
      "metadata": {
        "id": "view-in-github",
        "colab_type": "text"
      },
      "source": [
        "<a href=\"https://colab.research.google.com/github/santiagoprado12/cursoMLpython/blob/main/visualizacion_con_scatterplot.ipynb\" target=\"_parent\"><img src=\"https://colab.research.google.com/assets/colab-badge.svg\" alt=\"Open In Colab\"/></a>"
      ]
    },
    {
      "cell_type": "markdown",
      "metadata": {
        "id": "lDPw3LOo3cj7"
      },
      "source": [
        "# **Plots y visualizacion de datos**\r\n",
        "\r\n"
      ]
    },
    {
      "cell_type": "code",
      "metadata": {
        "id": "UEsySbLP34Ss"
      },
      "source": [
        "import pandas as pd\r\n",
        "import matplotlib.pyplot as plt\r\n",
        "import numpy as np"
      ],
      "execution_count": 35,
      "outputs": []
    },
    {
      "cell_type": "code",
      "metadata": {
        "id": "XIQXKAsVtsDy"
      },
      "source": [
        "mainpath=\"/Users/santi/OneDrive/Documents/Curso machine learning con python/Repositorio/python-ml-course/datasets\"\r\n",
        "filename=\"customer-churn-model/Customer Churn Model.txt\"\r\n",
        "data=pd.read_csv(mainpath+\"/\"+filename)"
      ],
      "execution_count": 4,
      "outputs": []
    },
    {
      "cell_type": "code",
      "metadata": {
        "colab": {
          "base_uri": "https://localhost:8080/",
          "height": 355
        },
        "id": "bI36pRXt37Qw",
        "outputId": "8379ea6f-d7a3-46a2-976f-4fd6a4fee875"
      },
      "source": [
        "data.head()"
      ],
      "execution_count": 5,
      "outputs": [
        {
          "output_type": "execute_result",
          "data": {
            "text/plain": [
              "  State  Account Length  Area Code     Phone Int'l Plan VMail Plan  \\\n",
              "0    KS             128        415  382-4657         no        yes   \n",
              "1    OH             107        415  371-7191         no        yes   \n",
              "2    NJ             137        415  358-1921         no         no   \n",
              "3    OH              84        408  375-9999        yes         no   \n",
              "4    OK              75        415  330-6626        yes         no   \n",
              "\n",
              "   VMail Message  Day Mins  Day Calls  Day Charge  ...  Eve Calls  Eve Charge  \\\n",
              "0             25     265.1        110       45.07  ...         99       16.78   \n",
              "1             26     161.6        123       27.47  ...        103       16.62   \n",
              "2              0     243.4        114       41.38  ...        110       10.30   \n",
              "3              0     299.4         71       50.90  ...         88        5.26   \n",
              "4              0     166.7        113       28.34  ...        122       12.61   \n",
              "\n",
              "   Night Mins  Night Calls  Night Charge  Intl Mins  Intl Calls  Intl Charge  \\\n",
              "0       244.7           91         11.01       10.0           3         2.70   \n",
              "1       254.4          103         11.45       13.7           3         3.70   \n",
              "2       162.6          104          7.32       12.2           5         3.29   \n",
              "3       196.9           89          8.86        6.6           7         1.78   \n",
              "4       186.9          121          8.41       10.1           3         2.73   \n",
              "\n",
              "   CustServ Calls  Churn?  \n",
              "0               1  False.  \n",
              "1               1  False.  \n",
              "2               0  False.  \n",
              "3               2  False.  \n",
              "4               3  False.  \n",
              "\n",
              "[5 rows x 21 columns]"
            ],
            "text/html": [
              "<div>\n",
              "<style scoped>\n",
              "    .dataframe tbody tr th:only-of-type {\n",
              "        vertical-align: middle;\n",
              "    }\n",
              "\n",
              "    .dataframe tbody tr th {\n",
              "        vertical-align: top;\n",
              "    }\n",
              "\n",
              "    .dataframe thead th {\n",
              "        text-align: right;\n",
              "    }\n",
              "</style>\n",
              "<table border=\"1\" class=\"dataframe\">\n",
              "  <thead>\n",
              "    <tr style=\"text-align: right;\">\n",
              "      <th></th>\n",
              "      <th>State</th>\n",
              "      <th>Account Length</th>\n",
              "      <th>Area Code</th>\n",
              "      <th>Phone</th>\n",
              "      <th>Int'l Plan</th>\n",
              "      <th>VMail Plan</th>\n",
              "      <th>VMail Message</th>\n",
              "      <th>Day Mins</th>\n",
              "      <th>Day Calls</th>\n",
              "      <th>Day Charge</th>\n",
              "      <th>...</th>\n",
              "      <th>Eve Calls</th>\n",
              "      <th>Eve Charge</th>\n",
              "      <th>Night Mins</th>\n",
              "      <th>Night Calls</th>\n",
              "      <th>Night Charge</th>\n",
              "      <th>Intl Mins</th>\n",
              "      <th>Intl Calls</th>\n",
              "      <th>Intl Charge</th>\n",
              "      <th>CustServ Calls</th>\n",
              "      <th>Churn?</th>\n",
              "    </tr>\n",
              "  </thead>\n",
              "  <tbody>\n",
              "    <tr>\n",
              "      <th>0</th>\n",
              "      <td>KS</td>\n",
              "      <td>128</td>\n",
              "      <td>415</td>\n",
              "      <td>382-4657</td>\n",
              "      <td>no</td>\n",
              "      <td>yes</td>\n",
              "      <td>25</td>\n",
              "      <td>265.1</td>\n",
              "      <td>110</td>\n",
              "      <td>45.07</td>\n",
              "      <td>...</td>\n",
              "      <td>99</td>\n",
              "      <td>16.78</td>\n",
              "      <td>244.7</td>\n",
              "      <td>91</td>\n",
              "      <td>11.01</td>\n",
              "      <td>10.0</td>\n",
              "      <td>3</td>\n",
              "      <td>2.70</td>\n",
              "      <td>1</td>\n",
              "      <td>False.</td>\n",
              "    </tr>\n",
              "    <tr>\n",
              "      <th>1</th>\n",
              "      <td>OH</td>\n",
              "      <td>107</td>\n",
              "      <td>415</td>\n",
              "      <td>371-7191</td>\n",
              "      <td>no</td>\n",
              "      <td>yes</td>\n",
              "      <td>26</td>\n",
              "      <td>161.6</td>\n",
              "      <td>123</td>\n",
              "      <td>27.47</td>\n",
              "      <td>...</td>\n",
              "      <td>103</td>\n",
              "      <td>16.62</td>\n",
              "      <td>254.4</td>\n",
              "      <td>103</td>\n",
              "      <td>11.45</td>\n",
              "      <td>13.7</td>\n",
              "      <td>3</td>\n",
              "      <td>3.70</td>\n",
              "      <td>1</td>\n",
              "      <td>False.</td>\n",
              "    </tr>\n",
              "    <tr>\n",
              "      <th>2</th>\n",
              "      <td>NJ</td>\n",
              "      <td>137</td>\n",
              "      <td>415</td>\n",
              "      <td>358-1921</td>\n",
              "      <td>no</td>\n",
              "      <td>no</td>\n",
              "      <td>0</td>\n",
              "      <td>243.4</td>\n",
              "      <td>114</td>\n",
              "      <td>41.38</td>\n",
              "      <td>...</td>\n",
              "      <td>110</td>\n",
              "      <td>10.30</td>\n",
              "      <td>162.6</td>\n",
              "      <td>104</td>\n",
              "      <td>7.32</td>\n",
              "      <td>12.2</td>\n",
              "      <td>5</td>\n",
              "      <td>3.29</td>\n",
              "      <td>0</td>\n",
              "      <td>False.</td>\n",
              "    </tr>\n",
              "    <tr>\n",
              "      <th>3</th>\n",
              "      <td>OH</td>\n",
              "      <td>84</td>\n",
              "      <td>408</td>\n",
              "      <td>375-9999</td>\n",
              "      <td>yes</td>\n",
              "      <td>no</td>\n",
              "      <td>0</td>\n",
              "      <td>299.4</td>\n",
              "      <td>71</td>\n",
              "      <td>50.90</td>\n",
              "      <td>...</td>\n",
              "      <td>88</td>\n",
              "      <td>5.26</td>\n",
              "      <td>196.9</td>\n",
              "      <td>89</td>\n",
              "      <td>8.86</td>\n",
              "      <td>6.6</td>\n",
              "      <td>7</td>\n",
              "      <td>1.78</td>\n",
              "      <td>2</td>\n",
              "      <td>False.</td>\n",
              "    </tr>\n",
              "    <tr>\n",
              "      <th>4</th>\n",
              "      <td>OK</td>\n",
              "      <td>75</td>\n",
              "      <td>415</td>\n",
              "      <td>330-6626</td>\n",
              "      <td>yes</td>\n",
              "      <td>no</td>\n",
              "      <td>0</td>\n",
              "      <td>166.7</td>\n",
              "      <td>113</td>\n",
              "      <td>28.34</td>\n",
              "      <td>...</td>\n",
              "      <td>122</td>\n",
              "      <td>12.61</td>\n",
              "      <td>186.9</td>\n",
              "      <td>121</td>\n",
              "      <td>8.41</td>\n",
              "      <td>10.1</td>\n",
              "      <td>3</td>\n",
              "      <td>2.73</td>\n",
              "      <td>3</td>\n",
              "      <td>False.</td>\n",
              "    </tr>\n",
              "  </tbody>\n",
              "</table>\n",
              "<p>5 rows × 21 columns</p>\n",
              "</div>"
            ]
          },
          "metadata": {
            "tags": []
          },
          "execution_count": 5
        }
      ]
    },
    {
      "cell_type": "code",
      "metadata": {
        "id": "phRPu5d74DgJ"
      },
      "source": [
        "matplotlib inline "
      ],
      "execution_count": 10,
      "outputs": []
    },
    {
      "cell_type": "code",
      "metadata": {
        "id": "wjBHv5Ga4aDK"
      },
      "source": [
        "#savefig(\"path_donde_guardar_im.jpeg\")"
      ],
      "execution_count": 11,
      "outputs": []
    },
    {
      "cell_type": "markdown",
      "metadata": {
        "id": "zoDjgy1B4fv_"
      },
      "source": [
        "**Scatter Plot**"
      ]
    },
    {
      "cell_type": "code",
      "metadata": {
        "colab": {
          "base_uri": "https://localhost:8080/",
          "height": 296
        },
        "id": "h0BF0K9J4e63",
        "outputId": "894bc5e6-8211-4632-8708-0ee3f948cd40"
      },
      "source": [
        "data.plot(kind=\"scatter\",x=\"Day Mins\", y=\"Day Charge\")"
      ],
      "execution_count": 12,
      "outputs": [
        {
          "output_type": "execute_result",
          "data": {
            "text/plain": [
              "<AxesSubplot:xlabel='Day Mins', ylabel='Day Charge'>"
            ]
          },
          "metadata": {
            "tags": []
          },
          "execution_count": 12
        },
        {
          "output_type": "display_data",
          "data": {
            "text/plain": [
              "<Figure size 432x288 with 1 Axes>"
            ],
            "image/png": "[encoded data removed]"
          },
          "metadata": {
            "tags": [],
            "needs_background": "light"
          }
        }
      ]
    },
    {
      "cell_type": "code",
      "metadata": {
        "colab": {
          "base_uri": "https://localhost:8080/",
          "height": 296
        },
        "id": "JrZGxNn-5Gpz",
        "outputId": "041e8624-3399-4471-b494-e536ff830ad0"
      },
      "source": [
        "data.plot(kind=\"scatter\",x=\"Night Mins\", y=\"Night Charge\")"
      ],
      "execution_count": 14,
      "outputs": [
        {
          "output_type": "execute_result",
          "data": {
            "text/plain": [
              "<AxesSubplot:xlabel='Night Mins', ylabel='Night Charge'>"
            ]
          },
          "metadata": {
            "tags": []
          },
          "execution_count": 14
        },
        {
          "output_type": "display_data",
          "data": {
            "text/plain": [
              "<Figure size 432x288 with 1 Axes>"
            ],
            "image/png": "[encoded data removed]"
          },
          "metadata": {
            "tags": [],
            "needs_background": "light"
          }
        }
      ]
    },
    {
      "cell_type": "code",
      "metadata": {
        "colab": {
          "base_uri": "https://localhost:8080/",
          "height": 296
        },
        "id": "JUdQ8ldg5Wat",
        "outputId": "a85f67c8-a341-4f10-cc61-7c921fb13843"
      },
      "source": [
        "figure, axs=plt.subplots(2,2,sharey=True,sharex=True)\r\n",
        "data.plot(kind=\"scatter\",x=\"Day Mins\",y=\"Day Charge\",ax=axs[0][0])\r\n",
        "data.plot(kind=\"scatter\",x=\"Night Mins\",y=\"Night Charge\",ax=axs[0][1])\r\n",
        "data.plot(kind=\"scatter\",x=\"Day Calls\", y=\"Day Charge\",ax=axs[1][0])\r\n",
        "data.plot(kind=\"scatter\",x=\"Night Calls\", y=\"Night Charge\",ax=axs[1][1])"
      ],
      "execution_count": 23,
      "outputs": [
        {
          "output_type": "execute_result",
          "data": {
            "text/plain": [
              "<AxesSubplot:xlabel='Night Calls', ylabel='Night Charge'>"
            ]
          },
          "metadata": {
            "tags": []
          },
          "execution_count": 23
        },
        {
          "output_type": "display_data",
          "data": {
            "text/plain": [
              "<Figure size 432x288 with 4 Axes>"
            ],
            "image/png": "[encoded data removed]"
          },
          "metadata": {
            "tags": [],
            "needs_background": "light"
          }
        }
      ]
    },
    {
      "cell_type": "markdown",
      "metadata": {
        "id": "OfQOaias7Wpz"
      },
      "source": [
        "# **Histograma de frecuencias**"
      ]
    },
    {
      "cell_type": "markdown",
      "metadata": {
        "id": "BGP67b9w89Bd"
      },
      "source": [
        "La regla de sturges nos da cuantas divisiones se deben poner en un histograma![regla sturges.png](data:image/png;base64,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)\r\n",
        "\r\n",
        "![regla sturges 2.png](data:image/png;base64,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)"
      ]
    },
    {
      "cell_type": "code",
      "metadata": {
        "colab": {
          "base_uri": "https://localhost:8080/",
          "height": 312
        },
        "id": "sOxQAXYF7Vnz",
        "outputId": "0ae1bf83-bc65-49ca-a715-396511a867e1"
      },
      "source": [
        "#plt.hist(data[\"Day Calls\"],bins=20)#con bins se gestionan la cantidad de divisiones (20 divisiones)\r\n",
        "#plt.hist(data[\"Day Calls\"],bins=[0,30,60,90,120,150,180])#Haciendo divisiones exactas\r\n",
        "k=int(1+np.ceil(np.log2(3333)))#Aplicando la regla de Sturges\r\n",
        "plt.hist(data[\"Day Calls\"],bins=k)\r\n",
        "plt.xlabel(\"Numero de llamadas al dia\")#Añadiendo etiquetas en eje x\r\n",
        "plt.ylabel(\"Frecuencia\")#Añadiendo etiquetas en eje y\r\n",
        "plt.title(\"Histograma del numero de llamadas al dia\")#Añadiendo un titulo"
      ],
      "execution_count": 36,
      "outputs": [
        {
          "output_type": "execute_result",
          "data": {
            "text/plain": [
              "Text(0.5, 1.0, 'Histograma del numero de llamadas al dia')"
            ]
          },
          "metadata": {
            "tags": []
          },
          "execution_count": 36
        },
        {
          "output_type": "display_data",
          "data": {
            "text/plain": [
              "<Figure size 432x288 with 1 Axes>"
            ],
            "image/png": "[encoded data removed]"
          },
          "metadata": {
            "tags": [],
            "needs_background": "light"
          }
        }
      ]
    },
    {
      "cell_type": "markdown",
      "metadata": {
        "id": "WZQJ3-04_FFs"
      },
      "source": [
        "# **Diabrama de caja y bigotes**"
      ]
    },
    {
      "cell_type": "code",
      "metadata": {
        "colab": {
          "base_uri": "https://localhost:8080/",
          "height": 298
        },
        "id": "hWy3io37_IbL",
        "outputId": "31098fa9-5de7-4704-a8bd-f894f39f3cbe"
      },
      "source": [
        "plt.boxplot(data[\"Day Calls\"])\r\n",
        "plt.ylabel(\"Numero de llamadas diarias\")\r\n",
        "plt.title(\"boxplot de las llamadas diarias\")"
      ],
      "execution_count": 39,
      "outputs": [
        {
          "output_type": "execute_result",
          "data": {
            "text/plain": [
              "Text(0.5, 1.0, 'boxplot de las llamadas diarias')"
            ]
          },
          "metadata": {
            "tags": []
          },
          "execution_count": 39
        },
        {
          "output_type": "display_data",
          "data": {
            "text/plain": [
              "<Figure size 432x288 with 1 Axes>"
            ],
            "image/png": "[encoded data removed]"
          },
          "metadata": {
            "tags": [],
            "needs_background": "light"
          }
        }
      ]
    },
    {
      "cell_type": "markdown",
      "metadata": {
        "id": "HRyn6uKUGd4k"
      },
      "source": [
        "OUTLAYER= valores que se salen de los bigotes (representados por bolitas)"
      ]
    },
    {
      "cell_type": "code",
      "metadata": {
        "colab": {
          "base_uri": "https://localhost:8080/"
        },
        "id": "O6RBzy-ZEbcz",
        "outputId": "e3046680-5aee-42de-bf9a-f1bfb8baca4c"
      },
      "source": [
        "data[\"Day Calls\"].describe()"
      ],
      "execution_count": 40,
      "outputs": [
        {
          "output_type": "execute_result",
          "data": {
            "text/plain": [
              "count    3333.000000\n",
              "mean      100.435644\n",
              "std        20.069084\n",
              "min         0.000000\n",
              "25%        87.000000\n",
              "50%       101.000000\n",
              "75%       114.000000\n",
              "max       165.000000\n",
              "Name: Day Calls, dtype: float64"
            ]
          },
          "metadata": {
            "tags": []
          },
          "execution_count": 40
        }
      ]
    },
    {
      "cell_type": "code",
      "metadata": {
        "colab": {
          "base_uri": "https://localhost:8080/"
        },
        "id": "HIfjK8-pFiJK",
        "outputId": "5132d8b7-0e94-4145-dc4e-877ca9c3b922"
      },
      "source": [
        "IQR=114-87#Rango intercuartilico\r\n",
        "IQR"
      ],
      "execution_count": 41,
      "outputs": [
        {
          "output_type": "execute_result",
          "data": {
            "text/plain": [
              "27"
            ]
          },
          "metadata": {
            "tags": []
          },
          "execution_count": 41
        }
      ]
    },
    {
      "cell_type": "markdown",
      "metadata": {
        "id": "eooFJY7SFy-Z"
      },
      "source": [
        "**Bigotes**"
      ]
    },
    {
      "cell_type": "code",
      "metadata": {
        "colab": {
          "base_uri": "https://localhost:8080/"
        },
        "id": "6mo8VSrLFwRb",
        "outputId": "9b3d20df-3e17-4093-810f-0a8383703c80"
      },
      "source": [
        "b1=87-(IQR*1.5)\r\n",
        "b2=114+(IQR*1.5)\r\n",
        "print(f\"bigote 1= {b1}\")\r\n",
        "print(f\"bigote 2= {b2}\")"
      ],
      "execution_count": 44,
      "outputs": [
        {
          "output_type": "stream",
          "text": [
            "bigote 1=46.5\n",
            "bigote 2= 154.5\n"
          ],
          "name": "stdout"
        }
      ]
    }
  ]
}