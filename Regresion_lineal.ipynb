{
  "nbformat": 4,
  "nbformat_minor": 0,
  "metadata": {
    "colab": {
      "name": "Regresion lineal.ipynb",
      "provenance": [],
      "authorship_tag": "ABX9TyNP6LLu/kCHOoUveJ9bGxxC",
      "include_colab_link": true
    },
    "kernelspec": {
      "name": "python3",
      "display_name": "Python 3"
    }
  },
  "cells": [
    {
      "cell_type": "markdown",
      "metadata": {
        "id": "view-in-github",
        "colab_type": "text"
      },
      "source": [
        "<a href=\"https://colab.research.google.com/github/santiagoprado12/cursoMLpython/blob/main/Regresion_lineal.ipynb\" target=\"_parent\"><img src=\"https://colab.research.google.com/assets/colab-badge.svg\" alt=\"Open In Colab\"/></a>"
      ]
    },
    {
      "cell_type": "markdown",
      "metadata": {
        "id": "0chS1UMKKoUP"
      },
      "source": [
        "# Modelos de Regresion Lineal\r\n",
        "## Modelo con datos simulados\r\n",
        "* y=a+b*x\r\n",
        "\r\n",
        "* x=100 valores distribuidos segun una N(1.5 , 2.5)\r\n",
        "\r\n",
        "\r\n",
        "* ye=12+0.6*x+e\r\n",
        "\r\n",
        "* r estara distribuido segun una normal N (0 , 0.8)"
      ]
    },
    {
      "cell_type": "code",
      "metadata": {
        "id": "v3UsVyzPKn_M"
      },
      "source": [
        "import pandas as pd\r\n",
        "import numpy as np"
      ],
      "execution_count": 1,
      "outputs": []
    },
    {
      "cell_type": "code",
      "metadata": {
        "id": "jaXswWyULYdZ"
      },
      "source": [
        "x= 1.5 + 2.5 * np.random.randn(100)"
      ],
      "execution_count": 2,
      "outputs": []
    },
    {
      "cell_type": "code",
      "metadata": {
        "id": "UhHKn_OmLdpw"
      },
      "source": [
        "res = 0 + 0.8*np.random.randn(100)"
      ],
      "execution_count": 3,
      "outputs": []
    },
    {
      "cell_type": "code",
      "metadata": {
        "id": "cLMJRPlSLvTP"
      },
      "source": [
        "y_pred= 4+2*x"
      ],
      "execution_count": 4,
      "outputs": []
    },
    {
      "cell_type": "code",
      "metadata": {
        "id": "upEyr4yyMrNG"
      },
      "source": [
        "y_act= 4+2*x+res"
      ],
      "execution_count": 5,
      "outputs": []
    },
    {
      "cell_type": "code",
      "metadata": {
        "id": "_WFKGmdnMwUF"
      },
      "source": [
        "x_list=x.tolist()\r\n",
        "y_pred_list=y_pred.tolist()\r\n",
        "y_act_list=y_act.tolist()"
      ],
      "execution_count": 6,
      "outputs": []
    },
    {
      "cell_type": "code",
      "metadata": {
        "id": "V7xevzJ3M9I9"
      },
      "source": [
        "data=pd.DataFrame(\r\n",
        "    {\r\n",
        "        \"x\": x_list,\r\n",
        "        \"y\":y_act_list,\r\n",
        "        \"y_prediccion\":y_pred_list\r\n",
        "    }\r\n",
        ")"
      ],
      "execution_count": 7,
      "outputs": []
    },
    {
      "cell_type": "code",
      "metadata": {
        "colab": {
          "base_uri": "https://localhost:8080/",
          "height": 204
        },
        "id": "eRPDFd4TNNS1",
        "outputId": "90c93ad1-adef-47ce-a751-1c34e482f396"
      },
      "source": [
        "data.head()"
      ],
      "execution_count": 8,
      "outputs": [
        {
          "output_type": "execute_result",
          "data": {
            "text/plain": [
              "          x         y  y_prediccion\n",
              "0  0.691708  4.674259      5.383415\n",
              "1  2.171155  8.958153      8.342309\n",
              "2 -0.825821  3.646285      2.348357\n",
              "3  2.867573  9.542268      9.735146\n",
              "4  1.960850  8.075239      7.921700"
            ],
            "text/html": [
              "<div>\n",
              "<style scoped>\n",
              "    .dataframe tbody tr th:only-of-type {\n",
              "        vertical-align: middle;\n",
              "    }\n",
              "\n",
              "    .dataframe tbody tr th {\n",
              "        vertical-align: top;\n",
              "    }\n",
              "\n",
              "    .dataframe thead th {\n",
              "        text-align: right;\n",
              "    }\n",
              "</style>\n",
              "<table border=\"1\" class=\"dataframe\">\n",
              "  <thead>\n",
              "    <tr style=\"text-align: right;\">\n",
              "      <th></th>\n",
              "      <th>x</th>\n",
              "      <th>y</th>\n",
              "      <th>y_prediccion</th>\n",
              "    </tr>\n",
              "  </thead>\n",
              "  <tbody>\n",
              "    <tr>\n",
              "      <th>0</th>\n",
              "      <td>0.691708</td>\n",
              "      <td>4.674259</td>\n",
              "      <td>5.383415</td>\n",
              "    </tr>\n",
              "    <tr>\n",
              "      <th>1</th>\n",
              "      <td>2.171155</td>\n",
              "      <td>8.958153</td>\n",
              "      <td>8.342309</td>\n",
              "    </tr>\n",
              "    <tr>\n",
              "      <th>2</th>\n",
              "      <td>-0.825821</td>\n",
              "      <td>3.646285</td>\n",
              "      <td>2.348357</td>\n",
              "    </tr>\n",
              "    <tr>\n",
              "      <th>3</th>\n",
              "      <td>2.867573</td>\n",
              "      <td>9.542268</td>\n",
              "      <td>9.735146</td>\n",
              "    </tr>\n",
              "    <tr>\n",
              "      <th>4</th>\n",
              "      <td>1.960850</td>\n",
              "      <td>8.075239</td>\n",
              "      <td>7.921700</td>\n",
              "    </tr>\n",
              "  </tbody>\n",
              "</table>\n",
              "</div>"
            ]
          },
          "metadata": {
            "tags": []
          },
          "execution_count": 8
        }
      ]
    },
    {
      "cell_type": "code",
      "metadata": {
        "id": "dQro1WyvNOyt"
      },
      "source": [
        "import matplotlib.pyplot as plt"
      ],
      "execution_count": 9,
      "outputs": []
    },
    {
      "cell_type": "code",
      "metadata": {
        "id": "7urZFW8yOCpe"
      },
      "source": [
        "y_mean=[np.mean(y_act) for i in range(1,len(x_list)+1)]"
      ],
      "execution_count": 10,
      "outputs": []
    },
    {
      "cell_type": "code",
      "metadata": {
        "colab": {
          "base_uri": "https://localhost:8080/",
          "height": 298
        },
        "id": "SrOb7g1BNfPk",
        "outputId": "2533beab-6dd3-48d1-8c0f-518ef593d334"
      },
      "source": [
        "%matplotlib inline\r\n",
        "plt.plot(x,y_pred)\r\n",
        "plt.plot(x, y_act,\"ro\")\r\n",
        "plt.plot(x, y_mean)\r\n",
        "plt.title(\"Valor Actual vs Prediccion\")"
      ],
      "execution_count": 11,
      "outputs": [
        {
          "output_type": "execute_result",
          "data": {
            "text/plain": [
              "Text(0.5, 1.0, 'Valor Actual vs Prediccion')"
            ]
          },
          "metadata": {
            "tags": []
          },
          "execution_count": 11
        },
        {
          "output_type": "display_data",
          "data": {
            "text/plain": [
              "<Figure size 432x288 with 1 Axes>"
            ],
            "image/png": "[encoded data removed]"
          },
          "metadata": {
            "tags": [],
            "needs_background": "light"
          }
        }
      ]
    },
    {
      "cell_type": "code",
      "metadata": {
        "id": "Gm1YFODcNvzk"
      },
      "source": [
        "data[\"SSR\"]=(data['y_prediccion']-np.mean(y_act))**2\r\n",
        "data[\"SSD\"]=(data[\"y_prediccion\"]-data[\"y\"])**2\r\n",
        "data[\"SST\"]=(data[\"y\"]-np.mean(y_act))**2"
      ],
      "execution_count": 12,
      "outputs": []
    },
    {
      "cell_type": "code",
      "metadata": {
        "id": "g_9LaLFKTBJd"
      },
      "source": [
        "SSR=sum(data[\"SSR\"])\r\n",
        "SSD=sum(data[\"SSD\"])\r\n",
        "SST=sum(data[\"SST\"])"
      ],
      "execution_count": 13,
      "outputs": []
    },
    {
      "cell_type": "code",
      "metadata": {
        "colab": {
          "base_uri": "https://localhost:8080/"
        },
        "id": "inds1ksyTYt7",
        "outputId": "2a40a294-4432-4810-a3b1-b5a6f58e8d5a"
      },
      "source": [
        "SSR"
      ],
      "execution_count": 14,
      "outputs": [
        {
          "output_type": "execute_result",
          "data": {
            "text/plain": [
              "2530.003861338269"
            ]
          },
          "metadata": {
            "tags": []
          },
          "execution_count": 14
        }
      ]
    },
    {
      "cell_type": "code",
      "metadata": {
        "colab": {
          "base_uri": "https://localhost:8080/"
        },
        "id": "d-iDD6ozTaqS",
        "outputId": "0d7e30ce-efb8-401f-c11f-1075efb8c936"
      },
      "source": [
        "SSD"
      ],
      "execution_count": 15,
      "outputs": [
        {
          "output_type": "execute_result",
          "data": {
            "text/plain": [
              "47.40886878903376"
            ]
          },
          "metadata": {
            "tags": []
          },
          "execution_count": 15
        }
      ]
    },
    {
      "cell_type": "code",
      "metadata": {
        "colab": {
          "base_uri": "https://localhost:8080/"
        },
        "id": "huR7YgUGTbvS",
        "outputId": "90254a16-55c2-4794-c0f4-4cfc98cf2359"
      },
      "source": [
        "SST"
      ],
      "execution_count": 16,
      "outputs": [
        {
          "output_type": "execute_result",
          "data": {
            "text/plain": [
              "2569.818676805198"
            ]
          },
          "metadata": {
            "tags": []
          },
          "execution_count": 16
        }
      ]
    },
    {
      "cell_type": "code",
      "metadata": {
        "id": "gyhNAFTeTcts"
      },
      "source": [
        "R2=SSR/SST"
      ],
      "execution_count": 17,
      "outputs": []
    },
    {
      "cell_type": "code",
      "metadata": {
        "colab": {
          "base_uri": "https://localhost:8080/"
        },
        "id": "Hq2LZkOwTjHa",
        "outputId": "218614b0-7263-42cd-9b37-3c6381e00e3b"
      },
      "source": [
        "R2"
      ],
      "execution_count": 18,
      "outputs": [
        {
          "output_type": "execute_result",
          "data": {
            "text/plain": [
              "0.9845067607974479"
            ]
          },
          "metadata": {
            "tags": []
          },
          "execution_count": 18
        }
      ]
    },
    {
      "cell_type": "code",
      "metadata": {
        "colab": {
          "base_uri": "https://localhost:8080/",
          "height": 350
        },
        "id": "VOf_3RnuTkNi",
        "outputId": "0d986de8-b4bf-4946-e2f0-3c1002d52fde"
      },
      "source": [
        "plt.hist(data[\"y_prediccion\"]-data[\"y\"])"
      ],
      "execution_count": 19,
      "outputs": [
        {
          "output_type": "execute_result",
          "data": {
            "text/plain": [
              "(array([ 1.,  3., 13., 12., 25., 21., 11.,  8.,  4.,  2.]),\n",
              " array([-1.85935648, -1.49113184, -1.12290719, -0.75468255, -0.3864579 ,\n",
              "        -0.01823326,  0.34999139,  0.71821603,  1.08644068,  1.45466532,\n",
              "         1.82288997]),\n",
              " <BarContainer object of 10 artists>)"
            ]
          },
          "metadata": {
            "tags": []
          },
          "execution_count": 19
        },
        {
          "output_type": "display_data",
          "data": {
            "text/plain": [
              "<Figure size 432x288 with 1 Axes>"
            ],
            "image/png": "[encoded data removed]"
          },
          "metadata": {
            "tags": [],
            "needs_background": "light"
          }
        }
      ]
    },
    {
      "cell_type": "markdown",
      "metadata": {
        "id": "2VjasX_bV-8y"
      },
      "source": [
        "#Obteniendo la recta de regresion\r\n",
        "* y=a+b*x\r\n",
        "* b=sum((xi-x_m)*(y_i-y_m))/sum((xi-x_m)^2)\r\n",
        "* a= y_m-b*x_m"
      ]
    },
    {
      "cell_type": "code",
      "metadata": {
        "colab": {
          "base_uri": "https://localhost:8080/"
        },
        "id": "B3kKPyvBV-fx",
        "outputId": "06cbb1a9-86d1-4167-9569-cf99e12fb9be"
      },
      "source": [
        "x_mean=np.mean(data[\"x\"])\r\n",
        "y_mean=np.mean(data[\"y\"])\r\n",
        "x_mean, y_mean"
      ],
      "execution_count": 20,
      "outputs": [
        {
          "output_type": "execute_result",
          "data": {
            "text/plain": [
              "(1.4759579730817558, 6.995678765649475)"
            ]
          },
          "metadata": {
            "tags": []
          },
          "execution_count": 20
        }
      ]
    },
    {
      "cell_type": "code",
      "metadata": {
        "id": "OpXTWYYvT4aR"
      },
      "source": [
        "data[\"beta_n\"]=(data[\"x\"]-x_mean)*(data[\"y\"]-y_mean)\r\n",
        "data[\"beta_d\"]=(data[\"x\"]-x_mean)**2"
      ],
      "execution_count": 21,
      "outputs": []
    },
    {
      "cell_type": "code",
      "metadata": {
        "id": "ZcFGdAR0YaxA"
      },
      "source": [
        "beta=sum(data[\"beta_n\"])/sum(data[\"beta_d\"])"
      ],
      "execution_count": 22,
      "outputs": []
    },
    {
      "cell_type": "code",
      "metadata": {
        "id": "quHirbpgYhul"
      },
      "source": [
        "alpha=y_mean-beta*x_mean"
      ],
      "execution_count": 23,
      "outputs": []
    },
    {
      "cell_type": "code",
      "metadata": {
        "colab": {
          "base_uri": "https://localhost:8080/"
        },
        "id": "hE_eWZeVYmAs",
        "outputId": "e4a546b6-796c-405a-dad3-4e55852c42dd"
      },
      "source": [
        "#El modelo lineal obtenido por regresion\r\n",
        "alpha,beta"
      ],
      "execution_count": 24,
      "outputs": [
        {
          "output_type": "execute_result",
          "data": {
            "text/plain": [
              "(4.047969913047925, 1.9971495844470575)"
            ]
          },
          "metadata": {
            "tags": []
          },
          "execution_count": 24
        }
      ]
    },
    {
      "cell_type": "code",
      "metadata": {
        "id": "S4DQFA7oYnF9"
      },
      "source": [
        "data[\"y_model\"]=alpha+beta*data[\"x\"]"
      ],
      "execution_count": 25,
      "outputs": []
    },
    {
      "cell_type": "code",
      "metadata": {
        "colab": {
          "base_uri": "https://localhost:8080/",
          "height": 224
        },
        "id": "6umKHqAIY5b9",
        "outputId": "f4d1306b-6f52-4972-d229-4e228d080489"
      },
      "source": [
        "data.head()"
      ],
      "execution_count": 26,
      "outputs": [
        {
          "output_type": "execute_result",
          "data": {
            "text/plain": [
              "          x         y  y_prediccion        SSR       SSD        SST    beta_n  \\\n",
              "0  0.691708  4.674259      5.383415   2.599393  0.502904   5.388992  1.820574   \n",
              "1  2.171155  8.958153      8.342309   1.813414  0.379264   3.851307  1.364306   \n",
              "2 -0.825821  3.646285      2.348357  21.597595  1.684617  11.218436  7.709564   \n",
              "3  2.867573  9.542268      9.735146   7.504681  0.037202   6.485115  3.543871   \n",
              "4  1.960850  8.075239      7.921700   0.857515  0.023574   1.165449  0.523470   \n",
              "\n",
              "     beta_d   y_model  \n",
              "0  0.615048  5.429414  \n",
              "1  0.483299  8.384091  \n",
              "2  5.298188  2.398681  \n",
              "3  1.936592  9.774942  \n",
              "4  0.235120  7.964081  "
            ],
            "text/html": [
              "<div>\n",
              "<style scoped>\n",
              "    .dataframe tbody tr th:only-of-type {\n",
              "        vertical-align: middle;\n",
              "    }\n",
              "\n",
              "    .dataframe tbody tr th {\n",
              "        vertical-align: top;\n",
              "    }\n",
              "\n",
              "    .dataframe thead th {\n",
              "        text-align: right;\n",
              "    }\n",
              "</style>\n",
              "<table border=\"1\" class=\"dataframe\">\n",
              "  <thead>\n",
              "    <tr style=\"text-align: right;\">\n",
              "      <th></th>\n",
              "      <th>x</th>\n",
              "      <th>y</th>\n",
              "      <th>y_prediccion</th>\n",
              "      <th>SSR</th>\n",
              "      <th>SSD</th>\n",
              "      <th>SST</th>\n",
              "      <th>beta_n</th>\n",
              "      <th>beta_d</th>\n",
              "      <th>y_model</th>\n",
              "    </tr>\n",
              "  </thead>\n",
              "  <tbody>\n",
              "    <tr>\n",
              "      <th>0</th>\n",
              "      <td>0.691708</td>\n",
              "      <td>4.674259</td>\n",
              "      <td>5.383415</td>\n",
              "      <td>2.599393</td>\n",
              "      <td>0.502904</td>\n",
              "      <td>5.388992</td>\n",
              "      <td>1.820574</td>\n",
              "      <td>0.615048</td>\n",
              "      <td>5.429414</td>\n",
              "    </tr>\n",
              "    <tr>\n",
              "      <th>1</th>\n",
              "      <td>2.171155</td>\n",
              "      <td>8.958153</td>\n",
              "      <td>8.342309</td>\n",
              "      <td>1.813414</td>\n",
              "      <td>0.379264</td>\n",
              "      <td>3.851307</td>\n",
              "      <td>1.364306</td>\n",
              "      <td>0.483299</td>\n",
              "      <td>8.384091</td>\n",
              "    </tr>\n",
              "    <tr>\n",
              "      <th>2</th>\n",
              "      <td>-0.825821</td>\n",
              "      <td>3.646285</td>\n",
              "      <td>2.348357</td>\n",
              "      <td>21.597595</td>\n",
              "      <td>1.684617</td>\n",
              "      <td>11.218436</td>\n",
              "      <td>7.709564</td>\n",
              "      <td>5.298188</td>\n",
              "      <td>2.398681</td>\n",
              "    </tr>\n",
              "    <tr>\n",
              "      <th>3</th>\n",
              "      <td>2.867573</td>\n",
              "      <td>9.542268</td>\n",
              "      <td>9.735146</td>\n",
              "      <td>7.504681</td>\n",
              "      <td>0.037202</td>\n",
              "      <td>6.485115</td>\n",
              "      <td>3.543871</td>\n",
              "      <td>1.936592</td>\n",
              "      <td>9.774942</td>\n",
              "    </tr>\n",
              "    <tr>\n",
              "      <th>4</th>\n",
              "      <td>1.960850</td>\n",
              "      <td>8.075239</td>\n",
              "      <td>7.921700</td>\n",
              "      <td>0.857515</td>\n",
              "      <td>0.023574</td>\n",
              "      <td>1.165449</td>\n",
              "      <td>0.523470</td>\n",
              "      <td>0.235120</td>\n",
              "      <td>7.964081</td>\n",
              "    </tr>\n",
              "  </tbody>\n",
              "</table>\n",
              "</div>"
            ]
          },
          "metadata": {
            "tags": []
          },
          "execution_count": 26
        }
      ]
    },
    {
      "cell_type": "code",
      "metadata": {
        "id": "HFWX-3pGY6-0"
      },
      "source": [
        "SSR=sum((data['y_model']-y_mean)**2)\r\n",
        "SSD=sum((data[\"y_model\"]-data[\"y\"])**2)\r\n",
        "SST=sum((data[\"y\"]-y_mean)**2)"
      ],
      "execution_count": 27,
      "outputs": []
    },
    {
      "cell_type": "code",
      "metadata": {
        "colab": {
          "base_uri": "https://localhost:8080/"
        },
        "id": "tJQtCYTFZHB8",
        "outputId": "a6c297e5-993c-4c79-f854-5762ae81491d"
      },
      "source": [
        "SSR, SSD, SST"
      ],
      "execution_count": 28,
      "outputs": [
        {
          "output_type": "execute_result",
          "data": {
            "text/plain": [
              "(2522.6064650514595, 47.21221175373855, 2569.818676805198)"
            ]
          },
          "metadata": {
            "tags": []
          },
          "execution_count": 28
        }
      ]
    },
    {
      "cell_type": "code",
      "metadata": {
        "colab": {
          "base_uri": "https://localhost:8080/"
        },
        "id": "aWV8vbr_Zak7",
        "outputId": "f91ae60b-d078-4edd-8eb4-b76b6abe8e7b"
      },
      "source": [
        "R2=SSR/SST\r\n",
        "R2"
      ],
      "execution_count": 29,
      "outputs": [
        {
          "output_type": "execute_result",
          "data": {
            "text/plain": [
              "0.9816281933897248"
            ]
          },
          "metadata": {
            "tags": []
          },
          "execution_count": 29
        }
      ]
    },
    {
      "cell_type": "code",
      "metadata": {
        "colab": {
          "base_uri": "https://localhost:8080/",
          "height": 298
        },
        "id": "LZTrkjFxZjYc",
        "outputId": "1078d284-0f7c-4830-9232-1d2a19479809"
      },
      "source": [
        "%matplotlib inline\r\n",
        "y_mean=[np.mean(y_act) for i in range(1,len(x_list)+1)]\r\n",
        "plt.plot(x,y_pred)\r\n",
        "plt.plot(x, y_act,\"ro\")\r\n",
        "plt.plot(x, y_mean)\r\n",
        "plt.plot(x, data[\"y_model\"])\r\n",
        "plt.title(\"Valor Actual vs Prediccion\")"
      ],
      "execution_count": 30,
      "outputs": [
        {
          "output_type": "execute_result",
          "data": {
            "text/plain": [
              "Text(0.5, 1.0, 'Valor Actual vs Prediccion')"
            ]
          },
          "metadata": {
            "tags": []
          },
          "execution_count": 30
        },
        {
          "output_type": "display_data",
          "data": {
            "text/plain": [
              "<Figure size 432x288 with 1 Axes>"
            ],
            "image/png": "[encoded data removed]"
          },
          "metadata": {
            "tags": [],
            "needs_background": "light"
          }
        }
      ]
    },
    {
      "cell_type": "markdown",
      "metadata": {
        "id": "c5GRCDWLfGtY"
      },
      "source": [
        "# Error estandar de los residuos (RSE)"
      ]
    },
    {
      "cell_type": "code",
      "metadata": {
        "id": "tSIvJSdSZ9sS",
        "colab": {
          "base_uri": "https://localhost:8080/"
        },
        "outputId": "655c4c9a-2de8-48f6-a120-48c467dfbcfa"
      },
      "source": [
        "RSE=np.sqrt(SSD/len((data)-2))\r\n",
        "RSE"
      ],
      "execution_count": 32,
      "outputs": [
        {
          "output_type": "execute_result",
          "data": {
            "text/plain": [
              "0.6871114302188441"
            ]
          },
          "metadata": {
            "tags": []
          },
          "execution_count": 32
        }
      ]
    },
    {
      "cell_type": "code",
      "metadata": {
        "colab": {
          "base_uri": "https://localhost:8080/"
        },
        "id": "hkScUPUkfRox",
        "outputId": "8b6189b5-2d85-4f91-de8d-befa78b243d6"
      },
      "source": [
        "np.mean(data[\"y\"])"
      ],
      "execution_count": 33,
      "outputs": [
        {
          "output_type": "execute_result",
          "data": {
            "text/plain": [
              "6.995678765649475"
            ]
          },
          "metadata": {
            "tags": []
          },
          "execution_count": 33
        }
      ]
    },
    {
      "cell_type": "code",
      "metadata": {
        "colab": {
          "base_uri": "https://localhost:8080/"
        },
        "id": "gSqHJd4Ofa0Z",
        "outputId": "0da624e7-03b3-4970-eab1-5ae0ec9186d1"
      },
      "source": [
        "RSE/np.mean(data[\"y\"])"
      ],
      "execution_count": 34,
      "outputs": [
        {
          "output_type": "execute_result",
          "data": {
            "text/plain": [
              "0.09821940847151707"
            ]
          },
          "metadata": {
            "tags": []
          },
          "execution_count": 34
        }
      ]
    }
  ]
}