{
  "nbformat": 4,
  "nbformat_minor": 0,
  "metadata": {
    "colab": {
      "name": "Ejemplo de diferentes carga de datos con read_csv",
      "provenance": [],
      "authorship_tag": "ABX9TyO/TgAqY9STRCSiqaYWnPPj",
      "include_colab_link": true
    },
    "kernelspec": {
      "name": "python3",
      "display_name": "Python 3"
    }
  },
  "cells": [
    {
      "cell_type": "markdown",
      "metadata": {
        "id": "view-in-github",
        "colab_type": "text"
      },
      "source": [
        "<a href=\"https://colab.research.google.com/github/santiagoprado12/cursoMLpython/blob/main/Ejemplo_de_diferentes_carga_de_datos_con_read_csv.ipynb\" target=\"_parent\"><img src=\"https://colab.research.google.com/assets/colab-badge.svg\" alt=\"Open In Colab\"/></a>"
      ]
    },
    {
      "cell_type": "code",
      "metadata": {
        "id": "6ThyZXc49bTp"
      },
      "source": [
        "import pandas as pd\r\n",
        "import os"
      ],
      "execution_count": 2,
      "outputs": []
    },
    {
      "cell_type": "code",
      "metadata": {
        "id": "6rFId8am1VxN"
      },
      "source": [
        "mainpath=\"/Users/santi/OneDrive/Documents/Curso machine learning con python/Repositorio/python-ml-course/datasets\"\r\n",
        "filename=\"titanic/titanic3.csv\"\r\n",
        "#fullpath=mainpath+\"/\"+filename\r\n",
        "fullpath=os.path.join(mainpath,fullpath) #tiene funciones que ayuda a corregir errores en la sintaxis de la ruta"
      ],
      "execution_count": null,
      "outputs": []
    },
    {
      "cell_type": "code",
      "metadata": {
        "colab": {
          "base_uri": "https://localhost:8080/"
        },
        "id": "i7h-F9Gm94hi",
        "outputId": "2470962c-02b2-4ec0-a4f0-415bc9101410"
      },
      "source": [
        "fullpath"
      ],
      "execution_count": null,
      "outputs": [
        {
          "output_type": "execute_result",
          "data": {
            "text/plain": [
              "'/Users/santi/OneDrive/Documents/Curso machine learning con python/Repositorio/python-ml-course/datasets/titanic/titanic3.csv'"
            ]
          },
          "metadata": {
            "tags": []
          },
          "execution_count": 23
        }
      ]
    },
    {
      "cell_type": "code",
      "metadata": {
        "id": "lVvKMYy59ZME"
      },
      "source": [
        "data=pd.read_csv(fullpath)"
      ],
      "execution_count": null,
      "outputs": []
    },
    {
      "cell_type": "code",
      "metadata": {
        "id": "j0hXeF3m-Ndr"
      },
      "source": [
        "data.head()"
      ],
      "execution_count": null,
      "outputs": []
    },
    {
      "cell_type": "code",
      "metadata": {
        "id": "EjFzG7mS2oqG"
      },
      "source": [
        "data2=pd.read_csv(mainpath+\"/\"+\"customer-churn-model/Customer Churn Model.txt\")"
      ],
      "execution_count": null,
      "outputs": []
    },
    {
      "cell_type": "code",
      "metadata": {
        "id": "VThsLb513Odn"
      },
      "source": [
        "data2.head()"
      ],
      "execution_count": null,
      "outputs": []
    },
    {
      "cell_type": "code",
      "metadata": {
        "id": "DSJBFsjW3svK"
      },
      "source": [
        "data2.columns.values"
      ],
      "execution_count": null,
      "outputs": []
    },
    {
      "cell_type": "markdown",
      "metadata": {
        "id": "uzVaPTDV5QpU"
      },
      "source": [
        "**Cambiar el nombre de las columnas**"
      ]
    },
    {
      "cell_type": "code",
      "metadata": {
        "id": "OLHkCWeQ35Vc"
      },
      "source": [
        "data_cols=pd.read_csv(mainpath+\"/\"+\"customer-churn-model/Customer Churn Columns.csv\")\r\n",
        "data_col_list=data_cols[\"Column_Names\"].tolist()\r\n",
        "data_col_list\r\n",
        "data2=pd.read_csv(mainpath+\"/\"+\"customer-churn-model/Customer Churn Model.txt\",\r\n",
        "                  header=None, names=data_col_list)\r\n",
        "data2.columns.values"
      ],
      "execution_count": null,
      "outputs": []
    },
    {
      "cell_type": "markdown",
      "metadata": {
        "id": "fiB27kZGHkHD"
      },
      "source": [
        "# **Carga de datos a traves de la funcion open**"
      ]
    },
    {
      "cell_type": "code",
      "metadata": {
        "id": "AhhgV7KAHoa-"
      },
      "source": [
        "data3=open(mainpath+\"/\"+\"customer-churn-model/Customer Churn Model.txt\",\"r\")"
      ],
      "execution_count": null,
      "outputs": []
    },
    {
      "cell_type": "code",
      "metadata": {
        "id": "htK6P2IXJJUk"
      },
      "source": [
        "cols=data3.readline().strip().split(\",\")\r\n",
        "n_cols=len(cols)"
      ],
      "execution_count": null,
      "outputs": []
    },
    {
      "cell_type": "code",
      "metadata": {
        "id": "MRZMMNTuJ80f"
      },
      "source": [
        "counter=0\r\n",
        "main_dict={}\r\n",
        "for col in cols:\r\n",
        "    main_dict[col]=[]"
      ],
      "execution_count": null,
      "outputs": []
    },
    {
      "cell_type": "code",
      "metadata": {
        "colab": {
          "base_uri": "https://localhost:8080/"
        },
        "id": "af0OWhdmJ-l2",
        "outputId": "53f40056-afef-47b2-f87e-b7178055cbc3"
      },
      "source": [
        "for line in data3:\r\n",
        "    values=line.strip().split(\",\")\r\n",
        "    for i in range(len(cols)):\r\n",
        "        main_dict[cols[i]].append(values[i])\r\n",
        "    counter+=1\r\n",
        "print(\"El dataset tiene %d filas y %d columnas\"%(counter, n_cols))"
      ],
      "execution_count": null,
      "outputs": [
        {
          "output_type": "stream",
          "text": [
            "El dataset tiene 3333 filas y 21 columnas\n"
          ],
          "name": "stdout"
        }
      ]
    },
    {
      "cell_type": "code",
      "metadata": {
        "id": "1CDAFF_3MJgP"
      },
      "source": [
        "df3=pd.DataFrame(main_dict)\r\n",
        "df3.head()"
      ],
      "execution_count": null,
      "outputs": []
    },
    {
      "cell_type": "markdown",
      "metadata": {
        "id": "IgC_n_kKN0Bj"
      },
      "source": [
        "# **Leer y escribir en fichero**"
      ]
    },
    {
      "cell_type": "code",
      "metadata": {
        "id": "sdf_FPeKN3p5"
      },
      "source": [
        "infile=mainpath+\"/\"+\"customer-churn-model/Customer Churn Model.txt\"\r\n",
        "outfile=mainpath+\"/\"+\"customer-churn-model/Tab Customer Churn Model.txt\""
      ],
      "execution_count": null,
      "outputs": []
    },
    {
      "cell_type": "code",
      "metadata": {
        "id": "LJDsC3q_OFJv"
      },
      "source": [
        "with open(infile,\"r\") as infile1:\r\n",
        "    with open(outfile,\"w\") as outfile1:\r\n",
        "        for line in infile1:\r\n",
        "            fields=line.strip().split(\",\")\r\n",
        "            outfile1.write(\"\\t\".join(fields))\r\n",
        "            outfile1.write(\"\\n\")"
      ],
      "execution_count": null,
      "outputs": []
    },
    {
      "cell_type": "code",
      "metadata": {
        "id": "Uw1eh0wTPuUF"
      },
      "source": [
        "df4=pd.read_csv(outfile, sep=\"\\t\")\r\n",
        "df4.head()"
      ],
      "execution_count": null,
      "outputs": []
    },
    {
      "cell_type": "markdown",
      "metadata": {
        "id": "JHJTD6gYSCpN"
      },
      "source": [
        "# **Leer datos de una URL**"
      ]
    },
    {
      "cell_type": "code",
      "metadata": {
        "id": "BMFRfjw4TIg0"
      },
      "source": [
        "import csv\r\n",
        "import urllib3"
      ],
      "execution_count": null,
      "outputs": []
    },
    {
      "cell_type": "code",
      "metadata": {
        "id": "QWf4Q4OGSGw4"
      },
      "source": [
        "medals_url=\"http://winterolympicsmedals.com/medals.csv\""
      ],
      "execution_count": null,
      "outputs": []
    },
    {
      "cell_type": "code",
      "metadata": {
        "id": "mXkL52DXTQka"
      },
      "source": [
        "http=urllib3.PoolManager()\r\n",
        "r=http.request('GET',medals_url)\r\n",
        "r.status\r\n",
        "response=r.data"
      ],
      "execution_count": null,
      "outputs": []
    },
    {
      "cell_type": "code",
      "metadata": {
        "id": "s9QMWfHKVC1x"
      },
      "source": [
        "data_dict={}\r\n",
        "res=str(response).replace(\"b\\\"\",\"\")\r\n",
        "datos=res.split(\"\\\\n\")\r\n",
        "name_col=datos[0].split(\",\")"
      ],
      "execution_count": null,
      "outputs": []
    },
    {
      "cell_type": "code",
      "metadata": {
        "id": "_C6miM4HgOcw"
      },
      "source": [
        "datos.remove(datos[0])"
      ],
      "execution_count": null,
      "outputs": []
    },
    {
      "cell_type": "code",
      "metadata": {
        "id": "H5-83xOaab7v"
      },
      "source": [
        "for name in name_col:\r\n",
        "    data_dict[name]=[]"
      ],
      "execution_count": null,
      "outputs": []
    },
    {
      "cell_type": "code",
      "metadata": {
        "id": "v2FPjo6HdvUL"
      },
      "source": [
        "for data in datos:\r\n",
        "    valor=data.split(\",\")\r\n",
        "    for i,val in enumerate(name_col):\r\n",
        "        data_dict[val].append(valor[i])  "
      ],
      "execution_count": null,
      "outputs": []
    },
    {
      "cell_type": "code",
      "metadata": {
        "id": "Ld5DG8LRfta-"
      },
      "source": [
        " dframe=pd.DataFrame(data_dict)  \r\n",
        " dframe.head()"
      ],
      "execution_count": null,
      "outputs": []
    },
    {
      "cell_type": "code",
      "metadata": {
        "id": "QPvvtFMcSuto"
      },
      "source": [
        "medals_data=pd.read_csv(medals_url)"
      ],
      "execution_count": null,
      "outputs": []
    },
    {
      "cell_type": "code",
      "metadata": {
        "id": "vdrXmnstS7PP"
      },
      "source": [
        "medals_data.head()"
      ],
      "execution_count": null,
      "outputs": []
    },
    {
      "cell_type": "markdown",
      "metadata": {
        "id": "4e6xgYHv8xM5"
      },
      "source": [
        "**SOLUCION EJERCICIO PROPUESTO**"
      ]
    },
    {
      "cell_type": "code",
      "metadata": {
        "id": "J6FwpzRU9IB_"
      },
      "source": [
        "import urllib3"
      ],
      "execution_count": 13,
      "outputs": []
    },
    {
      "cell_type": "code",
      "metadata": {
        "id": "hO15uVBy8wuC"
      },
      "source": [
        "medals_url=\"http://winterolympicsmedals.com/medals.csv\""
      ],
      "execution_count": 12,
      "outputs": []
    },
    {
      "cell_type": "code",
      "metadata": {
        "colab": {
          "base_uri": "https://localhost:8080/"
        },
        "id": "gOIOz-SO8_OI",
        "outputId": "b18fba0d-35de-413f-9967-a9c0cfe7bbba"
      },
      "source": [
        "http=urllib3.PoolManager()\r\n",
        "r=http.request('GET',medals_url)\r\n",
        "print(f\"el estado ce la respuesta es: {r.status}\")\r\n",
        "response=r.data"
      ],
      "execution_count": 15,
      "outputs": [
        {
          "output_type": "stream",
          "text": [
            "el estado ce la respuesta es: 200\n"
          ],
          "name": "stdout"
        }
      ]
    },
    {
      "cell_type": "markdown",
      "metadata": {
        "id": "S4d-YW3e9oji"
      },
      "source": [
        "**Decodificamos el string binario**"
      ]
    },
    {
      "cell_type": "code",
      "metadata": {
        "id": "HH6dO5jD9U73"
      },
      "source": [
        "str_data=response.decode('utf-8')"
      ],
      "execution_count": 16,
      "outputs": []
    },
    {
      "cell_type": "code",
      "metadata": {
        "id": "xmXa5pG-9thn"
      },
      "source": [
        "lines=str_data.split(\"\\n\")\r\n",
        "col_names=datos[0].split(\",\")\r\n",
        "n_cols=len(col_names)"
      ],
      "execution_count": 22,
      "outputs": []
    },
    {
      "cell_type": "code",
      "metadata": {
        "id": "auomfC-x-Dk-"
      },
      "source": [
        "counter=0\r\n",
        "main_dict={}\r\n",
        "for col in col_names:\r\n",
        "    main_dict[col]=[]"
      ],
      "execution_count": 23,
      "outputs": []
    },
    {
      "cell_type": "code",
      "metadata": {
        "colab": {
          "base_uri": "https://localhost:8080/"
        },
        "id": "Dbjq3rGJ-MJP",
        "outputId": "37a88bb6-ee26-45c7-b23b-713a20b768a8"
      },
      "source": [
        "for line in lines:\r\n",
        "    values=line.strip().split(\",\")\r\n",
        "    for i in range(len(col_names)):\r\n",
        "        main_dict[col_names[i]].append(values[i])\r\n",
        "    counter+=1\r\n",
        "print(\"El data set tiene %d filas y %d columnas\"%(counter, n_cols))\r\n",
        "medals_df=pd.DataFrame(main_dict)\r\n",
        "print(medals_df.head())"
      ],
      "execution_count": 28,
      "outputs": [
        {
          "output_type": "stream",
          "text": [
            "El data set tiene 4624 filas y 8 columnas\n",
            "   Year      City      Sport      Discipline  NOC       Event  Event gender  \\\n",
            "0  Year      City      Sport      Discipline  NOC       Event  Event gender   \n",
            "1  1924  Chamonix    Skating  Figure skating  AUT  individual             M   \n",
            "2  1924  Chamonix    Skating  Figure skating  AUT  individual             W   \n",
            "3  1924  Chamonix    Skating  Figure skating  AUT       pairs             X   \n",
            "4  1924  Chamonix  Bobsleigh       Bobsleigh  BEL    four-man             M   \n",
            "\n",
            "    Medal  \n",
            "0   Medal  \n",
            "1  Silver  \n",
            "2    Gold  \n",
            "3    Gold  \n",
            "4  Bronze  \n"
          ],
          "name": "stdout"
        }
      ]
    },
    {
      "cell_type": "code",
      "metadata": {
        "id": "l9LgQ5SmAQtg"
      },
      "source": [
        "mainpath=\"/Users/santi/OneDrive/Documents/Curso machine learning con python/Repositorio/python-ml-course/datasets\"\r\n",
        "filename=\"athletes/downloaded_medals.\"\r\n",
        "fullpath=os.path.join(mainpath,filename)"
      ],
      "execution_count": 30,
      "outputs": []
    },
    {
      "cell_type": "code",
      "metadata": {
        "id": "KGUJ2HbPAdc7"
      },
      "source": [
        "medals_df.to_csv(fullpath+\"csv\")\r\n",
        "medals_df.to_json(fullpath+\"json\")\r\n",
        "medals_df.to_excel(fullpath+\"xls\")"
      ],
      "execution_count": 31,
      "outputs": []
    },
    {
      "cell_type": "markdown",
      "metadata": {
        "id": "9C9dppgR5NPc"
      },
      "source": [
        "# **FICHEROS TIPO XLS Y XLSX**"
      ]
    },
    {
      "cell_type": "code",
      "metadata": {
        "id": "zgVVwge45Txh"
      },
      "source": [
        "mainpath=\"/Users/santi/OneDrive/Documents/Curso machine learning con python/Repositorio/python-ml-course/datasets\"\r\n",
        "filename=\"titanic/titanic3.xls\""
      ],
      "execution_count": 4,
      "outputs": []
    },
    {
      "cell_type": "code",
      "metadata": {
        "id": "0f4dhFf75l0D"
      },
      "source": [
        "titanic2=pd.read_excel(mainpath+\"/\"+filename,\"titanic3\")"
      ],
      "execution_count": 5,
      "outputs": []
    },
    {
      "cell_type": "code",
      "metadata": {
        "id": "BfUev3Qh604D"
      },
      "source": [
        "titanic3=pd.read_excel(mainpath+\"/\"+filename,\"titanic3\")"
      ],
      "execution_count": 6,
      "outputs": []
    },
    {
      "cell_type": "code",
      "metadata": {
        "id": "mMSYStmY69iJ"
      },
      "source": [
        "titanic3.to_csv(mainpath+\"/titanic/titanic_custom.csv\")"
      ],
      "execution_count": 9,
      "outputs": []
    },
    {
      "cell_type": "code",
      "metadata": {
        "id": "5V7e7QQl7hV5"
      },
      "source": [
        "titanic3.to_csv(mainpath+\"/titanic/titanic_custom.xls\")"
      ],
      "execution_count": 10,
      "outputs": []
    },
    {
      "cell_type": "code",
      "metadata": {
        "id": "VHAenTDF7qu4"
      },
      "source": [
        "titanic3.to_json(mainpath+\"/titanic/titanic_custom.xls\")"
      ],
      "execution_count": 11,
      "outputs": []
    }
  ]
}